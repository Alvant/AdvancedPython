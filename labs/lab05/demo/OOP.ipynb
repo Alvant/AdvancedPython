{
 "cells": [
  {
   "cell_type": "markdown",
   "metadata": {},
   "source": [
    "# OOP"
   ]
  },
  {
   "cell_type": "markdown",
   "metadata": {},
   "source": [
    "![](./images/Figures2.png)"
   ]
  },
  {
   "cell_type": "code",
   "execution_count": 1,
   "metadata": {},
   "outputs": [],
   "source": [
    "import json\n",
    "from typing import Union\n",
    "\n",
    "\n",
    "PI = 3.141592653589793\n",
    "NUMBER_TYPE = Union[int, float]"
   ]
  },
  {
   "cell_type": "markdown",
   "metadata": {},
   "source": [
    "## Парадигма 1: \"Простыня\""
   ]
  },
  {
   "cell_type": "code",
   "execution_count": 2,
   "metadata": {},
   "outputs": [],
   "source": [
    "if __name__ == '__main__':\n",
    "    # RECTANGLE\n",
    "    rectangle_width = 2\n",
    "    rectangle_length = 5\n",
    "    rectangle_perimeter = 2 * (rectangle_width + rectangle_length)\n",
    "    rectangle_square = rectangle_width * rectangle_length\n",
    "    \n",
    "    with open('rectangle.json', 'w') as f:\n",
    "        f.write(\n",
    "            json.dumps({'perimeter': rectangle_perimeter, 'square': rectangle_square}, indent=4)\n",
    "        )\n",
    "    \n",
    "    # CIRCLE\n",
    "    circle_radius = 7\n",
    "    circle_perimeter = 2 * PI * circle_radius\n",
    "    circle_square = PI * (circle_radius ** 2)\n",
    "    \n",
    "    with open('circle.json', 'w') as f:\n",
    "        f.write(\n",
    "            json.dumps({'perimeter': circle_perimeter, 'square': rectangle_square}, indent=4)\n",
    "        )\n",
    "    \n",
    "    # SQUARE\n",
    "    square_length = 3\n",
    "    square_perimeter = 4 * square_length\n",
    "    square_square = square_length * square_length\n",
    "    \n",
    "    with open('square.json', 'w') as f:\n",
    "        f.write(\n",
    "            json.dumps({'perimeter': square_perimeter, 'square': square_square}, indent=4)\n",
    "        )\n",
    "    \n",
    "    # ANOTHER SQUARE\n",
    "    square_length2 = 17.5\n",
    "    square_perimeter2 = 4 * square_length2\n",
    "    square_square2 = square_length2 * square_length2\n",
    "    \n",
    "    with open('square2.json', 'w') as f:\n",
    "        f.write(\n",
    "            json.dumps({'perimeter': square_perimeter2, 'square': square_square2}, indent=4)\n",
    "        )"
   ]
  },
  {
   "cell_type": "code",
   "execution_count": 3,
   "metadata": {},
   "outputs": [
    {
     "name": "stdout",
     "output_type": "stream",
     "text": [
      "{\n",
      "    \"perimeter\": 14,\n",
      "    \"square\": 10\n",
      "}\n"
     ]
    }
   ],
   "source": [
    "! cat rectangle.json"
   ]
  },
  {
   "cell_type": "markdown",
   "metadata": {},
   "source": [
    "## Парадигма 2: Процедурная"
   ]
  },
  {
   "cell_type": "code",
   "execution_count": 4,
   "metadata": {},
   "outputs": [],
   "source": [
    "def save_calculations(\n",
    "        perimeter: NUMBER_TYPE, square: NUMBER_TYPE, file_path: str, indent: int = 4\n",
    "        ) -> None:\n",
    "    with open(file_path, 'w') as f:\n",
    "        f.write(\n",
    "            json.dumps({'perimeter': perimeter, 'square': square}, indent=indent)\n",
    "        )"
   ]
  },
  {
   "cell_type": "code",
   "execution_count": 5,
   "metadata": {},
   "outputs": [],
   "source": [
    "if __name__ == '__main__':\n",
    "    # RECTANGLE\n",
    "    rectangle_width = 2\n",
    "    rectangle_length = 5\n",
    "    rectangle_perimeter = 2 * (rectangle_width + rectangle_length)\n",
    "    rectangle_square = rectangle_width * rectangle_length\n",
    "    save_calculations(rectangle_perimeter, rectangle_square, 'rectangle.json')\n",
    "\n",
    "    # CIRCLE\n",
    "    circle_radius = 7\n",
    "    circle_perimeter = 2 * PI * circle_radius\n",
    "    circle_square = PI * (circle_radius ** 2)\n",
    "    save_calculations(circle_perimeter, circle_square, 'circle.json')\n",
    "    \n",
    "    # SQUARE\n",
    "    square_length = 3\n",
    "    square_perimeter = 4 * square_length\n",
    "    square_square = square_length * square_length\n",
    "    save_calculations(square_perimeter, square_square, 'square.json')\n",
    "\n",
    "    # ANOTHER SQUARE\n",
    "    square_length2 = 17.5\n",
    "    square_perimeter2 = 4 * square_length2\n",
    "    square_square2 = square_length2 * square_length2\n",
    "    save_calculations(square_perimeter2, square_square2, 'square2.json')"
   ]
  },
  {
   "cell_type": "markdown",
   "metadata": {},
   "source": [
    "## Парадигма 3: Объектно-ориентированная (ООП)"
   ]
  },
  {
   "cell_type": "code",
   "execution_count": 6,
   "metadata": {},
   "outputs": [],
   "source": [
    "class BaseFigure:\n",
    "    def get_perimeter(self) -> NUMBER_TYPE:\n",
    "        raise NotImplementedError()\n",
    "    \n",
    "    def get_square(self) -> NUMBER_TYPE:\n",
    "        raise NotImplementedError()\n",
    "    \n",
    "    def __str__(self):\n",
    "        return 'BaseFigure'"
   ]
  },
  {
   "cell_type": "code",
   "execution_count": 7,
   "metadata": {},
   "outputs": [],
   "source": [
    "base = BaseFigure()"
   ]
  },
  {
   "cell_type": "code",
   "execution_count": 8,
   "metadata": {},
   "outputs": [
    {
     "name": "stdout",
     "output_type": "stream",
     "text": [
      "BaseFigure\n"
     ]
    }
   ],
   "source": [
    "print(base)"
   ]
  },
  {
   "cell_type": "code",
   "execution_count": 9,
   "metadata": {},
   "outputs": [],
   "source": [
    "del base"
   ]
  },
  {
   "cell_type": "code",
   "execution_count": 10,
   "metadata": {},
   "outputs": [],
   "source": [
    "class Rectangle(BaseFigure):\n",
    "    def __init__(self, width: NUMBER_TYPE, length: NUMBER_TYPE):\n",
    "        self.width = width\n",
    "        self.length = length\n",
    "    \n",
    "    def get_perimeter(self) -> NUMBER_TYPE:\n",
    "        return 2 * (self.width + self.length)\n",
    "    \n",
    "    def get_square(self) -> NUMBER_TYPE:\n",
    "        return self.width * self.length"
   ]
  },
  {
   "cell_type": "code",
   "execution_count": 11,
   "metadata": {},
   "outputs": [],
   "source": [
    "class Square(Rectangle):\n",
    "    def __init__(self, length: NUMBER_TYPE):\n",
    "        super().__init__(width=length, length=length)"
   ]
  },
  {
   "cell_type": "code",
   "execution_count": 12,
   "metadata": {},
   "outputs": [],
   "source": [
    "class Circle(BaseFigure):\n",
    "    def __init__(self, radius: NUMBER_TYPE):\n",
    "        self.radius = radius\n",
    "    \n",
    "    def get_perimeter(self) -> NUMBER_TYPE:\n",
    "        return 2 * PI * self.radius\n",
    "    \n",
    "    def get_square(self) -> NUMBER_TYPE:\n",
    "        return PI * (self.radius ** 2)"
   ]
  },
  {
   "cell_type": "code",
   "execution_count": 13,
   "metadata": {},
   "outputs": [],
   "source": [
    "rectangle = Rectangle(2, 5)"
   ]
  },
  {
   "cell_type": "code",
   "execution_count": 14,
   "metadata": {},
   "outputs": [
    {
     "data": {
      "text/plain": [
       "(2, 5)"
      ]
     },
     "execution_count": 14,
     "metadata": {},
     "output_type": "execute_result"
    }
   ],
   "source": [
    "rectangle.width, rectangle.length"
   ]
  },
  {
   "cell_type": "code",
   "execution_count": 15,
   "metadata": {},
   "outputs": [
    {
     "data": {
      "text/plain": [
       "14"
      ]
     },
     "execution_count": 15,
     "metadata": {},
     "output_type": "execute_result"
    }
   ],
   "source": [
    "rectangle.get_perimeter()"
   ]
  },
  {
   "cell_type": "code",
   "execution_count": 16,
   "metadata": {},
   "outputs": [
    {
     "data": {
      "text/plain": [
       "10"
      ]
     },
     "execution_count": 16,
     "metadata": {},
     "output_type": "execute_result"
    }
   ],
   "source": [
    "rectangle.get_square()"
   ]
  },
  {
   "cell_type": "code",
   "execution_count": 17,
   "metadata": {},
   "outputs": [],
   "source": [
    "square = Square(7)"
   ]
  },
  {
   "cell_type": "code",
   "execution_count": 18,
   "metadata": {},
   "outputs": [
    {
     "data": {
      "text/plain": [
       "28"
      ]
     },
     "execution_count": 18,
     "metadata": {},
     "output_type": "execute_result"
    }
   ],
   "source": [
    "square.get_perimeter()"
   ]
  },
  {
   "cell_type": "code",
   "execution_count": 19,
   "metadata": {},
   "outputs": [
    {
     "data": {
      "text/plain": [
       "49"
      ]
     },
     "execution_count": 19,
     "metadata": {},
     "output_type": "execute_result"
    }
   ],
   "source": [
    "square.get_square()"
   ]
  },
  {
   "cell_type": "code",
   "execution_count": 20,
   "metadata": {},
   "outputs": [],
   "source": [
    "circle = Circle(3)"
   ]
  },
  {
   "cell_type": "code",
   "execution_count": 21,
   "metadata": {},
   "outputs": [
    {
     "data": {
      "text/plain": [
       "18.84955592153876"
      ]
     },
     "execution_count": 21,
     "metadata": {},
     "output_type": "execute_result"
    }
   ],
   "source": [
    "circle.get_perimeter()"
   ]
  },
  {
   "cell_type": "code",
   "execution_count": 22,
   "metadata": {},
   "outputs": [
    {
     "data": {
      "text/plain": [
       "28.274333882308138"
      ]
     },
     "execution_count": 22,
     "metadata": {},
     "output_type": "execute_result"
    }
   ],
   "source": [
    "circle.get_square()"
   ]
  },
  {
   "cell_type": "code",
   "execution_count": 23,
   "metadata": {},
   "outputs": [],
   "source": [
    "if __name__ == '__main__':\n",
    "    figure1 = Rectangle(2, 5)\n",
    "    save_calculations(\n",
    "        perimeter=figure1.get_perimeter(), square=figure1.get_square(), file_path='rectangle.json'\n",
    "    )\n",
    "\n",
    "    figure2 = Circle(7)\n",
    "    save_calculations(\n",
    "        perimeter=figure2.get_perimeter(), square=figure2.get_square(), file_path='circle.json'\n",
    "    )\n",
    "    \n",
    "    figure3 = Square(3)\n",
    "    save_calculations(\n",
    "        perimeter=figure3.get_perimeter(), square=figure3.get_square(), file_path='square.json'\n",
    "    )\n",
    "\n",
    "    figure4 = Square(17.5)\n",
    "    save_calculations(\n",
    "        perimeter=figure4.get_perimeter(), square=figure4.get_square(), file_path='square2.json'\n",
    "    )"
   ]
  },
  {
   "cell_type": "code",
   "execution_count": 24,
   "metadata": {},
   "outputs": [
    {
     "name": "stdout",
     "output_type": "stream",
     "text": [
      "{\n",
      "    \"perimeter\": 70.0,\n",
      "    \"square\": 306.25\n",
      "}\n"
     ]
    }
   ],
   "source": [
    "! cat square2.json"
   ]
  },
  {
   "cell_type": "markdown",
   "metadata": {},
   "source": [
    "## Дополнение 1: \"Круглая собака\", или \"Не самый удачный (но и не самый плохой) пример на Множественное наследование\"\n",
    "\n",
    "![](./images/CircleDog.png)"
   ]
  },
  {
   "cell_type": "code",
   "execution_count": 25,
   "metadata": {},
   "outputs": [],
   "source": [
    "class Dog:\n",
    "    def bark(self) -> None:\n",
    "        print(\"Гав гав !\")"
   ]
  },
  {
   "cell_type": "code",
   "execution_count": 26,
   "metadata": {},
   "outputs": [],
   "source": [
    "dog = Dog()"
   ]
  },
  {
   "cell_type": "code",
   "execution_count": 27,
   "metadata": {},
   "outputs": [
    {
     "name": "stdout",
     "output_type": "stream",
     "text": [
      "Гав гав !\n"
     ]
    }
   ],
   "source": [
    "dog.bark()"
   ]
  },
  {
   "cell_type": "code",
   "execution_count": 28,
   "metadata": {},
   "outputs": [],
   "source": [
    "class CircleDog(Circle, Dog):\n",
    "    pass"
   ]
  },
  {
   "cell_type": "code",
   "execution_count": 29,
   "metadata": {},
   "outputs": [],
   "source": [
    "circle_dog = CircleDog(17)"
   ]
  },
  {
   "cell_type": "markdown",
   "metadata": {},
   "source": [
    "(Deleted? Откуда тут \"Deleted\"!?.. 🤔)"
   ]
  },
  {
   "cell_type": "code",
   "execution_count": 30,
   "metadata": {},
   "outputs": [
    {
     "name": "stdout",
     "output_type": "stream",
     "text": [
      "Гав гав !\n",
      "17\n",
      "106.81415022205297\n"
     ]
    }
   ],
   "source": [
    "circle_dog.bark()\n",
    "\n",
    "print(circle_dog.radius)\n",
    "print(circle_dog.get_perimeter())"
   ]
  },
  {
   "cell_type": "code",
   "execution_count": 31,
   "metadata": {},
   "outputs": [],
   "source": [
    "# Reverse order of parents\n",
    "\n",
    "class CircleDog(Dog, Circle):\n",
    "    pass"
   ]
  },
  {
   "cell_type": "code",
   "execution_count": 32,
   "metadata": {},
   "outputs": [],
   "source": [
    "circle_dog = CircleDog(17)"
   ]
  },
  {
   "cell_type": "code",
   "execution_count": 33,
   "metadata": {},
   "outputs": [
    {
     "name": "stdout",
     "output_type": "stream",
     "text": [
      "Гав гав !\n",
      "17\n",
      "106.81415022205297\n"
     ]
    }
   ],
   "source": [
    "circle_dog.bark()\n",
    "\n",
    "print(circle_dog.radius)\n",
    "print(circle_dog.get_perimeter())"
   ]
  },
  {
   "cell_type": "markdown",
   "metadata": {},
   "source": [
    "### У каждого родителя конструктор с параметрами"
   ]
  },
  {
   "cell_type": "code",
   "execution_count": 34,
   "metadata": {},
   "outputs": [],
   "source": [
    "class Dog:\n",
    "    def __init__(self, color: str):\n",
    "        self.color = color\n",
    "\n",
    "    def bark(self) -> None:\n",
    "        print(\"Гав гав !\")"
   ]
  },
  {
   "cell_type": "code",
   "execution_count": 35,
   "metadata": {},
   "outputs": [],
   "source": [
    "class CircleDog(Circle, Dog):\n",
    "    pass"
   ]
  },
  {
   "cell_type": "code",
   "execution_count": 37,
   "metadata": {},
   "outputs": [
    {
     "name": "stdout",
     "output_type": "stream",
     "text": [
      "__init__() takes 2 positional arguments but 3 were given\n"
     ]
    }
   ],
   "source": [
    "try:\n",
    "    circle_dog = CircleDog('red', 17)\n",
    "except TypeError as error:\n",
    "    print(error)"
   ]
  },
  {
   "cell_type": "markdown",
   "metadata": {},
   "source": [
    "### Порядок родителей влияет"
   ]
  },
  {
   "cell_type": "code",
   "execution_count": 38,
   "metadata": {},
   "outputs": [
    {
     "name": "stdout",
     "output_type": "stream",
     "text": [
      "__init__() missing 1 required positional argument: 'radius'\n",
      "__init__() missing 1 required positional argument: 'color'\n"
     ]
    }
   ],
   "source": [
    "class CircleDog(Circle, Dog):\n",
    "    def __init__(self, color: str, radius: NUMBER_TYPE):\n",
    "        super().__init__()\n",
    "\n",
    "try:\n",
    "    circle_dog = CircleDog('red', 17)\n",
    "except TypeError as error:\n",
    "    print(error)\n",
    "\n",
    "\n",
    "# Reverse order of parents\n",
    "\n",
    "class CircleDog(Dog, Circle):\n",
    "    def __init__(self, color: str, radius: NUMBER_TYPE):\n",
    "        super().__init__()\n",
    "\n",
    "try:\n",
    "    circle_dog = CircleDog('red', 17)\n",
    "except TypeError as error:\n",
    "    print(error)"
   ]
  },
  {
   "cell_type": "markdown",
   "metadata": {},
   "source": [
    "### \"Ручной режим\" вызова родительских конструкторов"
   ]
  },
  {
   "cell_type": "code",
   "execution_count": 39,
   "metadata": {},
   "outputs": [],
   "source": [
    "class CircleDog(Circle, Dog):\n",
    "    def __init__(self, color, radius):\n",
    "        Circle.__init__(self, radius)\n",
    "        Dog.__init__(self, color)"
   ]
  },
  {
   "cell_type": "code",
   "execution_count": 40,
   "metadata": {},
   "outputs": [],
   "source": [
    "circle_dog = CircleDog('red', 17)"
   ]
  },
  {
   "cell_type": "code",
   "execution_count": 41,
   "metadata": {},
   "outputs": [
    {
     "name": "stdout",
     "output_type": "stream",
     "text": [
      "Гав гав !\n",
      "106.81415022205297\n"
     ]
    }
   ],
   "source": [
    "circle_dog.bark()\n",
    "\n",
    "print(circle_dog.get_perimeter())"
   ]
  },
  {
   "cell_type": "markdown",
   "metadata": {},
   "source": [
    "## Дополнение 2: Свойства (\"Getter/Setter v.2\")"
   ]
  },
  {
   "cell_type": "markdown",
   "metadata": {},
   "source": [
    "### Getter"
   ]
  },
  {
   "cell_type": "code",
   "execution_count": 42,
   "metadata": {},
   "outputs": [],
   "source": [
    "class Rectangle:\n",
    "    def __init__(self, width: NUMBER_TYPE, length: NUMBER_TYPE):\n",
    "        self.width = width\n",
    "        self.length = length\n",
    "        self._private_var = \"You can touch me, but at your own risk\"\n",
    "    \n",
    "    @property\n",
    "    def perimeter(self) -> NUMBER_TYPE:\n",
    "        return 2 * (self.width + self.length)\n",
    "    \n",
    "    def get_square(self) -> NUMBER_TYPE:\n",
    "        return self.width * self.length"
   ]
  },
  {
   "cell_type": "code",
   "execution_count": 43,
   "metadata": {},
   "outputs": [],
   "source": [
    "rectangle = Rectangle(3, 4)"
   ]
  },
  {
   "cell_type": "code",
   "execution_count": 44,
   "metadata": {},
   "outputs": [
    {
     "data": {
      "text/plain": [
       "14"
      ]
     },
     "execution_count": 44,
     "metadata": {},
     "output_type": "execute_result"
    }
   ],
   "source": [
    "rectangle.perimeter"
   ]
  },
  {
   "cell_type": "code",
   "execution_count": 45,
   "metadata": {},
   "outputs": [
    {
     "data": {
      "text/plain": [
       "'Rectangle'"
      ]
     },
     "execution_count": 45,
     "metadata": {},
     "output_type": "execute_result"
    }
   ],
   "source": [
    "rectangle.__class__.__name__"
   ]
  }
 ],
 "metadata": {
  "kernelspec": {
   "display_name": "Python 3",
   "language": "python",
   "name": "python3"
  },
  "language_info": {
   "codemirror_mode": {
    "name": "ipython",
    "version": 3
   },
   "file_extension": ".py",
   "mimetype": "text/x-python",
   "name": "python",
   "nbconvert_exporter": "python",
   "pygments_lexer": "ipython3",
   "version": "3.6.7"
  }
 },
 "nbformat": 4,
 "nbformat_minor": 2
}
