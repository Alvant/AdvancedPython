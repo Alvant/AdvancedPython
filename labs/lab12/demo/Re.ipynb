{
 "cells": [
  {
   "cell_type": "markdown",
   "metadata": {},
   "source": [
    "## \"Флэшбэк\"\n",
    "\n",
    "### Сдать решение задачи A-Произведение чисел в строке\n",
    "\n",
    "**Полный балл**:\t50  \n",
    "**Штраф за посылку**:\t1  \n",
    "**Ограничение времени**:\t1 с  \n",
    "**Ограничение реального времени**:\t1 с  \n",
    "**Ограничение памяти**:\t64M\n",
    "\n",
    "Для заданной строки символов вычислить произведение входящих в эту строку целых чисел (без учета их знаков).\n",
    "\n",
    "### Формат входных данных\n",
    "\n",
    "Одна строка\n",
    "\n",
    "### Формат выходных данных\n",
    "\n",
    "Произведение чисел в строке.\n",
    "\n",
    "### Примеры\n",
    "\n",
    "```\n",
    "Ввод:\n",
    "kjjjkkj2.5jkjn,,,hfd45jgfvjlkfdii10,2hfhg\n",
    "\n",
    "Вывод:\n",
    "9000\n",
    "```"
   ]
  },
  {
   "cell_type": "markdown",
   "metadata": {},
   "source": [
    "## \"Сила Re\""
   ]
  },
  {
   "cell_type": "code",
   "execution_count": 1,
   "metadata": {},
   "outputs": [],
   "source": [
    "import re"
   ]
  },
  {
   "cell_type": "code",
   "execution_count": 2,
   "metadata": {},
   "outputs": [],
   "source": [
    "STRING = 'kjjjkkj2.5jkjn,,,hfd45jgfvjlkfdii10,2hfhg'"
   ]
  },
  {
   "cell_type": "markdown",
   "metadata": {},
   "source": [
    "### Решение"
   ]
  },
  {
   "cell_type": "code",
   "execution_count": 6,
   "metadata": {},
   "outputs": [
    {
     "name": "stdout",
     "output_type": "stream",
     "text": [
      "['2', '5', '45', '10', '2']\n",
      "[2, 5, 45, 10, 2]\n"
     ]
    }
   ],
   "source": [
    "numbers = re.findall(r'\\d+', STRING)\n",
    "\n",
    "print(numbers)\n",
    "\n",
    "numbers = [int(n) for n in numbers]\n",
    "\n",
    "print(numbers)"
   ]
  },
  {
   "cell_type": "markdown",
   "metadata": {},
   "source": [
    "### Решение \"похожей, но другой\" задачи"
   ]
  },
  {
   "cell_type": "code",
   "execution_count": 7,
   "metadata": {},
   "outputs": [
    {
     "name": "stdout",
     "output_type": "stream",
     "text": [
      "['2.5', '45', '10', '2']\n",
      "[2.5, 45.0, 10.0, 2.0]\n"
     ]
    }
   ],
   "source": [
    "numbers = re.findall(r'\\d+\\.?\\d+|\\d+', STRING)\n",
    "\n",
    "print(numbers)\n",
    "\n",
    "numbers = [float(n) for n in numbers]\n",
    "\n",
    "print(numbers)"
   ]
  }
 ],
 "metadata": {
  "kernelspec": {
   "display_name": "Python 3",
   "language": "python",
   "name": "python3"
  },
  "language_info": {
   "codemirror_mode": {
    "name": "ipython",
    "version": 3
   },
   "file_extension": ".py",
   "mimetype": "text/x-python",
   "name": "python",
   "nbconvert_exporter": "python",
   "pygments_lexer": "ipython3",
   "version": "3.6.7"
  }
 },
 "nbformat": 4,
 "nbformat_minor": 4
}
