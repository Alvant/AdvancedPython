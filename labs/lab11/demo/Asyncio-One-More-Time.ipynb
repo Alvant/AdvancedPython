{
 "cells": [
  {
   "cell_type": "markdown",
   "metadata": {},
   "source": [
    "# Asyncio. One More Time\n",
    "\n",
    "Previously about Async: [Coroutines-Into-the-Async.ipynb](../lab09/demo/Coroutines-Into-the-Async.ipynb).\n",
    "\n",
    "## Contents<a id=\"contents\"></a>\n",
    "\n",
    "* [Sync vs. Async](#sync-vs-async)\n",
    "  * [Sync](#sync)\n",
    "  * [Kinda Async](#kinda-async)\n",
    "  * [Still Kinda](#kinda-async2)\n",
    "  * [Real Async](#real-async)\n",
    "  * [...Even This Way](#even-this-way)\n",
    "* [Coroutine vs. Future vs. Task](#coroutine-vs-future-vs-task)\n",
    "  * [Coroutines](#coroutines)\n",
    "  * [Futures](#futures)\n",
    "  * [Tasks](#tasks)\n",
    "* [Deeper Into Tasks](#deeper-into-tasks)"
   ]
  },
  {
   "cell_type": "code",
   "execution_count": null,
   "metadata": {},
   "outputs": [],
   "source": [
    "import asyncio\n",
    "\n",
    "from typing import Awaitable\n",
    "\n",
    "\n",
    "# Auxiliary library to work with asyncio in Jupyter Notebook\n",
    "\n",
    "import nest_asyncio\n",
    "\n",
    "nest_asyncio.apply()"
   ]
  },
  {
   "cell_type": "markdown",
   "metadata": {},
   "source": [
    "## Sync vs. Async<a id=\"sync-vs-async\"></a>\n",
    "\n",
    "### Sync<a id=\"sync\"></a>\n",
    "<div style=\"text-align: right;\"><a href=#contents>Back to Contents</a></div>"
   ]
  },
  {
   "cell_type": "code",
   "execution_count": null,
   "metadata": {},
   "outputs": [],
   "source": [
    "def print_hello() -> None:\n",
    "    print('Hello')\n",
    "\n",
    "\n",
    "def print_world() -> None:\n",
    "    print('World')"
   ]
  },
  {
   "cell_type": "code",
   "execution_count": null,
   "metadata": {},
   "outputs": [
    {
     "name": "stdout",
     "output_type": "stream",
     "text": [
      "Hello\n",
      "World\n"
     ]
    }
   ],
   "source": [
    "print_hello()\n",
    "print_world()"
   ]
  },
  {
   "cell_type": "code",
   "execution_count": null,
   "metadata": {},
   "outputs": [],
   "source": [
    "del print_hello\n",
    "del print_world"
   ]
  },
  {
   "cell_type": "markdown",
   "metadata": {},
   "source": [
    "### Kinda Async<a id=\"kinda-async\"></a>\n",
    "<div style=\"text-align: right;\"><a href=#contents>Back to Contents</a></div>"
   ]
  },
  {
   "cell_type": "code",
   "execution_count": null,
   "metadata": {},
   "outputs": [],
   "source": [
    "async def print_hello_async() -> Awaitable[None]:\n",
    "    print('Hello')\n",
    "\n",
    "\n",
    "async def print_world_async() -> Awaitable[None]:\n",
    "    print('World')"
   ]
  },
  {
   "cell_type": "code",
   "execution_count": null,
   "metadata": {},
   "outputs": [
    {
     "name": "stdout",
     "output_type": "stream",
     "text": [
      "Hello\n",
      "World\n"
     ]
    }
   ],
   "source": [
    "future1 = asyncio.ensure_future(print_hello_async())\n",
    "future2 = asyncio.ensure_future(print_world_async())"
   ]
  },
  {
   "cell_type": "code",
   "execution_count": null,
   "metadata": {},
   "outputs": [],
   "source": [
    "del print_hello_async\n",
    "del print_world_async\n",
    "del future1\n",
    "del future2"
   ]
  },
  {
   "cell_type": "markdown",
   "metadata": {},
   "source": [
    "### Still Kinda<a id=\"kinda-async2\"></a>\n",
    "<div style=\"text-align: right;\"><a href=#contents>Back to Contents</a></div>"
   ]
  },
  {
   "cell_type": "code",
   "execution_count": null,
   "metadata": {},
   "outputs": [],
   "source": [
    "async def print_hello_async() -> Awaitable[None]:\n",
    "    asyncio.sleep(1)  # Async sleep\n",
    "    \n",
    "    print('Hello')\n",
    "\n",
    "\n",
    "async def print_world_async() -> Awaitable[None]:\n",
    "    print('World')"
   ]
  },
  {
   "cell_type": "code",
   "execution_count": null,
   "metadata": {},
   "outputs": [
    {
     "name": "stderr",
     "output_type": "stream",
     "text": [
      "D:\\Maths\\Anaconda3\\envs\\py7\\lib\\site-packages\\ipykernel_launcher.py:2: RuntimeWarning: coroutine 'sleep' was never awaited\n",
      "  \n",
      "RuntimeWarning: Enable tracemalloc to get the object allocation traceback\n"
     ]
    },
    {
     "name": "stdout",
     "output_type": "stream",
     "text": [
      "Hello\n",
      "World\n"
     ]
    }
   ],
   "source": [
    "future1 = asyncio.ensure_future(print_hello_async())\n",
    "future2 = asyncio.ensure_future(print_world_async())"
   ]
  },
  {
   "cell_type": "markdown",
   "metadata": {},
   "source": [
    "> coroutine 'sleep' was never awaited...\n",
    "\n",
    "🤔"
   ]
  },
  {
   "cell_type": "code",
   "execution_count": null,
   "metadata": {},
   "outputs": [],
   "source": [
    "del print_hello_async\n",
    "del print_world_async\n",
    "del future1\n",
    "del future2"
   ]
  },
  {
   "cell_type": "markdown",
   "metadata": {},
   "source": [
    "### Real Async<a id=\"real-async\"></a>\n",
    "<div style=\"text-align: right;\"><a href=#contents>Back to Contents</a></div>"
   ]
  },
  {
   "cell_type": "code",
   "execution_count": null,
   "metadata": {},
   "outputs": [],
   "source": [
    "async def print_hello_async() -> Awaitable[None]:\n",
    "    await asyncio.sleep(0.5)\n",
    "    \n",
    "    print('Hello')\n",
    "\n",
    "\n",
    "async def print_world_async() -> Awaitable[None]:\n",
    "    print('World')"
   ]
  },
  {
   "cell_type": "code",
   "execution_count": null,
   "metadata": {},
   "outputs": [
    {
     "name": "stdout",
     "output_type": "stream",
     "text": [
      "World\n",
      "Hello\n"
     ]
    }
   ],
   "source": [
    "future1 = asyncio.ensure_future(print_hello_async())\n",
    "future2 = asyncio.ensure_future(print_world_async())"
   ]
  },
  {
   "cell_type": "code",
   "execution_count": null,
   "metadata": {},
   "outputs": [],
   "source": [
    "del print_hello_async\n",
    "del print_world_async\n",
    "del future1\n",
    "del future2"
   ]
  },
  {
   "cell_type": "markdown",
   "metadata": {},
   "source": [
    "### ...Even This Way<a id=\"even-this-way\"></a>\n",
    "<div style=\"text-align: right;\"><a href=#contents>Back to Contents</a></div>"
   ]
  },
  {
   "cell_type": "code",
   "execution_count": null,
   "metadata": {},
   "outputs": [],
   "source": [
    "async def print_hello_async():\n",
    "    await asyncio.sleep(0)  # No actual sleep!\n",
    "    \n",
    "    print('Hello')\n",
    "\n",
    "\n",
    "async def print_world_async():\n",
    "    print('World')"
   ]
  },
  {
   "cell_type": "code",
   "execution_count": null,
   "metadata": {},
   "outputs": [
    {
     "name": "stdout",
     "output_type": "stream",
     "text": [
      "World\n",
      "Hello\n"
     ]
    }
   ],
   "source": [
    "future1 = asyncio.ensure_future(print_hello_async())\n",
    "future2 = asyncio.ensure_future(print_world_async())"
   ]
  },
  {
   "cell_type": "code",
   "execution_count": null,
   "metadata": {},
   "outputs": [],
   "source": [
    "del print_hello_async\n",
    "del print_world_async\n",
    "del future1\n",
    "del future2"
   ]
  },
  {
   "cell_type": "markdown",
   "metadata": {},
   "source": [
    "## Coroutine vs. Future vs. Task<a id=\"coroutine-vs-future-vs-task\"></a>\n",
    "<div style=\"text-align: right;\"><a href=#contents>Back to Contents</a></div>"
   ]
  },
  {
   "cell_type": "code",
   "execution_count": null,
   "metadata": {},
   "outputs": [],
   "source": [
    "async def print_hello_async() -> Awaitable[str]:\n",
    "    await asyncio.sleep(1)\n",
    "    \n",
    "    message = 'Hello'\n",
    "    \n",
    "    print(message)\n",
    "    \n",
    "    return message\n",
    "\n",
    "\n",
    "async def print_world_async() -> Awaitable[str]:\n",
    "    await asyncio.sleep(0.1)\n",
    "\n",
    "    message = 'World'\n",
    "    \n",
    "    print(message)\n",
    "    \n",
    "    return message"
   ]
  },
  {
   "cell_type": "markdown",
   "metadata": {},
   "source": [
    "### Coroutines<a id=\"coroutines\"></a>\n",
    "<div style=\"text-align: right;\"><a href=#contents>Back to Contents</a></div>"
   ]
  },
  {
   "cell_type": "code",
   "execution_count": null,
   "metadata": {},
   "outputs": [],
   "source": [
    "coroutines = [\n",
    "    print_hello_async(),\n",
    "    print_world_async(),\n",
    "]"
   ]
  },
  {
   "cell_type": "code",
   "execution_count": null,
   "metadata": {},
   "outputs": [
    {
     "name": "stdout",
     "output_type": "stream",
     "text": [
      "World\n",
      "Hello\n"
     ]
    },
    {
     "data": {
      "text/plain": [
       "['Hello', 'World']"
      ]
     },
     "execution_count": null,
     "metadata": {},
     "output_type": "execute_result"
    }
   ],
   "source": [
    "loop = asyncio.get_event_loop()\n",
    "\n",
    "loop.run_until_complete(\n",
    "    asyncio.gather(*coroutines)\n",
    ")"
   ]
  },
  {
   "cell_type": "code",
   "execution_count": null,
   "metadata": {},
   "outputs": [],
   "source": [
    "del coroutines"
   ]
  },
  {
   "cell_type": "markdown",
   "metadata": {},
   "source": [
    "### Futures<a id=\"futures\"></a>\n",
    "<div style=\"text-align: right;\"><a href=#contents>Back to Contents</a></div>"
   ]
  },
  {
   "cell_type": "code",
   "execution_count": null,
   "metadata": {},
   "outputs": [],
   "source": [
    "coroutines = [\n",
    "    print_hello_async(),\n",
    "    print_world_async(),\n",
    "]"
   ]
  },
  {
   "cell_type": "code",
   "execution_count": null,
   "metadata": {},
   "outputs": [
    {
     "name": "stdout",
     "output_type": "stream",
     "text": [
      "World\n",
      "Hello\n"
     ]
    }
   ],
   "source": [
    "# Registering tasks in the Event Loop\n",
    "\n",
    "futures = [\n",
    "    asyncio.ensure_future(coroutine)\n",
    "    for coroutine in coroutines\n",
    "]"
   ]
  },
  {
   "cell_type": "code",
   "execution_count": null,
   "metadata": {},
   "outputs": [
    {
     "name": "stdout",
     "output_type": "stream",
     "text": [
      "World\n",
      "Hello\n"
     ]
    }
   ],
   "source": [
    "# ...or right away like so\n",
    "\n",
    "futures = [\n",
    "    asyncio.ensure_future(print_hello_async()),\n",
    "    asyncio.ensure_future(print_world_async()),\n",
    "]"
   ]
  },
  {
   "cell_type": "code",
   "execution_count": null,
   "metadata": {},
   "outputs": [],
   "source": [
    "del coroutines\n",
    "del futures"
   ]
  },
  {
   "cell_type": "markdown",
   "metadata": {},
   "source": [
    "### Tasks<a id=\"tasks\"></a>\n",
    "<div style=\"text-align: right;\"><a href=#contents>Back to Contents</a></div>\n",
    "\n",
    "Some task-related methods are available only starting from Python 3.7"
   ]
  },
  {
   "cell_type": "code",
   "execution_count": null,
   "metadata": {},
   "outputs": [
    {
     "name": "stdout",
     "output_type": "stream",
     "text": [
      "World\n",
      "Hello\n"
     ]
    }
   ],
   "source": [
    "task1 = asyncio.create_task(print_hello_async())\n",
    "task2 = asyncio.create_task(print_world_async())"
   ]
  },
  {
   "cell_type": "code",
   "execution_count": null,
   "metadata": {},
   "outputs": [
    {
     "name": "stdout",
     "output_type": "stream",
     "text": [
      "World\n",
      "Hello\n"
     ]
    }
   ],
   "source": [
    "# ..or like so\n",
    "\n",
    "loop = asyncio.get_event_loop()\n",
    "\n",
    "tasks = [\n",
    "    loop.create_task(print_hello_async()),\n",
    "    loop.create_task(print_world_async()),\n",
    "]"
   ]
  },
  {
   "cell_type": "code",
   "execution_count": null,
   "metadata": {},
   "outputs": [],
   "source": [
    "del task1\n",
    "del task2\n",
    "del tasks"
   ]
  },
  {
   "cell_type": "markdown",
   "metadata": {},
   "source": [
    "## Deeper into Tasks<a id=\"deeper-into-tasks\"></a>\n",
    "<div style=\"text-align: right;\"><a href=#contents>Back to Contents</a></div>"
   ]
  },
  {
   "cell_type": "code",
   "execution_count": null,
   "metadata": {},
   "outputs": [
    {
     "name": "stdout",
     "output_type": "stream",
     "text": [
      "<Task pending coro=<print_hello_async() running at <ipython-input-18-dee9e47f7551>:1>>\n",
      "Is done? False\n",
      "Hello\n"
     ]
    }
   ],
   "source": [
    "task = asyncio.create_task(print_hello_async())\n",
    "\n",
    "print(task)\n",
    "print(f'Is done? {task.done()}')"
   ]
  },
  {
   "cell_type": "code",
   "execution_count": null,
   "metadata": {},
   "outputs": [
    {
     "data": {
      "text/plain": [
       "<Task finished coro=<print_hello_async() done, defined at <ipython-input-18-dee9e47f7551>:1> result='Hello'>"
      ]
     },
     "execution_count": null,
     "metadata": {},
     "output_type": "execute_result"
    }
   ],
   "source": [
    "task"
   ]
  },
  {
   "cell_type": "code",
   "execution_count": null,
   "metadata": {},
   "outputs": [
    {
     "data": {
      "text/plain": [
       "'Hello'"
      ]
     },
     "execution_count": null,
     "metadata": {},
     "output_type": "execute_result"
    }
   ],
   "source": [
    "task.result()"
   ]
  },
  {
   "cell_type": "code",
   "execution_count": null,
   "metadata": {},
   "outputs": [
    {
     "data": {
      "text/plain": [
       "True"
      ]
     },
     "execution_count": null,
     "metadata": {},
     "output_type": "execute_result"
    }
   ],
   "source": [
    "task.done()"
   ]
  },
  {
   "cell_type": "markdown",
   "metadata": {},
   "source": [
    "Let's do something... illegal"
   ]
  },
  {
   "cell_type": "code",
   "execution_count": null,
   "metadata": {},
   "outputs": [],
   "source": [
    "async def dangerous_deed_async() -> Awaitable[None]:\n",
    "    await asyncio.sleep(1)\n",
    "    \n",
    "    1 / 0"
   ]
  },
  {
   "cell_type": "code",
   "execution_count": null,
   "metadata": {},
   "outputs": [],
   "source": [
    "task = asyncio.create_task(dangerous_deed_async())"
   ]
  },
  {
   "cell_type": "markdown",
   "metadata": {},
   "source": [
    " All Ok?!"
   ]
  },
  {
   "cell_type": "code",
   "execution_count": null,
   "metadata": {},
   "outputs": [
    {
     "data": {
      "text/plain": [
       "<Task finished coro=<dangerous_deed_async() done, defined at <ipython-input-33-0bcd8fe27f47>:1> exception=ZeroDivisionError('division by zero')>"
      ]
     },
     "execution_count": null,
     "metadata": {},
     "output_type": "execute_result"
    }
   ],
   "source": [
    "task"
   ]
  },
  {
   "cell_type": "code",
   "execution_count": null,
   "metadata": {},
   "outputs": [
    {
     "name": "stdout",
     "output_type": "stream",
     "text": [
      "ZeroDivisionError error returned!\n"
     ]
    }
   ],
   "source": [
    "try:\n",
    "    task.result()\n",
    "except ZeroDivisionError:\n",
    "    print('ZeroDivisionError error returned!')"
   ]
  },
  {
   "cell_type": "markdown",
   "metadata": {},
   "source": [
    "Exception object:"
   ]
  },
  {
   "cell_type": "code",
   "execution_count": null,
   "metadata": {},
   "outputs": [
    {
     "data": {
      "text/plain": [
       "ZeroDivisionError('division by zero')"
      ]
     },
     "execution_count": null,
     "metadata": {},
     "output_type": "execute_result"
    }
   ],
   "source": [
    "task.exception()"
   ]
  },
  {
   "cell_type": "markdown",
   "metadata": {},
   "source": [
    "Be careful )"
   ]
  }
 ],
 "metadata": {
  "kernelspec": {
   "display_name": "py7",
   "language": "python",
   "name": "py7"
  },
  "language_info": {
   "codemirror_mode": {
    "name": "ipython",
    "version": 3
   },
   "file_extension": ".py",
   "mimetype": "text/x-python",
   "name": "python",
   "nbconvert_exporter": "python",
   "pygments_lexer": "ipython3",
   "version": "3.7.9"
  }
 },
 "nbformat": 4,
 "nbformat_minor": 2
}
