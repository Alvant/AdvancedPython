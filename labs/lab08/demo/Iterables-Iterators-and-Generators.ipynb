{
 "cells": [
  {
   "cell_type": "markdown",
   "metadata": {},
   "source": [
    "# Iterables, Iterators, and Generators"
   ]
  },
  {
   "cell_type": "markdown",
   "metadata": {},
   "source": [
    "## Introduction: Examples"
   ]
  },
  {
   "cell_type": "code",
   "execution_count": 1,
   "metadata": {},
   "outputs": [
    {
     "name": "stdout",
     "output_type": "stream",
     "text": [
      "1\n",
      "2\n",
      "3\n"
     ]
    }
   ],
   "source": [
    "values = [1, 2, 3]\n",
    "\n",
    "for v in values:\n",
    "    print(v)"
   ]
  },
  {
   "cell_type": "code",
   "execution_count": 2,
   "metadata": {},
   "outputs": [
    {
     "name": "stdout",
     "output_type": "stream",
     "text": [
      "I hurt myself today to see if I still feel"
     ]
    }
   ],
   "source": [
    "string = \"I hurt myself today to see if I still feel\"\n",
    "\n",
    "for letter in string:\n",
    "    print(letter, end='')"
   ]
  },
  {
   "cell_type": "code",
   "execution_count": 3,
   "metadata": {},
   "outputs": [
    {
     "name": "stdout",
     "output_type": "stream",
     "text": [
      "Failed to iterate over integer number :( \"'int' object is not iterable\"\n"
     ]
    }
   ],
   "source": [
    "number = 12456\n",
    "\n",
    "try:\n",
    "    for digit in number:\n",
    "        print(digit)\n",
    "except TypeError as error:\n",
    "    print(f'Failed to iterate over integer number :( \"{error}\"')"
   ]
  },
  {
   "cell_type": "markdown",
   "metadata": {},
   "source": [
    "## Going Deeper: Under the Hood"
   ]
  },
  {
   "cell_type": "markdown",
   "metadata": {},
   "source": [
    "### Infinite Iterator"
   ]
  },
  {
   "cell_type": "code",
   "execution_count": 4,
   "metadata": {},
   "outputs": [],
   "source": [
    "class Iterable:\n",
    "    def __init__(self, value):\n",
    "        self.value = value\n",
    "    \n",
    "    def __iter__(self):\n",
    "        return Iterator(value=self.value)\n",
    "\n",
    "class Iterator:\n",
    "    def __init__(self, value):\n",
    "        self.value = value\n",
    "    \n",
    "    def __next__(self):\n",
    "        return self.value"
   ]
  },
  {
   "cell_type": "markdown",
   "metadata": {},
   "source": [
    "Итерирование с помощью цикла `for`:"
   ]
  },
  {
   "cell_type": "code",
   "execution_count": 5,
   "metadata": {},
   "outputs": [
    {
     "name": "stdout",
     "output_type": "stream",
     "text": [
      "-17.5\n",
      "-17.5\n",
      "-17.5\n",
      "-17.5\n",
      "-17.5\n"
     ]
    }
   ],
   "source": [
    "max_num_times = 5\n",
    "num_times = 0\n",
    "\n",
    "iterable = Iterable(value=-17.5)\n",
    "\n",
    "for value in iterable:\n",
    "    if num_times >= max_num_times:\n",
    "        break\n",
    "\n",
    "    print(value)\n",
    "    \n",
    "    num_times += 1"
   ]
  },
  {
   "cell_type": "markdown",
   "metadata": {},
   "source": [
    "Равносильный вариант с помощью цикла `while`:"
   ]
  },
  {
   "cell_type": "code",
   "execution_count": 6,
   "metadata": {},
   "outputs": [
    {
     "name": "stdout",
     "output_type": "stream",
     "text": [
      "-17.5\n",
      "-17.5\n",
      "-17.5\n",
      "-17.5\n",
      "-17.5\n"
     ]
    }
   ],
   "source": [
    "max_num_times = 5\n",
    "num_times = 0\n",
    "\n",
    "iterable = Iterable(value=-17.5)\n",
    "iterator = iter(iterable)\n",
    "\n",
    "while True:\n",
    "    value = next(iterator)\n",
    "    \n",
    "    if num_times >= max_num_times:\n",
    "        break\n",
    "\n",
    "    print(value)\n",
    "    \n",
    "    num_times += 1"
   ]
  },
  {
   "cell_type": "code",
   "execution_count": 7,
   "metadata": {},
   "outputs": [],
   "source": [
    "del Iterable, Iterator"
   ]
  },
  {
   "cell_type": "markdown",
   "metadata": {},
   "source": [
    "### Limited Iterator"
   ]
  },
  {
   "cell_type": "code",
   "execution_count": 8,
   "metadata": {},
   "outputs": [],
   "source": [
    "class Iterable:\n",
    "    def __init__(self, value, num_times: int = 5):\n",
    "        self.value = value\n",
    "        self.num_times = num_times\n",
    "    \n",
    "    def __iter__(self):\n",
    "        return Iterator(value=self.value, num_times=self.num_times)\n",
    "\n",
    "class Iterator:\n",
    "    def __init__(self, value, num_times):\n",
    "        self.value = value\n",
    "        self.num_times = num_times\n",
    "        self._current_num_times = 0\n",
    "    \n",
    "    def __next__(self):\n",
    "        if self._current_num_times >= self.num_times:\n",
    "            raise StopIteration()\n",
    "        \n",
    "        self._current_num_times += 1\n",
    "\n",
    "        return self.value"
   ]
  },
  {
   "cell_type": "markdown",
   "metadata": {},
   "source": [
    "Использование итератора в цикле `for`:"
   ]
  },
  {
   "cell_type": "code",
   "execution_count": 9,
   "metadata": {},
   "outputs": [
    {
     "name": "stdout",
     "output_type": "stream",
     "text": [
      "-17.5\n",
      "-17.5\n",
      "-17.5\n",
      "-17.5\n",
      "-17.5\n"
     ]
    }
   ],
   "source": [
    "iterable = Iterable(value=-17.5)\n",
    "\n",
    "for value in iterable:\n",
    "    print(value)"
   ]
  },
  {
   "cell_type": "markdown",
   "metadata": {},
   "source": [
    "И снова — равносильный вариант с помощью цикла `while`:"
   ]
  },
  {
   "cell_type": "code",
   "execution_count": 10,
   "metadata": {},
   "outputs": [
    {
     "name": "stdout",
     "output_type": "stream",
     "text": [
      "-17.5\n",
      "-17.5\n",
      "-17.5\n",
      "-17.5\n",
      "-17.5\n"
     ]
    }
   ],
   "source": [
    "iterable = Iterable(value=-17.5)\n",
    "iterator = iter(iterable)\n",
    "\n",
    "while True:\n",
    "    try:\n",
    "        value = next(iterator)\n",
    "    except StopIteration:\n",
    "        break\n",
    "\n",
    "    print(value)"
   ]
  },
  {
   "cell_type": "code",
   "execution_count": 11,
   "metadata": {},
   "outputs": [],
   "source": [
    "del Iterable, Iterator"
   ]
  },
  {
   "cell_type": "markdown",
   "metadata": {},
   "source": [
    "### Two in One for Simplicity"
   ]
  },
  {
   "cell_type": "code",
   "execution_count": 12,
   "metadata": {},
   "outputs": [],
   "source": [
    "class IterableAndIterator:\n",
    "    def __init__(self, value, num_times: int = 5):\n",
    "        self.value = value\n",
    "        self.num_times = num_times\n",
    "        self._current_num_times = 0\n",
    "    \n",
    "    def __iter__(self):\n",
    "        return self\n",
    "\n",
    "    def __next__(self):\n",
    "        if self._current_num_times >= self.num_times:\n",
    "            raise StopIteration()\n",
    "        \n",
    "        self._current_num_times += 1\n",
    "\n",
    "        return self.value"
   ]
  },
  {
   "cell_type": "code",
   "execution_count": 13,
   "metadata": {},
   "outputs": [
    {
     "name": "stdout",
     "output_type": "stream",
     "text": [
      "-17.5\n",
      "-17.5\n",
      "-17.5\n",
      "-17.5\n",
      "-17.5\n"
     ]
    }
   ],
   "source": [
    "iterable = IterableAndIterator(value=-17.5)\n",
    "\n",
    "for value in iterable:\n",
    "    print(value)"
   ]
  },
  {
   "cell_type": "markdown",
   "metadata": {},
   "source": [
    "Из-за того, что `__iter__` возвращает `self`, второй раз по \"отработанному\" итератору пройтись уже не получится:"
   ]
  },
  {
   "cell_type": "code",
   "execution_count": 14,
   "metadata": {},
   "outputs": [],
   "source": [
    "for value in iterable:\n",
    "    print(value)"
   ]
  },
  {
   "cell_type": "code",
   "execution_count": 15,
   "metadata": {},
   "outputs": [],
   "source": [
    "del IterableAndIterator"
   ]
  },
  {
   "cell_type": "markdown",
   "metadata": {},
   "source": [
    "## Generators"
   ]
  },
  {
   "cell_type": "markdown",
   "metadata": {},
   "source": [
    "Как функция, но не функция:"
   ]
  },
  {
   "cell_type": "code",
   "execution_count": 16,
   "metadata": {},
   "outputs": [],
   "source": [
    "def repeate(value, num_times: int = 5):\n",
    "    current_num_times = 0\n",
    "    \n",
    "    while True:\n",
    "        if current_num_times >= num_times:\n",
    "            break\n",
    "\n",
    "        yield value  # Именно это делает генератор генератором!\n",
    "        \n",
    "        current_num_times += 1"
   ]
  },
  {
   "cell_type": "code",
   "execution_count": 17,
   "metadata": {},
   "outputs": [
    {
     "name": "stdout",
     "output_type": "stream",
     "text": [
      "-17.5\n",
      "-17.5\n",
      "-17.5\n",
      "-17.5\n",
      "-17.5\n"
     ]
    }
   ],
   "source": [
    "generator = repeate(value=-17.5)\n",
    "\n",
    "for value in generator:\n",
    "    print(value)"
   ]
  },
  {
   "cell_type": "markdown",
   "metadata": {},
   "source": [
    "Снова повторное итерирование по тому же генератору ни к чему не приводит:"
   ]
  },
  {
   "cell_type": "code",
   "execution_count": 18,
   "metadata": {},
   "outputs": [],
   "source": [
    "for value in generator:\n",
    "    print(value)"
   ]
  },
  {
   "cell_type": "markdown",
   "metadata": {},
   "source": [
    "Потому что `__iter__` генератора возвращает его же самого:"
   ]
  },
  {
   "cell_type": "code",
   "execution_count": 19,
   "metadata": {},
   "outputs": [
    {
     "data": {
      "text/plain": [
       "True"
      ]
     },
     "execution_count": 19,
     "metadata": {},
     "output_type": "execute_result"
    }
   ],
   "source": [
    "generator == iter(generator)"
   ]
  },
  {
   "cell_type": "markdown",
   "metadata": {},
   "source": [
    "И снова — аналог через цикл `while`:"
   ]
  },
  {
   "cell_type": "code",
   "execution_count": 20,
   "metadata": {},
   "outputs": [
    {
     "name": "stdout",
     "output_type": "stream",
     "text": [
      "-17.5\n",
      "-17.5\n",
      "-17.5\n",
      "-17.5\n",
      "-17.5\n"
     ]
    }
   ],
   "source": [
    "generator = repeate(value=-17.5)\n",
    "\n",
    "while True:\n",
    "    try:\n",
    "        value = next(generator)\n",
    "    except StopIteration:\n",
    "        break\n",
    "\n",
    "    print(value)"
   ]
  },
  {
   "cell_type": "markdown",
   "metadata": {},
   "source": [
    "Eщё одна версия генератора с промежуточными принтами, чтоб посмотреть, \"что там происходит\":"
   ]
  },
  {
   "cell_type": "code",
   "execution_count": 21,
   "metadata": {},
   "outputs": [],
   "source": [
    "def repeate(value, num_times: int = 5):\n",
    "    print('Started.')\n",
    "    \n",
    "    current_num_times = 0\n",
    "    \n",
    "    while True:\n",
    "        if current_num_times >= num_times:\n",
    "            break\n",
    "        \n",
    "        print('Before yield.')\n",
    "\n",
    "        yield value  # Именно это делает генератор генератором!\n",
    "        \n",
    "        print('After yield.')\n",
    "        \n",
    "        current_num_times += 1\n",
    "    \n",
    "    print('Finished.')"
   ]
  },
  {
   "cell_type": "code",
   "execution_count": 22,
   "metadata": {},
   "outputs": [],
   "source": [
    "generator = repeate(value=-17.5)"
   ]
  },
  {
   "cell_type": "code",
   "execution_count": 23,
   "metadata": {},
   "outputs": [
    {
     "name": "stdout",
     "output_type": "stream",
     "text": [
      "Started.\n",
      "Before yield.\n"
     ]
    },
    {
     "data": {
      "text/plain": [
       "-17.5"
      ]
     },
     "execution_count": 23,
     "metadata": {},
     "output_type": "execute_result"
    }
   ],
   "source": [
    "next(generator)"
   ]
  },
  {
   "cell_type": "code",
   "execution_count": 24,
   "metadata": {},
   "outputs": [
    {
     "name": "stdout",
     "output_type": "stream",
     "text": [
      "After yield.\n",
      "Before yield.\n"
     ]
    },
    {
     "data": {
      "text/plain": [
       "-17.5"
      ]
     },
     "execution_count": 24,
     "metadata": {},
     "output_type": "execute_result"
    }
   ],
   "source": [
    "next(generator)"
   ]
  },
  {
   "cell_type": "code",
   "execution_count": 25,
   "metadata": {},
   "outputs": [],
   "source": [
    "del repeate"
   ]
  },
  {
   "cell_type": "markdown",
   "metadata": {},
   "source": [
    "## Examples of Popular Built-in Iterators"
   ]
  },
  {
   "cell_type": "code",
   "execution_count": 26,
   "metadata": {},
   "outputs": [
    {
     "name": "stdout",
     "output_type": "stream",
     "text": [
      "0\n",
      "1\n",
      "2\n"
     ]
    }
   ],
   "source": [
    "for i in range(3):\n",
    "    print(i)"
   ]
  },
  {
   "cell_type": "code",
   "execution_count": 27,
   "metadata": {},
   "outputs": [
    {
     "name": "stdout",
     "output_type": "stream",
     "text": [
      "Sveta: blue\n",
      "Masha: brown\n",
      "Nadya: green\n"
     ]
    }
   ],
   "source": [
    "names = ['Sveta', 'Masha', 'Nadya']\n",
    "eye_colors = ['blue', 'brown', 'green']\n",
    "\n",
    "for name, eye_color in zip(names, eye_colors):\n",
    "    print(f'{name}: {eye_color}')"
   ]
  },
  {
   "cell_type": "code",
   "execution_count": 28,
   "metadata": {},
   "outputs": [
    {
     "name": "stdout",
     "output_type": "stream",
     "text": [
      "Sveta: 0\n",
      "Masha: 1\n",
      "Nadya: 2\n"
     ]
    }
   ],
   "source": [
    "names = ['Sveta', 'Masha', 'Nadya']\n",
    "indices = [0, 1, 2]\n",
    "\n",
    "for index, name in zip(indices, names):\n",
    "    print(f'{name}: {index}')"
   ]
  },
  {
   "cell_type": "code",
   "execution_count": 29,
   "metadata": {},
   "outputs": [
    {
     "name": "stdout",
     "output_type": "stream",
     "text": [
      "Sveta: 0\n",
      "Masha: 1\n",
      "Nadya: 2\n"
     ]
    }
   ],
   "source": [
    "names = ['Sveta', 'Masha', 'Nadya']\n",
    "\n",
    "for index, name in enumerate(names):\n",
    "    print(f'{name}: {index}')"
   ]
  },
  {
   "cell_type": "markdown",
   "metadata": {},
   "source": [
    "### Filter"
   ]
  },
  {
   "cell_type": "code",
   "execution_count": 30,
   "metadata": {},
   "outputs": [],
   "source": [
    "values = [1, -1, 2, -2, 3, -3]\n",
    "\n",
    "nonzero_values = filter(lambda x: x >= 0, values)"
   ]
  },
  {
   "cell_type": "code",
   "execution_count": 31,
   "metadata": {},
   "outputs": [
    {
     "data": {
      "text/plain": [
       "<filter at 0x210b1ae4320>"
      ]
     },
     "execution_count": 31,
     "metadata": {},
     "output_type": "execute_result"
    }
   ],
   "source": [
    "nonzero_values"
   ]
  },
  {
   "cell_type": "code",
   "execution_count": 32,
   "metadata": {},
   "outputs": [
    {
     "data": {
      "text/plain": [
       "[1, 2, 3]"
      ]
     },
     "execution_count": 32,
     "metadata": {},
     "output_type": "execute_result"
    }
   ],
   "source": [
    "list(nonzero_values)"
   ]
  },
  {
   "cell_type": "markdown",
   "metadata": {},
   "source": [
    "Равносильный (почти) вариант сделать то же самое без `filter` (и без лямбда функции):"
   ]
  },
  {
   "cell_type": "code",
   "execution_count": 33,
   "metadata": {},
   "outputs": [],
   "source": [
    "nonzero_values = [v for v in values if v >= 0]"
   ]
  },
  {
   "cell_type": "code",
   "execution_count": 34,
   "metadata": {},
   "outputs": [
    {
     "data": {
      "text/plain": [
       "[1, 2, 3]"
      ]
     },
     "execution_count": 34,
     "metadata": {},
     "output_type": "execute_result"
    }
   ],
   "source": [
    "nonzero_values"
   ]
  },
  {
   "cell_type": "markdown",
   "metadata": {},
   "source": [
    "Равносильный (прям равносильный) вариант сделать то же самое без `filter`:"
   ]
  },
  {
   "cell_type": "code",
   "execution_count": 35,
   "metadata": {},
   "outputs": [],
   "source": [
    "nonzero_values = (v for v in values if v >= 0)"
   ]
  },
  {
   "cell_type": "code",
   "execution_count": 36,
   "metadata": {},
   "outputs": [
    {
     "data": {
      "text/plain": [
       "<generator object <genexpr> at 0x00000210B1AD8A40>"
      ]
     },
     "execution_count": 36,
     "metadata": {},
     "output_type": "execute_result"
    }
   ],
   "source": [
    "nonzero_values"
   ]
  },
  {
   "cell_type": "code",
   "execution_count": 37,
   "metadata": {},
   "outputs": [
    {
     "data": {
      "text/plain": [
       "[1, 2, 3]"
      ]
     },
     "execution_count": 37,
     "metadata": {},
     "output_type": "execute_result"
    }
   ],
   "source": [
    "list(nonzero_values)"
   ]
  },
  {
   "cell_type": "markdown",
   "metadata": {},
   "source": [
    "Дело в том, что выражение `(v for v ...)` — это ещё один вариант создания генератора... (`yield` есть, \"где-то там\")"
   ]
  }
 ],
 "metadata": {
  "kernelspec": {
   "display_name": "Python 3",
   "language": "python",
   "name": "python3"
  },
  "language_info": {
   "codemirror_mode": {
    "name": "ipython",
    "version": 3
   },
   "file_extension": ".py",
   "mimetype": "text/x-python",
   "name": "python",
   "nbconvert_exporter": "python",
   "pygments_lexer": "ipython3",
   "version": "3.6.7"
  }
 },
 "nbformat": 4,
 "nbformat_minor": 2
}
