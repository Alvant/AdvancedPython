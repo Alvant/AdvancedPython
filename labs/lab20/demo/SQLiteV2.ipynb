{
 "cells": [
  {
   "cell_type": "code",
   "execution_count": 1,
   "metadata": {},
   "outputs": [],
   "source": [
    "import sqlite3"
   ]
  },
  {
   "cell_type": "code",
   "execution_count": 2,
   "metadata": {},
   "outputs": [],
   "source": [
    "! mkdir -p databases"
   ]
  },
  {
   "cell_type": "code",
   "execution_count": 3,
   "metadata": {},
   "outputs": [],
   "source": [
    "DB_PATH = \"databases/test3.db\""
   ]
  },
  {
   "cell_type": "code",
   "execution_count": 4,
   "metadata": {},
   "outputs": [],
   "source": [
    "connection = sqlite3.connect(DB_PATH)"
   ]
  },
  {
   "cell_type": "markdown",
   "metadata": {},
   "source": [
    "## Insert"
   ]
  },
  {
   "cell_type": "markdown",
   "metadata": {},
   "source": [
    "### Pure SQL Approach"
   ]
  },
  {
   "cell_type": "code",
   "execution_count": 5,
   "metadata": {},
   "outputs": [],
   "source": [
    "cursor = connection.cursor()\n",
    "\n",
    "cursor.execute('''\n",
    "    CREATE TABLE Purchase(\n",
    "        date TEXT,\n",
    "        trans TEXT,\n",
    "        symbol TEXT,\n",
    "        qty REAL,\n",
    "        price REAL\n",
    "    );\n",
    "''')\n",
    "\n",
    "cursor.execute('''\n",
    "    INSERT INTO Purchase VALUES\n",
    "        ('2006-01-05', 'BUY', 'RHAT', 100, 35.14),\n",
    "        ('2006-03-28', 'BUY', 'IBM', 1000, 45.00),\n",
    "        ('2006-04-05', 'BUY', 'MSFT', 1000, 72.00),\n",
    "        ('2006-04-06', 'SELL', 'IBM', 500, 53.00);\n",
    "''')\n",
    "\n",
    "connection.commit()\n",
    "connection.close()"
   ]
  },
  {
   "cell_type": "markdown",
   "metadata": {},
   "source": [
    "### \"Programmer's\" Approach"
   ]
  },
  {
   "cell_type": "code",
   "execution_count": 6,
   "metadata": {},
   "outputs": [],
   "source": [
    "connection = sqlite3.connect(DB_PATH)\n",
    "cursor = connection.cursor()\n",
    "\n",
    "purchases = [\n",
    "    ('2022-03-03', 'BUY', 'IKEA', 10, 50.00),\n",
    "    ('2022-03-09', 'BUY', 'McDonald\\'s', 20, 20.00),\n",
    "    ('2022-03-10', 'BUY', 'Coca-Cola', 100, 30.00),\n",
    "]\n",
    "\n",
    "cursor.executemany(\n",
    "    \"INSERT INTO Purchase VALUES (?, ?, ?, ?, ?);\",\n",
    "    purchases\n",
    ")\n",
    "\n",
    "connection.commit()\n",
    "connection.close()"
   ]
  },
  {
   "cell_type": "markdown",
   "metadata": {},
   "source": [
    "## Select"
   ]
  },
  {
   "cell_type": "code",
   "execution_count": 7,
   "metadata": {},
   "outputs": [
    {
     "name": "stdout",
     "output_type": "stream",
     "text": [
      "('2006-01-05', 'BUY', 'RHAT', 100.0, 35.14)\n"
     ]
    }
   ],
   "source": [
    "connection = sqlite3.connect(DB_PATH)\n",
    "cursor = connection.cursor()\n",
    "\n",
    "cursor.execute(\"SELECT * FROM Purchase WHERE symbol='RHAT';\")\n",
    "\n",
    "print(cursor.fetchone())"
   ]
  },
  {
   "cell_type": "code",
   "execution_count": 8,
   "metadata": {},
   "outputs": [
    {
     "name": "stdout",
     "output_type": "stream",
     "text": [
      "None\n"
     ]
    }
   ],
   "source": [
    "print(cursor.fetchone())"
   ]
  },
  {
   "cell_type": "code",
   "execution_count": 9,
   "metadata": {},
   "outputs": [
    {
     "name": "stdout",
     "output_type": "stream",
     "text": [
      "[('2006-01-05', 'BUY', 'RHAT', 100.0, 35.14)]\n"
     ]
    }
   ],
   "source": [
    "cursor.execute(\"SELECT * FROM Purchase WHERE symbol='RHAT';\")\n",
    "\n",
    "print(cursor.fetchmany())"
   ]
  },
  {
   "cell_type": "code",
   "execution_count": 10,
   "metadata": {},
   "outputs": [
    {
     "name": "stdout",
     "output_type": "stream",
     "text": [
      "('2022-03-09', 'BUY', \"McDonald's\", 20.0, 20.0)\n",
      "('2022-03-10', 'BUY', 'Coca-Cola', 100.0, 30.0)\n",
      "('2006-01-05', 'BUY', 'RHAT', 100.0, 35.14)\n",
      "('2006-03-28', 'BUY', 'IBM', 1000.0, 45.0)\n",
      "('2022-03-03', 'BUY', 'IKEA', 10.0, 50.0)\n",
      "('2006-04-06', 'SELL', 'IBM', 500.0, 53.0)\n",
      "('2006-04-05', 'BUY', 'MSFT', 1000.0, 72.0)\n"
     ]
    }
   ],
   "source": [
    "for row in cursor.execute(\"SELECT * FROM Purchase ORDER BY price;\"):\n",
    "    print(row)"
   ]
  },
  {
   "cell_type": "code",
   "execution_count": 11,
   "metadata": {},
   "outputs": [],
   "source": [
    "connection.close()"
   ]
  },
  {
   "cell_type": "markdown",
   "metadata": {},
   "source": [
    "## Update, Delete"
   ]
  },
  {
   "cell_type": "code",
   "execution_count": 12,
   "metadata": {},
   "outputs": [
    {
     "name": "stdout",
     "output_type": "stream",
     "text": [
      "('2006-01-05', 'BUY', 'RHAT', 100.0, 35.14)\n",
      "('2006-03-28', 'BUY', 'IBM', 1000.0, 45.0)\n",
      "('2006-04-05', 'BUY', 'MSFT', 1000.0, 72.0)\n",
      "('2006-04-06', 'SELL', 'IBM', 500.0, 53.0)\n",
      "('2022-03-03', 'BUY', 'IKEA', 10.0, 50.0)\n",
      "('2022-03-09', 'BUY', \"McDonald's\", 20.0, 20.0)\n",
      "('2022-03-10', 'BUY', 'Coca-Cola', 100.0, 30.0)\n"
     ]
    }
   ],
   "source": [
    "connection = sqlite3.connect(DB_PATH)\n",
    "cursor = connection.cursor()\n",
    "\n",
    "for row in cursor.execute(\"SELECT * FROM Purchase;\"):\n",
    "    print(row)"
   ]
  },
  {
   "cell_type": "code",
   "execution_count": 13,
   "metadata": {},
   "outputs": [],
   "source": [
    "def select_all(connection, table_name: str) -> None:\n",
    "    cursor = connection.cursor()\n",
    "\n",
    "    for row in cursor.execute(f\"SELECT * FROM {table_name};\"):\n",
    "        print(row)"
   ]
  },
  {
   "cell_type": "code",
   "execution_count": 14,
   "metadata": {},
   "outputs": [],
   "source": [
    "column_names = [\n",
    "    description[0] for description in cursor.description\n",
    "]"
   ]
  },
  {
   "cell_type": "code",
   "execution_count": 15,
   "metadata": {},
   "outputs": [
    {
     "name": "stdout",
     "output_type": "stream",
     "text": [
      "['date', 'trans', 'symbol', 'qty', 'price']\n"
     ]
    }
   ],
   "source": [
    "print(column_names)"
   ]
  },
  {
   "cell_type": "markdown",
   "metadata": {},
   "source": [
    "### Update and Rollback"
   ]
  },
  {
   "cell_type": "code",
   "execution_count": 16,
   "metadata": {},
   "outputs": [
    {
     "data": {
      "text/plain": [
       "<sqlite3.Cursor at 0x7f731e1f5d50>"
      ]
     },
     "execution_count": 16,
     "metadata": {},
     "output_type": "execute_result"
    }
   ],
   "source": [
    "cursor.execute(\n",
    "    \"UPDATE Purchase SET price = price * 2 WHERE symbol = 'IBM';\"\n",
    ")"
   ]
  },
  {
   "cell_type": "code",
   "execution_count": 29,
   "metadata": {},
   "outputs": [
    {
     "name": "stdout",
     "output_type": "stream",
     "text": [
      "('2006-01-05', 'BUY', 'RHAT', 100.0, 35.14)\n",
      "('2006-03-28', 'BUY', 'IBM', 1000.0, 90.0)\n",
      "('2006-04-05', 'BUY', 'MSFT', 1000.0, 72.0)\n",
      "('2006-04-06', 'SELL', 'IBM', 500.0, 106.0)\n",
      "('2022-03-03', 'BUY', 'IKEA', 10.0, 50.0)\n",
      "('2022-03-09', 'BUY', \"McDonald's\", 20.0, 20.0)\n",
      "('2022-03-10', 'BUY', 'Coca-Cola', 100.0, 30.0)\n"
     ]
    }
   ],
   "source": [
    "select_all(connection, 'Purchase')"
   ]
  },
  {
   "cell_type": "code",
   "execution_count": null,
   "metadata": {},
   "outputs": [],
   "source": []
  },
  {
   "cell_type": "markdown",
   "metadata": {},
   "source": [
    "Another connection does not see changes if they are not committed."
   ]
  },
  {
   "cell_type": "code",
   "execution_count": 30,
   "metadata": {},
   "outputs": [
    {
     "name": "stdout",
     "output_type": "stream",
     "text": [
      "('2006-01-05', 'BUY', 'RHAT', 100.0, 35.14)\n",
      "('2006-03-28', 'BUY', 'IBM', 1000.0, 45.0)\n",
      "('2006-04-05', 'BUY', 'MSFT', 1000.0, 72.0)\n",
      "('2006-04-06', 'SELL', 'IBM', 500.0, 53.0)\n",
      "('2022-03-03', 'BUY', 'IKEA', 10.0, 50.0)\n",
      "('2022-03-09', 'BUY', \"McDonald's\", 20.0, 20.0)\n",
      "('2022-03-10', 'BUY', 'Coca-Cola', 100.0, 30.0)\n"
     ]
    }
   ],
   "source": [
    "connection2 = sqlite3.connect(DB_PATH)\n",
    "cursor2 = connection2.cursor()\n",
    "\n",
    "for row in cursor2.execute(\"SELECT * FROM Purchase;\"):\n",
    "    print(row)"
   ]
  },
  {
   "cell_type": "code",
   "execution_count": 32,
   "metadata": {},
   "outputs": [
    {
     "name": "stdout",
     "output_type": "stream",
     "text": [
      "('2006-01-05', 'BUY', 'RHAT', 100.0, 35.14)\n",
      "('2006-03-28', 'BUY', 'IBM', 1000.0, 90.0)\n",
      "('2006-04-05', 'BUY', 'MSFT', 1000.0, 72.0)\n",
      "('2006-04-06', 'SELL', 'IBM', 500.0, 106.0)\n",
      "('2022-03-03', 'BUY', 'IKEA', 10.0, 50.0)\n",
      "('2022-03-09', 'BUY', \"McDonald's\", 20.0, 20.0)\n",
      "('2022-03-10', 'BUY', 'Coca-Cola', 100.0, 30.0)\n"
     ]
    }
   ],
   "source": [
    "for row in cursor2.execute(\"SELECT * FROM Purchase;\"):\n",
    "    print(row)"
   ]
  },
  {
   "cell_type": "code",
   "execution_count": null,
   "metadata": {},
   "outputs": [],
   "source": []
  },
  {
   "cell_type": "code",
   "execution_count": 18,
   "metadata": {},
   "outputs": [],
   "source": [
    "connection.rollback()"
   ]
  },
  {
   "cell_type": "code",
   "execution_count": 19,
   "metadata": {},
   "outputs": [
    {
     "name": "stdout",
     "output_type": "stream",
     "text": [
      "('2006-01-05', 'BUY', 'RHAT', 100.0, 35.14)\n",
      "('2006-03-28', 'BUY', 'IBM', 1000.0, 45.0)\n",
      "('2006-04-05', 'BUY', 'MSFT', 1000.0, 72.0)\n",
      "('2006-04-06', 'SELL', 'IBM', 500.0, 53.0)\n",
      "('2022-03-03', 'BUY', 'IKEA', 10.0, 50.0)\n",
      "('2022-03-09', 'BUY', \"McDonald's\", 20.0, 20.0)\n",
      "('2022-03-10', 'BUY', 'Coca-Cola', 100.0, 30.0)\n"
     ]
    }
   ],
   "source": [
    "select_all(connection, 'Purchase')"
   ]
  },
  {
   "cell_type": "markdown",
   "metadata": {},
   "source": [
    "### Update, Delete, and Rollback"
   ]
  },
  {
   "cell_type": "code",
   "execution_count": 26,
   "metadata": {},
   "outputs": [
    {
     "data": {
      "text/plain": [
       "<sqlite3.Cursor at 0x7f731e1f5d50>"
      ]
     },
     "execution_count": 26,
     "metadata": {},
     "output_type": "execute_result"
    }
   ],
   "source": [
    "cursor.execute(\n",
    "    \"UPDATE Purchase SET price = price * 2 WHERE symbol = 'IBM';\"\n",
    ")"
   ]
  },
  {
   "cell_type": "code",
   "execution_count": 27,
   "metadata": {},
   "outputs": [
    {
     "name": "stdout",
     "output_type": "stream",
     "text": [
      "('2006-01-05', 'BUY', 'RHAT', 100.0, 35.14)\n",
      "('2006-03-28', 'BUY', 'IBM', 1000.0, 90.0)\n",
      "('2006-04-05', 'BUY', 'MSFT', 1000.0, 72.0)\n",
      "('2006-04-06', 'SELL', 'IBM', 500.0, 106.0)\n",
      "('2022-03-03', 'BUY', 'IKEA', 10.0, 50.0)\n",
      "('2022-03-09', 'BUY', \"McDonald's\", 20.0, 20.0)\n",
      "('2022-03-10', 'BUY', 'Coca-Cola', 100.0, 30.0)\n"
     ]
    }
   ],
   "source": [
    "select_all(connection, 'Purchase')"
   ]
  },
  {
   "cell_type": "code",
   "execution_count": 22,
   "metadata": {},
   "outputs": [
    {
     "data": {
      "text/plain": [
       "<sqlite3.Cursor at 0x7f731e1f5d50>"
      ]
     },
     "execution_count": 22,
     "metadata": {},
     "output_type": "execute_result"
    }
   ],
   "source": [
    "cursor.execute(\"DELETE FROM Purchase WHERE symbol = 'RHAT';\")"
   ]
  },
  {
   "cell_type": "code",
   "execution_count": 23,
   "metadata": {},
   "outputs": [
    {
     "name": "stdout",
     "output_type": "stream",
     "text": [
      "('2006-03-28', 'BUY', 'IBM', 1000.0, 90.0)\n",
      "('2006-04-05', 'BUY', 'MSFT', 1000.0, 72.0)\n",
      "('2006-04-06', 'SELL', 'IBM', 500.0, 106.0)\n",
      "('2022-03-03', 'BUY', 'IKEA', 10.0, 50.0)\n",
      "('2022-03-09', 'BUY', \"McDonald's\", 20.0, 20.0)\n",
      "('2022-03-10', 'BUY', 'Coca-Cola', 100.0, 30.0)\n"
     ]
    }
   ],
   "source": [
    "select_all(connection, 'Purchase')"
   ]
  },
  {
   "cell_type": "code",
   "execution_count": 24,
   "metadata": {},
   "outputs": [],
   "source": [
    "connection.rollback()"
   ]
  },
  {
   "cell_type": "code",
   "execution_count": 25,
   "metadata": {},
   "outputs": [
    {
     "name": "stdout",
     "output_type": "stream",
     "text": [
      "('2006-01-05', 'BUY', 'RHAT', 100.0, 35.14)\n",
      "('2006-03-28', 'BUY', 'IBM', 1000.0, 45.0)\n",
      "('2006-04-05', 'BUY', 'MSFT', 1000.0, 72.0)\n",
      "('2006-04-06', 'SELL', 'IBM', 500.0, 53.0)\n",
      "('2022-03-03', 'BUY', 'IKEA', 10.0, 50.0)\n",
      "('2022-03-09', 'BUY', \"McDonald's\", 20.0, 20.0)\n",
      "('2022-03-10', 'BUY', 'Coca-Cola', 100.0, 30.0)\n"
     ]
    }
   ],
   "source": [
    "for row in cursor.execute(\"SELECT * FROM Purchase;\"):\n",
    "    print(row)"
   ]
  },
  {
   "cell_type": "code",
   "execution_count": 33,
   "metadata": {},
   "outputs": [],
   "source": [
    "connection.close()"
   ]
  },
  {
   "cell_type": "markdown",
   "metadata": {},
   "source": [
    "## Context Manager To Do Things Without Commit/Rollback"
   ]
  },
  {
   "cell_type": "code",
   "execution_count": 34,
   "metadata": {},
   "outputs": [
    {
     "name": "stdout",
     "output_type": "stream",
     "text": [
      "Can't add Joe twice!\n"
     ]
    }
   ],
   "source": [
    "connection = sqlite3.connect(\":memory:\")\n",
    "\n",
    "connection.execute(\"\"\"\n",
    "    CREATE TABLE Person(\n",
    "        id INTEGER PRIMARY KEY,\n",
    "        firstname VARCHAR UNIQUE\n",
    "    );\n",
    "\"\"\")\n",
    "\n",
    "\n",
    "with connection:\n",
    "    connection.execute(\n",
    "        \"INSERT INTO Person(firstname) VALUES (?);\", (\"Joe\",)\n",
    "    )\n",
    "\n",
    "\n",
    "try:\n",
    "    with connection:\n",
    "        connection.execute(\n",
    "            \"INSERT INTO Person(firstname) VALUES (?);\", (\"Joe\",)\n",
    "        )\n",
    "except sqlite3.IntegrityError:\n",
    "    print(\"Can't add Joe twice!\")\n",
    "\n",
    "\n",
    "connection.close()"
   ]
  },
  {
   "cell_type": "markdown",
   "metadata": {},
   "source": [
    "## \"Programmer's\" SELECT"
   ]
  },
  {
   "cell_type": "code",
   "execution_count": 35,
   "metadata": {},
   "outputs": [],
   "source": [
    "connection = sqlite3.connect(DB_PATH)\n",
    "connection.row_factory = sqlite3.Row\n",
    "\n",
    "cursor = connection.cursor()\n",
    "\n",
    "cursor.execute(\"SELECT * FROM Purchase WHERE symbol='RHAT';\")\n",
    "row = cursor.fetchone()"
   ]
  },
  {
   "cell_type": "code",
   "execution_count": 36,
   "metadata": {},
   "outputs": [
    {
     "data": {
      "text/plain": [
       "<sqlite3.Row at 0x7f731c1bcf50>"
      ]
     },
     "execution_count": 36,
     "metadata": {},
     "output_type": "execute_result"
    }
   ],
   "source": [
    "row"
   ]
  },
  {
   "cell_type": "code",
   "execution_count": 37,
   "metadata": {},
   "outputs": [
    {
     "name": "stdout",
     "output_type": "stream",
     "text": [
      "['date', 'trans', 'symbol', 'qty', 'price']\n"
     ]
    }
   ],
   "source": [
    "print(row.keys())"
   ]
  },
  {
   "cell_type": "code",
   "execution_count": 38,
   "metadata": {},
   "outputs": [
    {
     "name": "stdout",
     "output_type": "stream",
     "text": [
      "2006-01-05\n",
      "BUY\n",
      "RHAT\n",
      "100.0\n",
      "35.14\n"
     ]
    }
   ],
   "source": [
    "for key in row.keys():\n",
    "    print(row[key])"
   ]
  },
  {
   "cell_type": "code",
   "execution_count": 39,
   "metadata": {},
   "outputs": [
    {
     "data": {
      "text/plain": [
       "{'date': '2006-01-05',\n",
       " 'trans': 'BUY',\n",
       " 'symbol': 'RHAT',\n",
       " 'qty': 100.0,\n",
       " 'price': 35.14}"
      ]
     },
     "execution_count": 39,
     "metadata": {},
     "output_type": "execute_result"
    }
   ],
   "source": [
    "dict(row)"
   ]
  },
  {
   "cell_type": "code",
   "execution_count": 41,
   "metadata": {},
   "outputs": [],
   "source": [
    "# https://docs.python.org/3/library/sqlite3.html#sqlite3.Connection.row_factory\n",
    "\n",
    "class DictFactory:\n",
    "    def __call__(self, cursor, row):\n",
    "        result = dict()\n",
    "        \n",
    "        for index, column_data in enumerate(cursor.description):\n",
    "            column_name = column_data[0]\n",
    "            result[column_name] = row[index]\n",
    "        \n",
    "        return result"
   ]
  },
  {
   "cell_type": "code",
   "execution_count": 42,
   "metadata": {},
   "outputs": [],
   "source": [
    "connection.row_factory = DictFactory()\n",
    "\n",
    "cursor = connection.cursor()\n",
    "\n",
    "cursor.execute(\"SELECT * FROM Purchase WHERE symbol='RHAT';\")\n",
    "row = cursor.fetchone()"
   ]
  },
  {
   "cell_type": "code",
   "execution_count": 43,
   "metadata": {},
   "outputs": [
    {
     "data": {
      "text/plain": [
       "{'date': '2006-01-05',\n",
       " 'trans': 'BUY',\n",
       " 'symbol': 'RHAT',\n",
       " 'qty': 100.0,\n",
       " 'price': 35.14}"
      ]
     },
     "execution_count": 43,
     "metadata": {},
     "output_type": "execute_result"
    }
   ],
   "source": [
    "row"
   ]
  },
  {
   "cell_type": "code",
   "execution_count": 44,
   "metadata": {},
   "outputs": [],
   "source": [
    "connection.close()"
   ]
  },
  {
   "cell_type": "markdown",
   "metadata": {},
   "source": [
    "# PyMongo\n",
    "\n",
    "https://pymongo.readthedocs.io/en/stable/tutorial.html"
   ]
  },
  {
   "cell_type": "code",
   "execution_count": 1,
   "metadata": {},
   "outputs": [],
   "source": [
    "from pymongo import MongoClient"
   ]
  },
  {
   "cell_type": "markdown",
   "metadata": {},
   "source": [
    "```bash\n",
    "# Install MongoDB ...\n",
    "\n",
    "sudo mongod\n",
    "```"
   ]
  },
  {
   "cell_type": "markdown",
   "metadata": {},
   "source": [
    "![](./images/MongoRunning0.jpg)\n",
    "![](./images/MongoRunning.jpg)"
   ]
  },
  {
   "cell_type": "code",
   "execution_count": 3,
   "metadata": {},
   "outputs": [],
   "source": [
    "client = MongoClient('localhost', 27017)"
   ]
  },
  {
   "cell_type": "code",
   "execution_count": 4,
   "metadata": {},
   "outputs": [
    {
     "data": {
      "text/plain": [
       "MongoClient(host=['localhost:27017'], document_class=dict, tz_aware=False, connect=True)"
      ]
     },
     "execution_count": 4,
     "metadata": {},
     "output_type": "execute_result"
    }
   ],
   "source": [
    "client"
   ]
  },
  {
   "cell_type": "code",
   "execution_count": 5,
   "metadata": {},
   "outputs": [],
   "source": [
    "db = client.test_database"
   ]
  },
  {
   "cell_type": "code",
   "execution_count": 6,
   "metadata": {},
   "outputs": [],
   "source": [
    "collection = db.test_collection"
   ]
  },
  {
   "cell_type": "code",
   "execution_count": 7,
   "metadata": {},
   "outputs": [
    {
     "data": {
      "text/plain": [
       "<pymongo.results.InsertOneResult at 0x7fba99162540>"
      ]
     },
     "execution_count": 7,
     "metadata": {},
     "output_type": "execute_result"
    }
   ],
   "source": [
    "collection.insert_one({\n",
    "    'name': 'Dopey',\n",
    "    'race': 'dwarf'\n",
    "})"
   ]
  },
  {
   "cell_type": "code",
   "execution_count": 8,
   "metadata": {},
   "outputs": [
    {
     "data": {
      "text/plain": [
       "['test_collection']"
      ]
     },
     "execution_count": 8,
     "metadata": {},
     "output_type": "execute_result"
    }
   ],
   "source": [
    "db.list_collection_names()"
   ]
  },
  {
   "cell_type": "code",
   "execution_count": 9,
   "metadata": {},
   "outputs": [
    {
     "data": {
      "text/plain": [
       "<pymongo.results.InsertOneResult at 0x7fba82d60c40>"
      ]
     },
     "execution_count": 9,
     "metadata": {},
     "output_type": "execute_result"
    }
   ],
   "source": [
    "collection.insert_one({\n",
    "    'name': 'Legolas',\n",
    "    'race': 'elf'\n",
    "})"
   ]
  },
  {
   "cell_type": "code",
   "execution_count": 10,
   "metadata": {},
   "outputs": [
    {
     "data": {
      "text/plain": [
       "{'_id': ObjectId('622c68f1295d2bf57b80c552'), 'name': 'Dopey', 'race': 'dwarf'}"
      ]
     },
     "execution_count": 10,
     "metadata": {},
     "output_type": "execute_result"
    }
   ],
   "source": [
    "collection.find_one()"
   ]
  },
  {
   "cell_type": "code",
   "execution_count": 11,
   "metadata": {},
   "outputs": [
    {
     "data": {
      "text/plain": [
       "{'_id': ObjectId('622c6934295d2bf57b80c553'),\n",
       " 'name': 'Legolas',\n",
       " 'race': 'elf',\n",
       " 'age': 3000}"
      ]
     },
     "execution_count": 11,
     "metadata": {},
     "output_type": "execute_result"
    }
   ],
   "source": [
    "collection.find_one({'race': 'elf'})"
   ]
  },
  {
   "cell_type": "code",
   "execution_count": 12,
   "metadata": {},
   "outputs": [
    {
     "data": {
      "text/plain": [
       "4"
      ]
     },
     "execution_count": 12,
     "metadata": {},
     "output_type": "execute_result"
    }
   ],
   "source": [
    "collection.count_documents({})"
   ]
  },
  {
   "cell_type": "code",
   "execution_count": 13,
   "metadata": {},
   "outputs": [
    {
     "data": {
      "text/plain": [
       "<pymongo.results.UpdateResult at 0x7fba82d65ac0>"
      ]
     },
     "execution_count": 13,
     "metadata": {},
     "output_type": "execute_result"
    }
   ],
   "source": [
    "collection.update_one(\n",
    "    {'name': 'Legolas'},\n",
    "    {'$set': {'age': 3000}}\n",
    ")"
   ]
  },
  {
   "cell_type": "code",
   "execution_count": 14,
   "metadata": {},
   "outputs": [
    {
     "data": {
      "text/plain": [
       "{'_id': ObjectId('622c6934295d2bf57b80c553'),\n",
       " 'name': 'Legolas',\n",
       " 'race': 'elf',\n",
       " 'age': 3000}"
      ]
     },
     "execution_count": 14,
     "metadata": {},
     "output_type": "execute_result"
    }
   ],
   "source": [
    "collection.find_one({'race': 'elf'})"
   ]
  }
 ],
 "metadata": {
  "kernelspec": {
   "display_name": "Python 3",
   "language": "python",
   "name": "python3"
  },
  "language_info": {
   "codemirror_mode": {
    "name": "ipython",
    "version": 3
   },
   "file_extension": ".py",
   "mimetype": "text/x-python",
   "name": "python",
   "nbconvert_exporter": "python",
   "pygments_lexer": "ipython3",
   "version": "3.6.7"
  }
 },
 "nbformat": 4,
 "nbformat_minor": 5
}
