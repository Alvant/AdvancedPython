{
 "cells": [
  {
   "cell_type": "markdown",
   "metadata": {},
   "source": [
    "# Coroutines. Into the Async\n",
    "\n",
    "![](./images/into_the_unknown.jpeg)"
   ]
  },
  {
   "cell_type": "markdown",
   "metadata": {},
   "source": [
    "# Содержание<a id=\"contents\"></a>\n",
    "\n",
    "* [Coroutines](#coroutines)\n",
    "  * [Debt from the Lab 1: GeneratorExit](#debt1)\n",
    "  * [Generator's next vs. Coroutine's send](#next-vs-send)\n",
    "  * [Debt from the Lab 2: Receive & Send](#debt2)\n",
    "* [CPU & I/O Bound Programs](#cpu-and-io-bound)\n",
    "* [Deeper in Concurrency: Coroutines vs. Threading vs. Parallelism](#deeper-in-concurrency)\n",
    "* [Asyncio, Event Loop, Futures (Tasks)](#asyncio)\n",
    "  * [Butterbrot](#butterbrot)\n",
    "* [References](#references)\n",
    "  * [Advanced](#references-advanced)\n",
    "  * [Related](#references-related)\n",
    "  * [Probably Also Worth Attention](#references-probably-worth)\n",
    "  * [Miscellaneous](#references-misc)\n",
    "  * [Probably Miscellaneous (but Maybe Important)](#references-probably-misc)"
   ]
  },
  {
   "cell_type": "code",
   "execution_count": null,
   "metadata": {},
   "outputs": [],
   "source": [
    "import asyncio\n",
    "import datetime\n",
    "import time\n",
    "\n",
    "from typing import Awaitable\n",
    "\n",
    "# Need this stuff to run asyncio in Jupyter Notebook:\n",
    "# https://github.com/ipython/ipython/issues/11338\n",
    "# https://stackoverflow.com/a/56434301/8094251\n",
    "\n",
    "import nest_asyncio\n",
    "\n",
    "nest_asyncio.apply()"
   ]
  },
  {
   "cell_type": "markdown",
   "metadata": {},
   "source": [
    "## Coroutines<a id=\"coroutines\"></a>\n",
    "<div style=\"text-align: right;\"><a href=#contents>Back to Contents</a></div>\n",
    "\n",
    "![](./images/beazley_intro_slide.png)\n",
    "\n",
    "Приставка \"co\" в слове корутина — означает \"совместно\", \"вместе\".\n",
    "Ключевую роль играет возможность передачи значения другим корутинам (`send`) и ожидание результата работы от других корутин (`yield from`).\n",
    "\n",
    "Из [словаря](https://en.wiktionary.org/wiki/coroutine):\n",
    "> *Coroutine* is a piece of code that performs a task, and that can be passed new input and return output more than once.\n",
    "\n",
    "И в качестве более частных разновидностей корутины можно выделить *сабрутины* (обычные программы):\n",
    "> Subroutine is a coroutine that accepts input once and returns output once.\n",
    "\n",
    "и *генераторы*\n",
    "> Generator is a coroutine that accepts input once, but yields output multiple times.\n",
    "\n",
    "А вообще, на корутины и обычные функции можно смотреть просто как на абстракции стека вызовов и порядка выполнения инструкций: когда есть некоторый порядок выполнения блоков кода и в каждом блоке известна текущая выполняемая инструкция.\n",
    "\n",
    "<figure style=\"text-align: center;\">\n",
    "    <img src='./images/call_stack.png' alt='missing' />\n",
    "    <figcaption>Про Call stack на примере JS (<a>https://ru.hexlet.io/courses/js-asynchronous-programming/lessons/call-stack/theory_unit</a>).</figcaption>\n",
    "</figure>\n",
    "\n",
    "Как в случае сабрутин, так и в случае корутин, при их выполнении выделяется память под локальные переменные, последовательно выполняются строки, а на стадии `return` возвращаемое значение кладётся в стек вызовов, и освобождается память, выделенная под локальные переменные, под указатель на текущую инструкцию в теле функции.\n",
    "Отличие же корутин от обычных функций в том, что при выбрысывании значения вовне с помощью `yield` оно кладётся в стек, но *состояние корутины сохраняется*.\n",
    "При получении значения из `yield` состояние стека восстанавливается, и продолжается выполнение корутины.\n",
    "Таким образом, корутина может передавать контроль другой функции с сохранением собственного состояния.\n",
    "Корутина использует часть функционала от генератора, расширяя его.\n",
    "\n",
    "Сходство корутин с простыми функциями в том, что порядок выполнения кода в обоих случаях последовательный (выполняется одна функция, после неё выполняется другая, но не случайная, а конкретная).\n",
    "Таким образом, корутины, запущенные из одного источника, могут одновременно находиться в состоянии выполнения, но в каждый момент времени реально выполняется только одна из них (\"concurrent but not parallel\").\n",
    "\n",
    "Корутина не может передавать управление произвольной корутине, в то же время находящейся в состоянии исполнения.\n",
    "Корутина может передать управление либо вновь созданной корутине (`yield from`), либо коду, вызвавшему корутину (который в стеке вызовов находится сразу перед корутиной).\n",
    "И родитель корутины может уже передать контроль другой дочерней корутине."
   ]
  },
  {
   "cell_type": "markdown",
   "metadata": {},
   "source": [
    "### Debt from the Lab 1: GeneratorExit<a id=\"debt1\"></a>\n",
    "<div style=\"text-align: right;\"><a href=#contents>Back to Contents</a></div>\n",
    "\n",
    "Значения посылаются в корутины с помощью метода `send`.\n",
    "Закрыть корутину от получения значений можно с помощью метода `close`.\n",
    "При этом внутри корутины выбрасывается ошибка `GeneratorExit`.\n",
    "Стоит отметить, что данная ошибка наследуется не от `Exception`, а от `BaseException`, так как \"[по сути не является ошибкой](https://docs.python.org/3/library/exceptions.html#GeneratorExit)\"."
   ]
  },
  {
   "cell_type": "code",
   "execution_count": null,
   "metadata": {},
   "outputs": [],
   "source": [
    "def receive_value():\n",
    "    while True:\n",
    "        try:\n",
    "            value = yield\n",
    "        except GeneratorExit as exception:\n",
    "            print('Coroutine closed!')\n",
    "            \n",
    "            raise exception"
   ]
  },
  {
   "cell_type": "code",
   "execution_count": null,
   "metadata": {},
   "outputs": [
    {
     "name": "stdout",
     "output_type": "stream",
     "text": [
      "Coroutine closed!\n"
     ]
    }
   ],
   "source": [
    "coroutine = receive_value()\n",
    "\n",
    "next(coroutine)\n",
    "\n",
    "coroutine.send(123)\n",
    "coroutine.close()"
   ]
  },
  {
   "cell_type": "markdown",
   "metadata": {},
   "source": [
    "### Generator's `next` vs. Coroutine's `send`<a id=\"next-vs-send\"></a>\n",
    "<div style=\"text-align: right;\"><a href=#contents>Back to Contents</a></div>\n",
    "\n",
    "Хотя функция `next` получает значение из генератора, а метод `send` посылает значение в корутину, `yield`, который под капотом, *всегда и посылает, и получает значение*.\n",
    "Здесь важен порядок отправки-получения: в выражении с `yield` значение сначала выбрасывается из корутины вовне, и только потом значение выражения с `yield` становится равным тому значению, которое передано в корутину с помощью `send`.\n",
    "```python\n",
    "received_value = yield emitted_value\n",
    "```\n",
    "\n",
    "Метод `send` также двоякий: он не только отправляет одно значение, но и принимает другое из корутины.\n",
    "```python\n",
    "# coroutine = ...\n",
    "\n",
    "received_value = coroutine.send(emitted_value)\n",
    "```\n",
    "\n",
    "Отсюда становится понятно, почему при инициализации корутины необходимо первый раз сделать `next()` или `send(None)`: после этого происходит первый выброс значения из корутины и выполнение корутины останавливается перед получением значения в `yield`.\n",
    "Далее, при следующем вызове `send` с уже нормальным значением выполнение корутины продолжается на этапе *получения значения из yield*, продолжается до следующего `yield`, из него выбрасывается значение, и код останавливается, опять, на моменте получения значения в новый `yield`.\n",
    "\n",
    "С генераторами всё похоже, только там не надо делать \"инициализацию\", потому что первый выброс значения уже, как правило, осмысленный в случае генератора."
   ]
  },
  {
   "cell_type": "markdown",
   "metadata": {},
   "source": [
    "### Debt from the Lab 2: Receive & Send<a id=\"debt2\"></a>\n",
    "<div style=\"text-align: right;\"><a href=#contents>Back to Contents</a></div>\n",
    "\n",
    "Можно написать корутину, которая и принимает и отдаёт значения.\n",
    "Правда, это **не рекомендуется**, потому что не понятно и легко ошибиться."
   ]
  },
  {
   "cell_type": "code",
   "execution_count": null,
   "metadata": {},
   "outputs": [],
   "source": [
    "def receive_and_send():\n",
    "    value = 'initial value'\n",
    "    \n",
    "    while True:\n",
    "        receved_value = yield value\n",
    "        \n",
    "        print(f'Sent: {value}. Received: {receved_value}')\n",
    "        \n",
    "        value = receved_value"
   ]
  },
  {
   "cell_type": "code",
   "execution_count": null,
   "metadata": {},
   "outputs": [
    {
     "data": {
      "text/plain": [
       "'initial value'"
      ]
     },
     "execution_count": null,
     "metadata": {},
     "output_type": "execute_result"
    }
   ],
   "source": [
    "coroutine = receive_and_send()\n",
    "\n",
    "next(coroutine)"
   ]
  },
  {
   "cell_type": "code",
   "execution_count": null,
   "metadata": {},
   "outputs": [
    {
     "name": "stdout",
     "output_type": "stream",
     "text": [
      "Sent: initial value. Received: -17\n"
     ]
    },
    {
     "data": {
      "text/plain": [
       "-17"
      ]
     },
     "execution_count": null,
     "metadata": {},
     "output_type": "execute_result"
    }
   ],
   "source": [
    "coroutine.send(-17)"
   ]
  },
  {
   "cell_type": "code",
   "execution_count": null,
   "metadata": {},
   "outputs": [
    {
     "name": "stdout",
     "output_type": "stream",
     "text": [
      "Sent: -17. Received: What should I do I'm just a little baby\n"
     ]
    },
    {
     "data": {
      "text/plain": [
       "\"What should I do I'm just a little baby\""
      ]
     },
     "execution_count": null,
     "metadata": {},
     "output_type": "execute_result"
    }
   ],
   "source": [
    "coroutine.send(\"What should I do I'm just a little baby\")"
   ]
  },
  {
   "cell_type": "markdown",
   "metadata": {},
   "source": [
    "## CPU & I/O Bound Programs<a id=\"cpu-and-io-bound\"></a>\n",
    "<div style=\"text-align: right;\"><a href=#contents>Back to Contents</a></div>\n",
    "\n",
    "Зачем нужны корутины?\n",
    "Корутины — как способ асинхронно выполнять ряд действий.\n",
    "\n",
    "Вообще, при написании кода, даже до написания, надо задумываться о том\n",
    "1. Будет ли код ожидать чего-то, например данных из базы данных или от сервера. Если ответ \"да\", то производительность кода, скорее всего, ограничена операциями ввода-вывода (I/O bound code).\n",
    "<figure style=\"text-align: center;\">\n",
    "    <img src='./images/website-loading3.jpg' alt='missing' />\n",
    "    <figcaption><a>https://www.calvyn.com/6-tips-on-how-to-optimize-page-speed/</a>.</figcaption>\n",
    "</figure>\n",
    "\n",
    "2. Будет ли код выполнять какие-то сложные долгие вычисления? Если ответ \"да\", то, скорее всего, производительность кода ограничена количеством ядер процессора (CPU bound code).\n",
    "\n",
    "```python\n",
    "for i in range(10000000000000):\n",
    "    _ = 1 + 1\n",
    "```\n",
    "\n",
    "Ввиду такого свойства текущей реализации CPython языка Питон, как [GIL](https://en.wikipedia.org/wiki/Global_interpreter_lock), CPU bound программы никак не получится оптимизировать, кроме как использовать библиотеку `multiprocessing` для параллельного выполнения кода на нескольких ядрах (которая просто запускает по отдельному интерпретатору Питона на каждом ядре). \n",
    "Что же до I/O bound программ, то тут на помощь как раз могут прийти корутины (и не только)."
   ]
  },
  {
   "cell_type": "markdown",
   "metadata": {},
   "source": [
    "## Deeper in Concurrency: Coroutines vs. Threading vs. Parallelism<a id=\"deeper-in-concurrency\"></a>\n",
    "<div style=\"text-align: right;\"><a href=#contents>Back to Contents</a></div>\n",
    "\n",
    "В Питоне есть несколько способов *одновременно* выполнять несколько вещей:\n",
    "* нити (потоки)\n",
    "* процессы\n",
    "* задачи (можно думать о задачах в рамках конкретной библиотеки `asyncio`; основано на корутинах)\n",
    "\n",
    "В целом подходы могут показаться похожими, но если копать глубже, то у каждого есть свои уникальные черты и область применимости.\n",
    "Так, потоки отличаются от задач порядком выполнения: остановка и продолжение потоков регулируется операционной системой, в то время как в `asyncio` задачи кооперируют друг с другом: каждая может давать другим понять, что она готова продолжать работу.\n",
    "Ещё преимущество `asyncio` перед потоками в том, что при выполнении корутин дополнительные расходы по памяти меньше.\n",
    "При самом создании корутины никакого исполнения вообще не происходит: объект корутины может быть передан окрестратору (Event Loop), который уже может запустить корутину на выполнение тотчас же или позже.\n",
    "\n",
    "Далее мы подробнее обсудим библиотеку `asyncio` (так как тема лабы — корутины)."
   ]
  },
  {
   "cell_type": "markdown",
   "metadata": {},
   "source": [
    "## Asyncio, Event Loop, Futures (Tasks)<a id=\"asyncio\"></a>\n",
    "<div style=\"text-align: right;\"><a href=#contents>Back to Contents</a></div>\n",
    "\n",
    "Библиотека `asyncio` появилась в Питоне ~3.4.\n",
    "Постоянно дополнялась, обновлялась (некоторые удобные абстракции работают начиная с Питона 3.7).\n",
    "\n",
    "Плюсы `asyncio`по сравнению с чистыми корутинами:\n",
    "* С помощью специального синтаксиса корутины выделяются в языке более явно: так, это уже не просто \"расширенная версия геренатора\".\n",
    "* Есть готовая реализация Event Loop, который, как планировщик задач или дирижёр, вызывает те корутины-задачи, которые уже готовы продолжать работу. Event Loop ждёт, пока не произойдёт какое-либо событие (что-то скачалось, данные подгрузились, какая-то задача завершилась, ...), и реагирует по ситуации.\n",
    "\n",
    "<figure style=\"text-align: center;\">\n",
    "    <img src='./images/event_loop.png' alt='missing' />\n",
    "    <figcaption>Tasks в Event Loop (<a>https://docs.python.org/3.4/library/asyncio-task.html</a>).</figcaption>\n",
    "</figure>\n",
    "\n",
    "* Есть возможность использовать асинхронность в контекстных менеджерах и при итерациях в цикле `for`\n",
    "\n",
    "Корутина, начиная с Питона ~3.4, модет определаться так\n",
    "```python\n",
    "async def read_data(database):\n",
    "    pass\n",
    "```\n",
    "\n",
    "Ключевое здесь — `async def`.\n",
    "Модификатор `async` делает функцию асинхронной и позволяет использовать внутри такой (и только такой) функции конструкцию с `await`:\n",
    "```python\n",
    "async def read_data(database):\n",
    "    data = await database.fetch('SELECT name FROM mushrooms WHERE cap_color = \"RED\";')\n",
    "    \n",
    "    # Doint something with the data...\n",
    "```\n",
    "\n",
    "При этом `await` служит аналогом `yield from`.\n",
    "И после `await` также может идти не что угодно, а специальный объект (Awaitable объект, который реализуется специальный magic метод).\n",
    "При использовании `await` вне `async def` функций будет ошибка `SyntaxError`.\n",
    "Именно `await` передаёт контроль из корутины вызывающему корутину коду и позволяет переключаться на выполнение других задач, пока текущая задача под `await` не будет выполнена.\n",
    "При определении корутины с помощью `async def` использовать `yield` внутри уже нельзя: как способы возвращения значения вызывающему коду могут использоваться только `return` и `await`.\n",
    "\n",
    "Корутины в рамках `asyncio` — как задачи (`Task`), которые регулирует Event Loop.\n",
    "При этом часто для задач можно встретить обозначение `Future`: что-то, что ещё не готово, но посчитается когда-то в будущем (класс `Task` наследуется от класса `Future`).\n",
    "Метод для создания задачи `create_task` появился позже, чем метод для создания фьючи `create_future` (в Питоне 3.7).\n",
    "\n",
    "Хоть код читается как \"последовательность действий\", как и в случае с просто корутинами, но, благодаря орекстратору Event Loop, который решает, какая задача будет выполняться следующей, код на самом деле может выполняться в неочевидном порядке.\n",
    "Всё зависит от времени завершения конкрентных задач.\n",
    "\n",
    "Асинхронность важна во многих приложениях.\n",
    "Так, игра на мобильном телефоне должна давать вам как пользователю возможность выйти из приложения, даже если в этот момент вы управляете бегающей сосиской.\n",
    "Или при скачивании чего-либо на компьютере: экран остаётся кликабельным, и вы даже можете прервать загрузку.\n",
    "Упомянутые процессы не блокируют работу: приложение всегда способно обрабатывать другие действия пользователя.\n",
    "Или при работе сервера (например почтового, Gmail) сервер никогда целиком не переключается на работу с конкретным пользователем: только при попытке выполнить какое-то действие со стороны пользователя (например при отправке сообщения) сервер откликнется на запрос, но при бездействии со стороны пользователя (а пользователь, как правило, большую часть времени бездействует) сервер переключится на работу с кем-то ещё.\n",
    "\n",
    "Преимущество же синхронного кода по сравнению с асинхронным — в простоте разработки, в понятности и читаемости кода.\n",
    "Писать асинхронный код тяжелее, так как это требует более глубокого понимания происходящих внутри процессов и того, как они будут взаимодействовать между собой."
   ]
  },
  {
   "cell_type": "markdown",
   "metadata": {},
   "source": [
    "Рассмотрим пару небольших примеров с `asyncio`"
   ]
  },
  {
   "cell_type": "code",
   "execution_count": null,
   "metadata": {},
   "outputs": [],
   "source": [
    "async def hello_world():\n",
    "    print('Hello')\n",
    "    \n",
    "    await asyncio.sleep(2)\n",
    "    \n",
    "    print('world!')"
   ]
  },
  {
   "cell_type": "markdown",
   "metadata": {},
   "source": [
    "Не такая уж и корутина:"
   ]
  },
  {
   "cell_type": "code",
   "execution_count": null,
   "metadata": {},
   "outputs": [
    {
     "name": "stdout",
     "output_type": "stream",
     "text": [
      "'coroutine' object is not an iterator\n"
     ]
    }
   ],
   "source": [
    "coroutine = hello_world()\n",
    "\n",
    "try:\n",
    "    next(coroutine)\n",
    "except TypeError as error:\n",
    "    print(error)"
   ]
  },
  {
   "cell_type": "markdown",
   "metadata": {},
   "source": [
    "Запустим несколько одинаковых задач асинхронно.\n",
    "Видно, что никакая задача не блокирует поток:"
   ]
  },
  {
   "cell_type": "code",
   "execution_count": null,
   "metadata": {},
   "outputs": [
    {
     "name": "stdout",
     "output_type": "stream",
     "text": [
      "Hello\n",
      "Hello\n",
      "Hello\n",
      "world!\n",
      "world!\n",
      "world!\n"
     ]
    }
   ],
   "source": [
    "task = asyncio.ensure_future(hello_world())\n",
    "task = asyncio.ensure_future(hello_world())\n",
    "task = asyncio.ensure_future(hello_world())"
   ]
  },
  {
   "cell_type": "markdown",
   "metadata": {},
   "source": [
    "И ещё один вариант асинхронного вывода строки `\"Hello world!\"` (источник: http://larsyencken.github.io/gitbook-mcpy/async/asyncio.html): выводится `\"Hello\"`, а в это же время \"выполняется\" функция, возвращающая строку `\"world!\"`.\n",
    "Как только второе слово готово, оно тоже выводится."
   ]
  },
  {
   "cell_type": "code",
   "execution_count": null,
   "metadata": {},
   "outputs": [
    {
     "name": "stdout",
     "output_type": "stream",
     "text": [
      "Hello world!\n"
     ]
    }
   ],
   "source": [
    "async def print_hello_world():\n",
    "    world = asyncio.ensure_future(get_world())\n",
    "\n",
    "    await asyncio.sleep(1)\n",
    "\n",
    "    print('Hello ', end='', flush=True)\n",
    "    print(await world)\n",
    "\n",
    "\n",
    "async def get_world():\n",
    "    await asyncio.sleep(2)\n",
    "    return 'world!'\n",
    "\n",
    "\n",
    "loop = asyncio.get_event_loop()\n",
    "loop.run_until_complete(print_hello_world())"
   ]
  },
  {
   "cell_type": "markdown",
   "metadata": {},
   "source": [
    "Ладно, это было совсем по-игрушечному.\n",
    "Надо посмотреть что-то поинтереснее..."
   ]
  },
  {
   "cell_type": "markdown",
   "metadata": {},
   "source": [
    "### Butterbrot<a id=\"butterbrot\"></a>\n",
    "<div style=\"text-align: right;\"><a href=#contents>Back to Contents</a></div>\n",
    "\n",
    "<figure style=\"text-align: center;\">\n",
    "    <img src='./images/poirot.png' alt='missing' />\n",
    "    <figcaption><a>https://www.pinterest.com.au/pin/628392954236615095/</a>.</figcaption>\n",
    "</figure>\n",
    "\n",
    "Далее идёт переведённый с C# пример синхронного и асинхронного приготовления бутерброда.\n",
    "Оригинал доступен по ссылке: https://docs.microsoft.com/en-us/dotnet/csharp/programming-guide/concepts/async."
   ]
  },
  {
   "cell_type": "markdown",
   "metadata": {},
   "source": [
    "Ниже определяется пайплайн приготовления завтрака `create_breakfast`.\n",
    "Классы для составляющих завтрак пустые, так как они важны только в плане идеи.\n",
    "Функция `sleep` представляет собой симуляцию затрат времени на приготовление.\n",
    "\n",
    "Сначала рассмотрим последовательное приготовление (\"засунули хлеб в тостер, стоим и ждём\")."
   ]
  },
  {
   "cell_type": "code",
   "execution_count": null,
   "metadata": {},
   "outputs": [],
   "source": [
    "def create_breakfast():\n",
    "    cup = pour_coffee()\n",
    "    print(\"Coffee is ready\")\n",
    "\n",
    "    eggs = fry_eggs(2)\n",
    "    print(\"Eggs are ready\")\n",
    "\n",
    "    bacon = fry_bacon(3)\n",
    "    print(\"Bacon is ready\")\n",
    "\n",
    "    toast = toast_bread(2)\n",
    "    apply_butter(toast)\n",
    "    apply_jam(toast)\n",
    "    print(\"Toast is ready\")\n",
    "\n",
    "    orange_juice = pour_orange_juice()\n",
    "    print(\"Orange juice is ready\")\n",
    "    \n",
    "    print(\"Breakfast is ready!\")\n",
    "\n",
    "\n",
    "class Coffee:\n",
    "    pass\n",
    "\n",
    "class Egg:\n",
    "    pass\n",
    "\n",
    "class Bacon:\n",
    "    pass\n",
    "\n",
    "class Toast:\n",
    "    pass\n",
    "\n",
    "class Juice:\n",
    "    pass\n",
    "\n",
    "class OrangeJuice(Juice):\n",
    "    pass\n",
    "\n",
    "\n",
    "def sleep():\n",
    "    num_seconds = 3\n",
    "\n",
    "    time.sleep(num_seconds)\n",
    "\n",
    "\n",
    "def pour_coffee() -> Coffee:\n",
    "    print(\"Pouring coffee\")\n",
    "\n",
    "    return Coffee()\n",
    "\n",
    "\n",
    "def fry_eggs(num_eggs: int) -> Egg:\n",
    "    print(\"Warming the egg pan...\")\n",
    "    sleep()\n",
    "    sleep()\n",
    "    \n",
    "    print(f\"Cracking {num_eggs} eggs\")\n",
    "    \n",
    "    print(\"Cooking the eggs ...\")\n",
    "    sleep()\n",
    "    \n",
    "    print(\"Putting eggs on plate\")\n",
    "\n",
    "    return Egg()\n",
    "\n",
    "\n",
    "def fry_bacon(num_slices: int) -> Bacon:\n",
    "    print(f\"Putting {num_slices} slices of bacon in the pan\")\n",
    "    \n",
    "    print(\"Cooking first side of bacon...\")\n",
    "    sleep()\n",
    "    \n",
    "    for _ in range(num_slices):\n",
    "        print(\"Flipping a slice of bacon\")\n",
    "\n",
    "    print(\"Cooking the second side of bacon...\")\n",
    "    sleep()\n",
    "    \n",
    "    print(\"Putting bacon on plate\")\n",
    "\n",
    "    return Bacon()\n",
    "\n",
    "\n",
    "def toast_bread(num_slices: int) -> Toast:\n",
    "    for _ in range(num_slices):\n",
    "        print(\"Putting a slice of bread in the toaster\")\n",
    "\n",
    "    print(\"Start toasting...\")\n",
    "    sleep()\n",
    "\n",
    "    print(\"Remove toast from toaster\")\n",
    "\n",
    "    return Toast()\n",
    "\n",
    "\n",
    "def apply_butter(toast: Toast) -> None:\n",
    "    print(\"Putting butter on the toast\")\n",
    "\n",
    "\n",
    "def apply_jam(toast: Toast) -> None:\n",
    "    print(\"Putting jam on the toast\")\n",
    "\n",
    "    \n",
    "def pour_orange_juice() -> OrangeJuice:\n",
    "    print(\"Pouring orange juice\")\n",
    "\n",
    "    return OrangeJuice()"
   ]
  },
  {
   "cell_type": "markdown",
   "metadata": {},
   "source": [
    "Функция-измеритель времени, затрачиваемого на приготовление завтрака (время считается по результатам одного запуска)."
   ]
  },
  {
   "cell_type": "code",
   "execution_count": null,
   "metadata": {},
   "outputs": [],
   "source": [
    "def measure_time(func):\n",
    "    start_time = datetime.datetime.now()\n",
    "    \n",
    "    func()\n",
    "    \n",
    "    finish_time = datetime.datetime.now()\n",
    "    elapsed_time = finish_time - start_time\n",
    "    \n",
    "    print(f'\\nElapsed time: {elapsed_time}')"
   ]
  },
  {
   "cell_type": "markdown",
   "metadata": {},
   "source": [
    "Сколько времени занимает приготовление завтрака:"
   ]
  },
  {
   "cell_type": "code",
   "execution_count": null,
   "metadata": {},
   "outputs": [
    {
     "name": "stdout",
     "output_type": "stream",
     "text": [
      "Pouring coffee\n",
      "Coffee is ready\n",
      "Warming the egg pan...\n",
      "Cracking 2 eggs\n",
      "Cooking the eggs ...\n",
      "Putting eggs on plate\n",
      "Eggs are ready\n",
      "Putting 3 slices of bacon in the pan\n",
      "Cooking first side of bacon...\n",
      "Flipping a slice of bacon\n",
      "Flipping a slice of bacon\n",
      "Flipping a slice of bacon\n",
      "Cooking the second side of bacon...\n",
      "Putting bacon on plate\n",
      "Bacon is ready\n",
      "Putting a slice of bread in the toaster\n",
      "Putting a slice of bread in the toaster\n",
      "Start toasting...\n",
      "Remove toast from toaster\n",
      "Putting butter on the toast\n",
      "Putting jam on the toast\n",
      "Toast is ready\n",
      "Pouring orange juice\n",
      "Orange juice is ready\n",
      "Breakfast is ready!\n",
      "\n",
      "Elapsed time: 0:00:18.001853\n"
     ]
    }
   ],
   "source": [
    "measure_time(\n",
    "    create_breakfast\n",
    ")"
   ]
  },
  {
   "cell_type": "markdown",
   "metadata": {},
   "source": [
    "Теперь — асинхронное (типа) приготовление:"
   ]
  },
  {
   "cell_type": "code",
   "execution_count": null,
   "metadata": {},
   "outputs": [],
   "source": [
    "async def create_breakfast_async():\n",
    "    cup = pour_coffee()\n",
    "    print(\"Coffee is ready\")\n",
    "\n",
    "    eggs = await fry_eggs_async(2)\n",
    "    print(\"Eggs are ready\")\n",
    "\n",
    "    bacon = await fry_bacon_async(3)\n",
    "    print(\"Bacon is ready\")\n",
    "\n",
    "    toast = await toast_bread_async(2)\n",
    "    apply_butter(toast)\n",
    "    apply_jam(toast)\n",
    "    print(\"Toast is ready\")\n",
    "\n",
    "    orange_juice = pour_orange_juice()\n",
    "    print(\"Orange juice is ready\")\n",
    "    \n",
    "    print(\"Breakfast is ready!\")\n",
    "\n",
    "\n",
    "async def sleep_async():\n",
    "    num_seconds = 3\n",
    "\n",
    "    await asyncio.sleep(num_seconds)\n",
    "\n",
    "\n",
    "async def fry_eggs_async(num_eggs: int) -> Awaitable[Egg]:\n",
    "    print(\"Warming the egg pan...\")\n",
    "    await sleep_async()\n",
    "    await sleep_async()\n",
    "    \n",
    "    print(f\"Cracking {num_eggs} eggs\")\n",
    "    \n",
    "    print(\"Cooking the eggs ...\")\n",
    "    await sleep_async()\n",
    "    \n",
    "    print(\"Putting eggs on plate\")\n",
    "\n",
    "    return Egg()\n",
    "\n",
    "\n",
    "async def fry_bacon_async(num_slices: int) -> Awaitable[Bacon]:\n",
    "    print(f\"Putting {num_slices} slices of bacon in the pan\")\n",
    "    \n",
    "    print(\"Cooking first side of bacon...\")\n",
    "    await sleep_async()\n",
    "    \n",
    "    for _ in range(num_slices):\n",
    "        print(\"Flipping a slice of bacon\")\n",
    "\n",
    "    print(\"Cooking the second side of bacon...\")\n",
    "    await sleep_async()\n",
    "    \n",
    "    print(\"Putting bacon on plate\")\n",
    "\n",
    "    return Bacon()\n",
    "\n",
    "\n",
    "async def toast_bread_async(num_slices: int) -> Awaitable[Toast]:\n",
    "    for _ in range(num_slices):\n",
    "        print(\"Putting a slice of bread in the toaster\")\n",
    "\n",
    "    print(\"Start toasting...\")\n",
    "    await sleep_async()\n",
    "\n",
    "    print(\"Remove toast from toaster\")\n",
    "\n",
    "    return Toast()"
   ]
  },
  {
   "cell_type": "markdown",
   "metadata": {},
   "source": [
    "Смотрим время..."
   ]
  },
  {
   "cell_type": "code",
   "execution_count": null,
   "metadata": {},
   "outputs": [
    {
     "name": "stdout",
     "output_type": "stream",
     "text": [
      "Pouring coffee\n",
      "Coffee is ready\n",
      "Warming the egg pan...\n",
      "Cracking 2 eggs\n",
      "Cooking the eggs ...\n",
      "Putting eggs on plate\n",
      "Eggs are ready\n",
      "Putting 3 slices of bacon in the pan\n",
      "Cooking first side of bacon...\n",
      "Flipping a slice of bacon\n",
      "Flipping a slice of bacon\n",
      "Flipping a slice of bacon\n",
      "Cooking the second side of bacon...\n",
      "Putting bacon on plate\n",
      "Bacon is ready\n",
      "Putting a slice of bread in the toaster\n",
      "Putting a slice of bread in the toaster\n",
      "Start toasting...\n",
      "Remove toast from toaster\n",
      "Putting butter on the toast\n",
      "Putting jam on the toast\n",
      "Toast is ready\n",
      "Pouring orange juice\n",
      "Orange juice is ready\n",
      "Breakfast is ready!\n",
      "\n",
      "Elapsed time: 0:00:18.004444\n"
     ]
    }
   ],
   "source": [
    "def main():\n",
    "    loop = asyncio.get_event_loop()\n",
    "    loop.run_until_complete(\n",
    "        create_breakfast_async()\n",
    "    )\n",
    "\n",
    "measure_time(main)\n",
    "\n",
    "del main"
   ]
  },
  {
   "cell_type": "markdown",
   "metadata": {},
   "source": [
    "Время не изменилось!\n",
    "Дело в том, что просто вставки `async` и `await` в исходный код ничего фактически не меняют.\n",
    "Надо \"включить асинхронную логику\".\n",
    "Ниже мы это и сделаем!\n",
    "Надо создать задачи, но ждать их завершения сразу не надо: пусть играют на фоне, а дождаться их мы должны только тогда, когда нам нужен \"осязаемый\" результат."
   ]
  },
  {
   "cell_type": "code",
   "execution_count": null,
   "metadata": {},
   "outputs": [],
   "source": [
    "async def create_breakfast_v2_async():\n",
    "    \"\"\"Concurrent breakfast\n",
    "    \"\"\"\n",
    "    cup = pour_coffee()\n",
    "    print(\"Coffee is ready\")\n",
    "\n",
    "    eggs_task = asyncio.ensure_future(\n",
    "        fry_eggs_async(2)\n",
    "    )\n",
    "    bacon_task = asyncio.ensure_future(\n",
    "        fry_bacon_async(3)\n",
    "    )\n",
    "    toast_task = asyncio.ensure_future(\n",
    "        toast_bread_async(2)\n",
    "    )\n",
    "    \n",
    "    toast = await toast_task\n",
    "    apply_butter(toast)\n",
    "    apply_jam(toast)\n",
    "    print(\"Toast is ready\")\n",
    "    \n",
    "    eggs = await eggs_task\n",
    "    print(\"Eggs are ready\")\n",
    "    \n",
    "    bacon = await bacon_task\n",
    "    print(\"Bacon is ready\")\n",
    "\n",
    "    orange_juice = pour_orange_juice()\n",
    "    print(\"Orange juice is ready\")\n",
    "    \n",
    "    print(\"Breakfast is ready!\")"
   ]
  },
  {
   "cell_type": "markdown",
   "metadata": {},
   "source": [
    "И время..."
   ]
  },
  {
   "cell_type": "code",
   "execution_count": null,
   "metadata": {},
   "outputs": [
    {
     "name": "stdout",
     "output_type": "stream",
     "text": [
      "Pouring coffee\n",
      "Coffee is ready\n",
      "Warming the egg pan...\n",
      "Putting 3 slices of bacon in the pan\n",
      "Cooking first side of bacon...\n",
      "Putting a slice of bread in the toaster\n",
      "Putting a slice of bread in the toaster\n",
      "Start toasting...\n",
      "Flipping a slice of bacon\n",
      "Flipping a slice of bacon\n",
      "Flipping a slice of bacon\n",
      "Cooking the second side of bacon...\n",
      "Remove toast from toaster\n",
      "Putting butter on the toast\n",
      "Putting jam on the toast\n",
      "Toast is ready\n",
      "Cracking 2 eggs\n",
      "Cooking the eggs ...\n",
      "Putting bacon on plate\n",
      "Putting eggs on plate\n",
      "Eggs are ready\n",
      "Bacon is ready\n",
      "Pouring orange juice\n",
      "Orange juice is ready\n",
      "Breakfast is ready!\n",
      "\n",
      "Elapsed time: 0:00:09.004394\n"
     ]
    }
   ],
   "source": [
    "def main():\n",
    "    loop = asyncio.get_event_loop()\n",
    "    loop.run_until_complete(\n",
    "        create_breakfast_v2_async()\n",
    "    )\n",
    "\n",
    "measure_time(main)\n",
    "\n",
    "del main"
   ]
  },
  {
   "cell_type": "markdown",
   "metadata": {},
   "source": [
    "...уменьшилось! Ура!\n",
    "\n",
    "Но это не предел улучшениям: пара синхронных одномоментных действий (намазывание масла и джема на хлеб) завязаны на одно асинхронное (приготовление хлеба в тостере).\n",
    "Итого все эти действия вместе представляют собой асинхронный блок.\n",
    "Давайте объединим всё, связанное с хлебом, в один асинхронный блок!"
   ]
  },
  {
   "cell_type": "code",
   "execution_count": null,
   "metadata": {},
   "outputs": [],
   "source": [
    "async def create_breakfast_v3_async():\n",
    "    \"\"\"Concurrent and recomposed breakfast\n",
    "    \"\"\"\n",
    "    cup = pour_coffee()\n",
    "    print(\"Coffee is ready\")\n",
    "\n",
    "    eggs_task = asyncio.ensure_future(\n",
    "        fry_eggs_async(2)\n",
    "    )\n",
    "    bacon_task = asyncio.ensure_future(\n",
    "        fry_bacon_async(3)\n",
    "    )\n",
    "    toast_task = asyncio.ensure_future(\n",
    "        toast_bread_with_butter_and_jam_async(2)\n",
    "    )\n",
    "    \n",
    "    eggs = await eggs_task\n",
    "    print(\"Eggs are ready\")\n",
    "    \n",
    "    bacon = await bacon_task\n",
    "    print(\"Bacon is ready\")\n",
    "\n",
    "    toast = await toast_task\n",
    "    print(\"Toast is ready\")\n",
    "    \n",
    "    orange_juice = pour_orange_juice()\n",
    "    print(\"Orange juice is ready\")\n",
    "    \n",
    "    print(\"Breakfast is ready!\")\n",
    "\n",
    "\n",
    "async def toast_bread_with_butter_and_jam_async(num_slices: int) -> Toast:\n",
    "    toast = await toast_bread_async(num_slices)\n",
    "    \n",
    "    apply_butter(toast)\n",
    "    apply_jam(toast)\n",
    "\n",
    "    return toast"
   ]
  },
  {
   "cell_type": "markdown",
   "metadata": {},
   "source": [
    "Есть ли улучшения?.."
   ]
  },
  {
   "cell_type": "code",
   "execution_count": null,
   "metadata": {},
   "outputs": [
    {
     "name": "stdout",
     "output_type": "stream",
     "text": [
      "Pouring coffee\n",
      "Coffee is ready\n",
      "Warming the egg pan...\n",
      "Putting 3 slices of bacon in the pan\n",
      "Cooking first side of bacon...\n",
      "Putting a slice of bread in the toaster\n",
      "Putting a slice of bread in the toaster\n",
      "Start toasting...\n",
      "Flipping a slice of bacon\n",
      "Flipping a slice of bacon\n",
      "Flipping a slice of bacon\n",
      "Cooking the second side of bacon...\n",
      "Remove toast from toaster\n",
      "Putting butter on the toast\n",
      "Putting jam on the toast\n",
      "Cracking 2 eggs\n",
      "Cooking the eggs ...\n",
      "Putting bacon on plate\n",
      "Putting eggs on plate\n",
      "Eggs are ready\n",
      "Bacon is ready\n",
      "Toast is ready\n",
      "Pouring orange juice\n",
      "Orange juice is ready\n",
      "Breakfast is ready!\n",
      "\n",
      "Elapsed time: 0:00:09.003816\n"
     ]
    }
   ],
   "source": [
    "def main():\n",
    "    loop = asyncio.get_event_loop()\n",
    "    loop.run_until_complete(\n",
    "        create_breakfast_v3_async()\n",
    "    )\n",
    "\n",
    "measure_time(main)\n",
    "\n",
    "del main"
   ]
  },
  {
   "cell_type": "markdown",
   "metadata": {},
   "source": [
    "Увы, в данном случае они слишком малы, чтобы мы могли увидеть разницу.\n",
    "Но это не значит, что программу не стоит продолжать улучшать :)\n",
    "Ещё один важный пункт, достойный улучшения — ожидание выполнения задач.\n",
    "Раньше мы ждали их в произвольном порядке (просто, как вздумалось).\n",
    "Есть лучший способ — использовать функционал `asyncio` для получения задач просто по мере готовности (то есть порядок выполнения задач определяется просто с помощью Event Loop-а).\n",
    "Ниже — финальный вариант приготовления завтрака:"
   ]
  },
  {
   "cell_type": "code",
   "execution_count": null,
   "metadata": {},
   "outputs": [],
   "source": [
    "async def create_breakfast_v5_async():\n",
    "    \"\"\"Concurrent and recomposed breakfast, with improved await\n",
    "    \"\"\"\n",
    "    cup = pour_coffee()\n",
    "    print(\"Coffee is ready\")\n",
    "\n",
    "    loop = asyncio.get_event_loop()\n",
    "\n",
    "    eggs_task = asyncio.ensure_future(\n",
    "        fry_eggs_async(2)\n",
    "    )\n",
    "    bacon_task = asyncio.ensure_future(\n",
    "        fry_bacon_async(3)\n",
    "    )\n",
    "    toast_task = asyncio.ensure_future(\n",
    "        toast_bread_with_butter_and_jam_async(2)\n",
    "    )\n",
    "    \n",
    "    tasks = [eggs_task, bacon_task, toast_task]\n",
    "    tiny_timeout = 0.01\n",
    "        \n",
    "    while len(tasks) > 0:\n",
    "        finished_tasks, unfinished_tasks = loop.run_until_complete(\n",
    "            asyncio.wait(tasks, return_when=asyncio.FIRST_COMPLETED)\n",
    "        )\n",
    "\n",
    "        for task in finished_tasks:\n",
    "            assert task.done()\n",
    "\n",
    "            if task is eggs_task:\n",
    "                print(\"Eggs are ready\")\n",
    "            elif task is bacon_task:\n",
    "                print(\"Bacon is ready\")\n",
    "            elif task is toast_task:\n",
    "                print(\"Toast is ready\")\n",
    "\n",
    "            tasks.remove(task)\n",
    "    \n",
    "    eggs = eggs_task.result()\n",
    "    bacon = bacon_task.result()\n",
    "    toast = toast_task.result()\n",
    "\n",
    "    orange_juice = pour_orange_juice()\n",
    "    print(\"Orange juice is ready\")\n",
    "    \n",
    "    print(\"Breakfast is ready!\")\n",
    "\n",
    "\n",
    "async def toast_bread_with_butter_and_jam_async(num_slices: int) -> Toast:\n",
    "    toast = await toast_bread_async(num_slices)\n",
    "    \n",
    "    apply_butter(toast)\n",
    "    apply_jam(toast)\n",
    "\n",
    "    return toast"
   ]
  },
  {
   "cell_type": "markdown",
   "metadata": {},
   "source": [
    "И время в лучшем случае..."
   ]
  },
  {
   "cell_type": "code",
   "execution_count": null,
   "metadata": {},
   "outputs": [
    {
     "name": "stdout",
     "output_type": "stream",
     "text": [
      "Pouring coffee\n",
      "Coffee is ready\n",
      "Warming the egg pan...\n",
      "Putting 3 slices of bacon in the pan\n",
      "Cooking first side of bacon...\n",
      "Putting a slice of bread in the toaster\n",
      "Putting a slice of bread in the toaster\n",
      "Start toasting...\n",
      "Flipping a slice of bacon\n",
      "Flipping a slice of bacon\n",
      "Flipping a slice of bacon\n",
      "Cooking the second side of bacon...\n",
      "Remove toast from toaster\n",
      "Putting butter on the toast\n",
      "Putting jam on the toast\n",
      "Toast is ready\n",
      "Cracking 2 eggs\n",
      "Cooking the eggs ...\n",
      "Putting bacon on plate\n",
      "Bacon is ready\n",
      "Putting eggs on plate\n",
      "Eggs are ready\n",
      "Pouring orange juice\n",
      "Orange juice is ready\n",
      "Breakfast is ready!\n",
      "\n",
      "Elapsed time: 0:00:09.001273\n"
     ]
    }
   ],
   "source": [
    "def main():\n",
    "    loop = asyncio.get_event_loop()\n",
    "    loop.run_until_complete(\n",
    "        create_breakfast_v5_async()\n",
    "    )\n",
    "\n",
    "measure_time(main)\n",
    "\n",
    "del main"
   ]
  },
  {
   "cell_type": "markdown",
   "metadata": {},
   "source": [
    "...изменилось не сильно, по сравнению с предыдущими асинхронными выполнениями.\n",
    "Увы, улучшения — а они должны быть :) — слишком малы, чтобы их можно было увидеть за один прогон программы.\n",
    "В оригинальном примере время ожидания измерялось десятками минут (хотя в примерах кода стоят ожидания в $3$ секунды, как в ноутбуке).\n",
    "Столько ждать не хочется) хотя интересно бы было проверить... но, кажется, разница между async реализациями не зависит от времени одного `sleep`?.."
   ]
  },
  {
   "cell_type": "markdown",
   "metadata": {},
   "source": [
    "## References<a id=\"references\"></a>\n",
    "<div style=\"text-align: right;\"><a href=#contents>Back to Contents</a></div>\n",
    "\n",
    "* [video] https://youtu.be/kdzL3r-yJZY\n",
    "\n",
    "Классная получасовая лекция про асинхронность в целом.\n",
    "И там тоже есть пример с приготовлением еды :)\n",
    "\n",
    "* https://realpython.com/python-concurrency/\n",
    "\n",
    "Классно, понятно, с примерами (про корутины + нити + параллельность).\n",
    "\n",
    "* https://ru.stackoverflow.com/a/902762/252621\n",
    "\n",
    "Прикольно, понятно, на русском, в двух словах про то, что такое `Future` и `Task`.\n",
    "\n",
    "* [c#] https://channel9.msdn.com/Series/Three-Essential-Tips-for-Async/Three-Essential-Tips-For-Async-Introduction\n",
    "\n",
    "Несколько видео про C#, но в самом первом видео понятно и общо рассказывают про суть Async (видео на пять минут).\n",
    "\n",
    "* https://tech.chefclub.tv/an-asyncio-io-bound-producer-playing-with-a-cpu-bound-consumer\n",
    "\n",
    "В целом прикольно, несложно, упоминают CPU и I/O bound code.\n",
    "Есть неплохой пример по `asyncio` про consumer + producer (скачивание видео файлов и их обработка).\n",
    "\n",
    "* http://www.blog.pythonlibrary.org/2016/07/26/python-3-an-intro-to-asyncio/\n",
    "\n",
    "Тоже в целом про `asyncio`, тоже с примером (только скачивание файлов).\n",
    "\n",
    "* https://stackoverflow.com/a/34101652/8094251\n",
    "\n",
    "Объясняют разницу между `yield` из генератора и `send` в корутину (что в каком порядке там происходит).\n",
    "\n",
    "* https://stackoverflow.com/a/51116910/8094251\n",
    "\n",
    "Тоже говорят про `yield` в двух ипостасях, про принятие и отправку значений (но как-то размыто и много текста).\n",
    "\n",
    "* https://stackoverflow.com/a/39792393/8094251\n",
    "\n",
    "Общий комментарий про то, что такое корутины.\n",
    "\n",
    "* https://stackoverflow.com/questions/59260268/is-there-ever-a-reason-to-return-await-in-python-asyncio\n",
    "\n",
    "Заметка про `return await`.\n",
    "\n",
    "* https://habr.com/ru/post/314606/\n",
    "\n",
    "Пара заметок про `asyncio` из опыта разработчика в продакшене.\n",
    "Есть слова о правильном закрытии Event Loop-а (о том, что его надо закрывать).\n",
    "\n",
    "\n",
    "### Advanced<a id=\"references-advanced\"></a>\n",
    "<div style=\"text-align: right;\"><a href=#contents>Back to Contents</a></div>\n",
    "\n",
    "* https://stackoverflow.com/a/51177895/8094251\n",
    "\n",
    "Мозговыносящий комментарий-статья на StackOverflow.\n",
    "В первой части объясняются идейные отличия нитей, процессов и задач.\n",
    "Есть несложный пример кастомного Event Loop (!)\n",
    "\n",
    "* https://softwareengineering.stackexchange.com/a/352263/348557\n",
    "\n",
    "Небольшой экскурс в историю корутин (в разных языках программирования).\n",
    "\n",
    "* https://www.python.org/dev/peps/pep-0492/\n",
    "\n",
    "PEP 492 — Coroutines with async and await syntax.\n",
    "Про то, как это всё происходило в Питоне.\n",
    "\n",
    "\n",
    "### Related<a id=\"references-related\"></a>\n",
    "<div style=\"text-align: right;\"><a href=#contents>Back to Contents</a></div>\n",
    "\n",
    "* https://realpython.com/python-gil/\n",
    "\n",
    "Про [GIL](https://ru.wikipedia.org/wiki/Global_Interpreter_Lock).\n",
    "\n",
    "\n",
    "### Probably Also Worth Attention<a id=\"references-probably-worth\"></a>\n",
    "<div style=\"text-align: right;\"><a href=#contents>Back to Contents</a></div>\n",
    "\n",
    "Статьи/видео ниже сам не смотрел, но некоторые из них точно заслуживают внимания.\n",
    "Ссылки в этом разделе — это фактически TODO автора ноутбука на посмотреть/почитать :)\n",
    "\n",
    "* [David M. Beazley 1](http://www.dabeaz.com/generators/)\n",
    "\n",
    "Generator Tricks for Systems Programmers, 2008.\n",
    "\n",
    "\n",
    "* [David M. Beazley 2](http://dabeaz.com/coroutines/)\n",
    "\n",
    "A Curious Course on Coroutines and Concurrency, 2009.\n",
    "\n",
    "Классная презентация.\n",
    "Живая, с юмором и т.д.\n",
    "Есть пример про смешивание генерации и принятие значений в корутине.\n",
    "До конца пока не дошёл...\n",
    "\n",
    "* [David M. Beazley 3](http://www.dabeaz.com/finalgenerator/)\n",
    "\n",
    "Generators: The Final Frontier, 2014.\n",
    "\n",
    "* https://realpython.com/async-io-python/\n",
    "\n",
    "Подробнее про `asyncio`, в начале тоже есть слова про отличия подходов к параллельности в Питоне.\n",
    "\n",
    "* [c#][video] https://channel9.msdn.com/Series/Three-Essential-Tips-for-Async/Three-Essential-Tips-For-Async-Introduction\n",
    "\n",
    "Ещё где-то $6$ небольших видео про C#.\n",
    "\n",
    "* [video] https://www.youtube.com/watch?v=9zinZmE3Ogk\n",
    "\n",
    "Raymond Hettinger, Keynote on Concurrency, PyBay 2017.\n",
    "\n",
    "* [video] https://www.youtube.com/watch?v=E-1Y4kSsAFc\n",
    "\n",
    "Fear and Awaiting in Async: A Savage Journey to the Heart of the Coroutine Dream.\n",
    "\n",
    "* http://dabeaz.blogspot.com/2010/01/python-gil-visualized.html\n",
    "\n",
    "Про GIL.\n",
    "\n",
    "* [video] https://www.youtube.com/watch?v=Obt-vMVdM8s\n",
    "\n",
    "Про GIL.\n",
    "\n",
    "* https://snarky.ca/how-the-heck-does-async-await-work-in-python-3-5/\n",
    "\n",
    "Большая статья про `async` + `await` + с примером Event Loop своими руками в конце.\n",
    "\n",
    "* https://effectivepython.com/2015/03/10/consider-coroutines-to-run-many-functions-concurrently\n",
    "\n",
    "Пример с Conway’s Game of Life, построенной на корутинах.\n",
    "\n",
    "* https://towardsdatascience.com/cpython-internals-how-do-generators-work-ba1c4405b4bc\n",
    "\n",
    "Про геренаторы, есть слова про Call Stack и фреймы.\n",
    "\n",
    "* http://www.andy-pearce.com/blog/posts/2016/Jun/the-state-of-python-coroutines-yield-from/\n",
    "\n",
    "Пара подстатей про `asyncio`.\n",
    "\n",
    "* https://medium.com/python-pandemonium/asyncio-coroutine-patterns-beyond-await-a6121486656f\n",
    "\n",
    "Бесконечный пост про `asyncio`.\n",
    "Видимо, какой-то пример.\n",
    "\n",
    "* https://habr.com/ru/post/420129/\n",
    "\n",
    "Перевод на русский поста выше.\n",
    "\n",
    "* https://sahandsaba.com/understanding-asyncio-node-js-python-3-4.html\n",
    "\n",
    "* https://natenka.github.io/python/fluent-python-coroutine/\n",
    "\n",
    "На русском.\n",
    "\n",
    "* http://larsyencken.github.io/gitbook-mcpy/async/asyncio.html\n",
    "\n",
    "\n",
    "### Miscellaneous<a id=\"references-misc\"></a>\n",
    "<div style=\"text-align: right;\"><a href=#contents>Back to Contents</a></div>\n",
    "\n",
    "* [c#] https://docs.microsoft.com/en-us/dotnet/csharp/async\n",
    "\n",
    "Про Async в C#.\n",
    "\n",
    "* [js] https://medium.com/devschacht/javascript-eventloop-explained-f2dcf84e36ee\n",
    "\n",
    "Прикольный пример из JS из серии \"2 + 2, но не всё так просто\".\n",
    "\n",
    "* [js] https://habr.com/ru/post/461401/\n",
    "\n",
    "Классный пример про Event Loop в JS.\n",
    "\n",
    "\n",
    "### Probably Miscellaneous (but Maybe Important)<a id=\"references-probably-misc\"></a>\n",
    "<div style=\"text-align: right;\"><a href=#contents>Back to Contents</a></div>\n",
    "\n",
    "Ресурсы ниже тоже не смотрел, но, может, стоит.\n",
    "\n",
    "* [js][video] https://www.youtube.com/watch?v=8aGhZQkoFbQ\n",
    "\n",
    "Видео про Event Loop в JS.\n",
    "\n",
    "\n",
    "* https://www.ibm.com/cloud/learn/virtualization-a-complete-guide\n",
    "\n",
    "Про виртуализацию.\n",
    "\n",
    "* https://www.ibm.com/cloud/learn/virtual-machines\n",
    "\n",
    "Про виртуальные машины.\n",
    "\n",
    "* https://www.ibm.com/cloud/learn/hypervisors\n",
    "\n",
    "Про гипервизоры (к виртуализации).\n",
    "\n",
    "* http://www.kegel.com/c10k.html"
   ]
  }
 ],
 "metadata": {
  "kernelspec": {
   "display_name": "py7",
   "language": "python",
   "name": "py7"
  },
  "language_info": {
   "codemirror_mode": {
    "name": "ipython",
    "version": 3
   },
   "file_extension": ".py",
   "mimetype": "text/x-python",
   "name": "python",
   "nbconvert_exporter": "python",
   "pygments_lexer": "ipython3",
   "version": "3.7.9"
  }
 },
 "nbformat": 4,
 "nbformat_minor": 2
}
