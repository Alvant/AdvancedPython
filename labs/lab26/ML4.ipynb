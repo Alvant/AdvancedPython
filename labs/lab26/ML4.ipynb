{
 "cells": [
  {
   "cell_type": "markdown",
   "metadata": {},
   "source": [
    "# Intro to Stats, or Intro 1 / $\\mathbb P(\\mbox{two heads out of two tosses})$\n",
    "\n",
    "---\n",
    "\n",
    "References:\n",
    "* https://en.wikipedia.org/wiki/P-value#Example\n",
    "* https://en.wikipedia.org/wiki/Checking_whether_a_coin_is_fair\n",
    "* https://en.wikipedia.org/wiki/Test_statistic"
   ]
  },
  {
   "cell_type": "code",
   "execution_count": 1,
   "metadata": {},
   "outputs": [],
   "source": [
    "from typing import Callable\n",
    "\n",
    "import numpy as np\n",
    "from scipy.special import binom\n",
    "\n",
    "from matplotlib import pyplot as plt\n",
    "\n",
    "%matplotlib inline\n",
    "%config Completer.use_jedi = False"
   ]
  },
  {
   "cell_type": "code",
   "execution_count": 2,
   "metadata": {},
   "outputs": [],
   "source": [
    "plt.rcParams['font.size'] = 22"
   ]
  },
  {
   "cell_type": "markdown",
   "metadata": {},
   "source": [
    "## Coin\n",
    "\n",
    "Последовательность i.i.d. случайных величин:\n",
    "$$\n",
    "  X_1, \\ldots, X_n\\quad X_i \\sim Be(p)\n",
    "$$\n",
    "\n",
    "Функция вероятности:\n",
    "$$\n",
    "  f(x_1, \\ldots, x_n \\mid p) = p^{\\sum_{i=1}^n x_i} (1 - p)^{n - \\sum_{i=1}^n x_i}\n",
    "$$"
   ]
  },
  {
   "cell_type": "code",
   "execution_count": 3,
   "metadata": {},
   "outputs": [],
   "source": [
    "np.random.seed(42)\n",
    "NUM_TOSSES = 100\n",
    "\n",
    "X = np.random.choice([0, 1], size=NUM_TOSSES, p=[0.3, 0.7])"
   ]
  },
  {
   "cell_type": "code",
   "execution_count": 4,
   "metadata": {},
   "outputs": [
    {
     "data": {
      "text/plain": [
       "array([1, 1, 1, 1, 0, 0, 0, 1, 1, 1, 0, 1, 1, 0, 0, 0, 1, 1, 1, 0])"
      ]
     },
     "execution_count": 4,
     "metadata": {},
     "output_type": "execute_result"
    }
   ],
   "source": [
    "X[:20]"
   ]
  },
  {
   "cell_type": "code",
   "execution_count": 5,
   "metadata": {},
   "outputs": [
    {
     "name": "stdout",
     "output_type": "stream",
     "text": [
      "Решка: 34.\n",
      "Орёл: 66.\n"
     ]
    }
   ],
   "source": [
    "print(f'Решка: {len(np.where(X == 0)[0])}.')\n",
    "print(f'Орёл: {len(np.where(X == 1)[0])}.')"
   ]
  },
  {
   "cell_type": "markdown",
   "metadata": {},
   "source": [
    "### $p$ = ?"
   ]
  },
  {
   "cell_type": "markdown",
   "metadata": {},
   "source": [
    "Статистика:\n",
    "$$\n",
    "  T(X_1, \\ldots, X_n) = \\sum\\limits_{i=1}^n X_i\n",
    "$$\n",
    "\n",
    "Функция вероятности статистики:\n",
    "$$\n",
    "  \\mathbb P(T = k) = \\binom{n}{k} p^k (1 - p)^{n - k},\\quad k \\in [0, n]\n",
    "$$\n",
    "\n",
    "Распределение статистики:\n",
    "$$\n",
    "  T \\sim Bin(n, p)\n",
    "$$"
   ]
  },
  {
   "cell_type": "markdown",
   "metadata": {},
   "source": [
    "### Hypothesis: $p = 0.5$ (\"fair coin\")"
   ]
  },
  {
   "cell_type": "code",
   "execution_count": 6,
   "metadata": {},
   "outputs": [],
   "source": [
    "ALPHA = 0.05"
   ]
  },
  {
   "cell_type": "code",
   "execution_count": 7,
   "metadata": {},
   "outputs": [],
   "source": [
    "def generate(p):\n",
    "    x = range(NUM_TOSSES + 1)\n",
    "    y_f = [\n",
    "        binom(NUM_TOSSES, k) * p**k * (1 - p)**(NUM_TOSSES - k)\n",
    "        for k in x\n",
    "    ]\n",
    "\n",
    "    y_F = list()\n",
    "\n",
    "    for i in range(len(y_f)):\n",
    "        if len(y_F) > 0:\n",
    "            prev = y_F[-1]\n",
    "        else:\n",
    "            prev = 0\n",
    "\n",
    "        y_F.append(prev + y_f[i])\n",
    "    \n",
    "    return x, y_f, y_F"
   ]
  },
  {
   "cell_type": "code",
   "execution_count": 8,
   "metadata": {},
   "outputs": [],
   "source": [
    "p = 0.5\n",
    "\n",
    "x, y_f, y_F = generate(p)"
   ]
  },
  {
   "cell_type": "code",
   "execution_count": 9,
   "metadata": {},
   "outputs": [
    {
     "data": {
      "text/plain": [
       "66"
      ]
     },
     "execution_count": 9,
     "metadata": {},
     "output_type": "execute_result"
    }
   ],
   "source": [
    "np.sum(X)"
   ]
  },
  {
   "cell_type": "code",
   "execution_count": 10,
   "metadata": {},
   "outputs": [
    {
     "data": {
      "text/plain": [
       "79.33333333333333"
      ]
     },
     "execution_count": 10,
     "metadata": {},
     "output_type": "execute_result"
    }
   ],
   "source": [
    "(NUM_TOSSES - np.sum(X)) * 0.7 / 0.3"
   ]
  },
  {
   "cell_type": "code",
   "execution_count": 11,
   "metadata": {},
   "outputs": [],
   "source": [
    "def compute_stats(x, y_f, y_F):\n",
    "    stat_value = np.sum(X)\n",
    "    threshold1 = stat_value\n",
    "    threshold2 = len(X) - stat_value\n",
    "    \n",
    "    compare_bigger = lambda value, threshold: value >= threshold\n",
    "    compare_less = lambda value, threshold: value <= threshold\n",
    "\n",
    "    if stat_value >= len(X) / 2:\n",
    "        compare1, compare2 = compare_bigger, compare_less\n",
    "    else:\n",
    "        compare1, compare2 = compare_less, compare_bigger\n",
    "    \n",
    "    p_value1 = _compute_one_side_p_value(\n",
    "        x, y_f, threshold=threshold1, compare=compare1\n",
    "    )\n",
    "    p_value2 = _compute_one_side_p_value(\n",
    "        x, y_f, threshold=threshold2, compare=compare2\n",
    "    )\n",
    "    \n",
    "    # https://en.wikipedia.org/wiki/One-_and_two-tailed_tests\n",
    "    # https://stats.oarc.ucla.edu/other/mult-pkg/faq/general/faq-what-are-the-differences-between-one-tailed-and-two-tailed-tests\n",
    "    p_value = p_value1 + p_value2\n",
    "\n",
    "    left_threshold, _ = _compute_threshold(x, y_f, which='left')\n",
    "    right_threshold, _ = _compute_threshold(x, y_f, which='right')\n",
    "    \n",
    "    assert left_threshold < right_threshold\n",
    "\n",
    "    return stat_value, p_value, left_threshold, right_threshold\n",
    "\n",
    "\n",
    "def _compute_one_side_p_value(x, y_f, threshold, compare: Callable):\n",
    "    return sum([yi for xi, yi in zip(x, y_f) if compare(xi, threshold)])\n",
    "\n",
    "\n",
    "def _compute_threshold(x, y_f, which: str) -> int:\n",
    "    if which.lower() == 'left':\n",
    "        i = 0\n",
    "        shift = 1\n",
    "        compare = lambda value, threshold: value <= threshold\n",
    "    elif which.lower() == 'right':\n",
    "        i = -1\n",
    "        shift = -1\n",
    "        compare = lambda value, threshold: value >= threshold\n",
    "    else:\n",
    "        raise ValueError(which)\n",
    "\n",
    "    threshold = x[i]\n",
    "    prob = y_f[i]\n",
    "\n",
    "    while prob < ALPHA / 2:\n",
    "        i = i + shift\n",
    "        threshold = x[i]\n",
    "\n",
    "        prob = _compute_one_side_p_value(x, y_f, threshold, compare=compare)\n",
    "    \n",
    "    return threshold, prob"
   ]
  },
  {
   "cell_type": "code",
   "execution_count": 12,
   "metadata": {},
   "outputs": [],
   "source": [
    "t_value, p_value, threshold_left, threshold_right = compute_stats(x, y_f, y_F)"
   ]
  },
  {
   "cell_type": "code",
   "execution_count": 13,
   "metadata": {},
   "outputs": [
    {
     "name": "stdout",
     "output_type": "stream",
     "text": [
      "Statistic value: 66.\n",
      "P-value value: 0.0017899.\n",
      "Critical statistic values: 40 and 60.\n"
     ]
    }
   ],
   "source": [
    "print(f'Statistic value: {t_value}.')\n",
    "print(f'P-value value: {p_value:.7f}.')\n",
    "print(f'Critical statistic values: {threshold_left} and {threshold_right}.')"
   ]
  },
  {
   "cell_type": "code",
   "execution_count": 14,
   "metadata": {},
   "outputs": [
    {
     "name": "stdout",
     "output_type": "stream",
     "text": [
      "p-value = 0.002\n"
     ]
    },
    {
     "data": {
      "image/png": "[encoded data removed]",
      "text/plain": [
       "<Figure size 1080x576 with 1 Axes>"
      ]
     },
     "metadata": {
      "needs_background": "light"
     },
     "output_type": "display_data"
    }
   ],
   "source": [
    "fig, ax = plt.subplots(1, 1, figsize=(15, 8))\n",
    "\n",
    "plt.scatter(x, y_f, color='blue')\n",
    "plt.vlines(t_value, 0, max(y_f), color='k')\n",
    "plt.vlines(threshold_left, 0, max(y_f), color='red', linestyle='--')\n",
    "plt.vlines(threshold_right, 0, max(y_f), color='red', linestyle='--')\n",
    "\n",
    "print(f'p-value = {p_value:.3f}')\n",
    "\n",
    "plt.title('Probability function')\n",
    "plt.xlabel('x')\n",
    "plt.ylabel('f')\n",
    "\n",
    "plt.minorticks_on()\n",
    "plt.grid(which='both')\n",
    "\n",
    "plt.show()"
   ]
  },
  {
   "cell_type": "code",
   "execution_count": 15,
   "metadata": {},
   "outputs": [
    {
     "data": {
      "image/png": "[encoded data removed]",
      "text/plain": [
       "<Figure size 1080x576 with 1 Axes>"
      ]
     },
     "metadata": {
      "needs_background": "light"
     },
     "output_type": "display_data"
    }
   ],
   "source": [
    "fig, ax = plt.subplots(1, 1, figsize=(15, 8))\n",
    "\n",
    "plt.scatter(x, y_F, color='green')\n",
    "\n",
    "plt.title('Distribution function')\n",
    "plt.xlabel('x')\n",
    "plt.ylabel('F')\n",
    "\n",
    "plt.minorticks_on()\n",
    "plt.grid(which='both')\n",
    "\n",
    "plt.show()"
   ]
  },
  {
   "cell_type": "markdown",
   "metadata": {},
   "source": [
    "### Hypothesis: $p = 0.7$ (\"unfair coin\")"
   ]
  },
  {
   "cell_type": "code",
   "execution_count": 16,
   "metadata": {},
   "outputs": [],
   "source": [
    "p = 0.7\n",
    "\n",
    "x, y_f, y_F = generate(p)"
   ]
  },
  {
   "cell_type": "code",
   "execution_count": 17,
   "metadata": {},
   "outputs": [],
   "source": [
    "t_value, p_value, threshold_left, threshold_right = compute_stats(x, y_f, y_F)"
   ]
  },
  {
   "cell_type": "code",
   "execution_count": 18,
   "metadata": {},
   "outputs": [
    {
     "name": "stdout",
     "output_type": "stream",
     "text": [
      "Statistic value: 66.\n",
      "P-value value: 0.8371417.\n",
      "Critical statistic values: 61 and 79.\n"
     ]
    }
   ],
   "source": [
    "print(f'Statistic value: {t_value}.')\n",
    "print(f'P-value value: {p_value:.7f}.')\n",
    "print(f'Critical statistic values: {threshold_left} and {threshold_right}.')"
   ]
  },
  {
   "cell_type": "code",
   "execution_count": 19,
   "metadata": {},
   "outputs": [
    {
     "name": "stdout",
     "output_type": "stream",
     "text": [
      "p-value = 0.837\n"
     ]
    },
    {
     "data": {
      "image/png": "[encoded data removed]",
      "text/plain": [
       "<Figure size 1080x576 with 1 Axes>"
      ]
     },
     "metadata": {
      "needs_background": "light"
     },
     "output_type": "display_data"
    }
   ],
   "source": [
    "fig, ax = plt.subplots(1, 1, figsize=(15, 8))\n",
    "\n",
    "plt.scatter(x, y_f, color='blue')\n",
    "plt.vlines(t_value, 0, max(y_f), color='k')\n",
    "plt.vlines(threshold_left, 0, max(y_f), color='red', linestyle='--')\n",
    "plt.vlines(threshold_right, 0, max(y_f), color='red', linestyle='--')\n",
    "\n",
    "print(f'p-value = {p_value:.3f}')\n",
    "\n",
    "plt.title('Probability function')\n",
    "plt.xlabel('x')\n",
    "plt.ylabel('f')\n",
    "\n",
    "plt.minorticks_on()\n",
    "plt.grid(which='both')\n",
    "\n",
    "plt.show()"
   ]
  },
  {
   "cell_type": "markdown",
   "metadata": {},
   "source": [
    "## Statsmodels: Getting Started\n",
    "\n",
    "Source: https://www.statsmodels.org/stable/gettingstarted.html"
   ]
  },
  {
   "cell_type": "code",
   "execution_count": 20,
   "metadata": {},
   "outputs": [],
   "source": [
    "import pandas as pd\n",
    "import statsmodels.api as sm\n",
    "\n",
    "from patsy import dmatrices"
   ]
  },
  {
   "cell_type": "markdown",
   "metadata": {},
   "source": [
    "### Data"
   ]
  },
  {
   "cell_type": "code",
   "execution_count": 21,
   "metadata": {},
   "outputs": [],
   "source": [
    "df = sm.datasets.get_rdataset(\"Guerry\", \"HistData\").data"
   ]
  },
  {
   "cell_type": "code",
   "execution_count": 22,
   "metadata": {},
   "outputs": [
    {
     "data": {
      "text/plain": [
       "(86, 23)"
      ]
     },
     "execution_count": 22,
     "metadata": {},
     "output_type": "execute_result"
    }
   ],
   "source": [
    "df.shape"
   ]
  },
  {
   "cell_type": "code",
   "execution_count": 23,
   "metadata": {},
   "outputs": [
    {
     "data": {
      "text/html": [
       "<div>\n",
       "<style scoped>\n",
       "    .dataframe tbody tr th:only-of-type {\n",
       "        vertical-align: middle;\n",
       "    }\n",
       "\n",
       "    .dataframe tbody tr th {\n",
       "        vertical-align: top;\n",
       "    }\n",
       "\n",
       "    .dataframe thead th {\n",
       "        text-align: right;\n",
       "    }\n",
       "</style>\n",
       "<table border=\"1\" class=\"dataframe\">\n",
       "  <thead>\n",
       "    <tr style=\"text-align: right;\">\n",
       "      <th></th>\n",
       "      <th>dept</th>\n",
       "      <th>Crime_pers</th>\n",
       "      <th>Crime_prop</th>\n",
       "      <th>Literacy</th>\n",
       "      <th>Donations</th>\n",
       "      <th>Infants</th>\n",
       "      <th>Suicides</th>\n",
       "      <th>Wealth</th>\n",
       "      <th>Commerce</th>\n",
       "      <th>Clergy</th>\n",
       "      <th>Crime_parents</th>\n",
       "      <th>Infanticide</th>\n",
       "      <th>Donation_clergy</th>\n",
       "      <th>Lottery</th>\n",
       "      <th>Desertion</th>\n",
       "      <th>Instruction</th>\n",
       "      <th>Prostitutes</th>\n",
       "      <th>Distance</th>\n",
       "      <th>Area</th>\n",
       "      <th>Pop1831</th>\n",
       "    </tr>\n",
       "  </thead>\n",
       "  <tbody>\n",
       "    <tr>\n",
       "      <th>count</th>\n",
       "      <td>86.000000</td>\n",
       "      <td>86.000000</td>\n",
       "      <td>86.000000</td>\n",
       "      <td>86.000000</td>\n",
       "      <td>86.000000</td>\n",
       "      <td>86.000000</td>\n",
       "      <td>86.000000</td>\n",
       "      <td>86.000000</td>\n",
       "      <td>86.000000</td>\n",
       "      <td>86.000000</td>\n",
       "      <td>86.000000</td>\n",
       "      <td>86.000000</td>\n",
       "      <td>86.000000</td>\n",
       "      <td>86.000000</td>\n",
       "      <td>86.000000</td>\n",
       "      <td>86.000000</td>\n",
       "      <td>86.000000</td>\n",
       "      <td>86.000000</td>\n",
       "      <td>86.000000</td>\n",
       "      <td>86.000000</td>\n",
       "    </tr>\n",
       "    <tr>\n",
       "      <th>mean</th>\n",
       "      <td>46.883721</td>\n",
       "      <td>19754.406977</td>\n",
       "      <td>7843.058140</td>\n",
       "      <td>39.255814</td>\n",
       "      <td>7075.546512</td>\n",
       "      <td>19049.906977</td>\n",
       "      <td>36522.604651</td>\n",
       "      <td>43.500000</td>\n",
       "      <td>42.802326</td>\n",
       "      <td>43.430233</td>\n",
       "      <td>43.500000</td>\n",
       "      <td>43.511628</td>\n",
       "      <td>43.500000</td>\n",
       "      <td>43.500000</td>\n",
       "      <td>43.500000</td>\n",
       "      <td>43.127907</td>\n",
       "      <td>141.872093</td>\n",
       "      <td>207.953140</td>\n",
       "      <td>6146.988372</td>\n",
       "      <td>378.628721</td>\n",
       "    </tr>\n",
       "    <tr>\n",
       "      <th>std</th>\n",
       "      <td>30.426157</td>\n",
       "      <td>7504.703073</td>\n",
       "      <td>3051.352839</td>\n",
       "      <td>17.364051</td>\n",
       "      <td>5834.595216</td>\n",
       "      <td>8820.233546</td>\n",
       "      <td>31312.532649</td>\n",
       "      <td>24.969982</td>\n",
       "      <td>25.028370</td>\n",
       "      <td>24.999549</td>\n",
       "      <td>24.969982</td>\n",
       "      <td>24.948297</td>\n",
       "      <td>24.969982</td>\n",
       "      <td>24.969982</td>\n",
       "      <td>24.969982</td>\n",
       "      <td>24.799809</td>\n",
       "      <td>520.969318</td>\n",
       "      <td>109.320837</td>\n",
       "      <td>1398.246620</td>\n",
       "      <td>148.777230</td>\n",
       "    </tr>\n",
       "    <tr>\n",
       "      <th>min</th>\n",
       "      <td>1.000000</td>\n",
       "      <td>2199.000000</td>\n",
       "      <td>1368.000000</td>\n",
       "      <td>12.000000</td>\n",
       "      <td>1246.000000</td>\n",
       "      <td>2660.000000</td>\n",
       "      <td>3460.000000</td>\n",
       "      <td>1.000000</td>\n",
       "      <td>1.000000</td>\n",
       "      <td>1.000000</td>\n",
       "      <td>1.000000</td>\n",
       "      <td>1.000000</td>\n",
       "      <td>1.000000</td>\n",
       "      <td>1.000000</td>\n",
       "      <td>1.000000</td>\n",
       "      <td>1.000000</td>\n",
       "      <td>0.000000</td>\n",
       "      <td>0.000000</td>\n",
       "      <td>762.000000</td>\n",
       "      <td>129.100000</td>\n",
       "    </tr>\n",
       "    <tr>\n",
       "      <th>25%</th>\n",
       "      <td>24.250000</td>\n",
       "      <td>14156.250000</td>\n",
       "      <td>5933.000000</td>\n",
       "      <td>25.000000</td>\n",
       "      <td>3446.750000</td>\n",
       "      <td>14299.750000</td>\n",
       "      <td>15463.000000</td>\n",
       "      <td>22.250000</td>\n",
       "      <td>21.250000</td>\n",
       "      <td>22.250000</td>\n",
       "      <td>22.250000</td>\n",
       "      <td>22.250000</td>\n",
       "      <td>22.250000</td>\n",
       "      <td>22.250000</td>\n",
       "      <td>22.250000</td>\n",
       "      <td>23.250000</td>\n",
       "      <td>6.000000</td>\n",
       "      <td>121.383000</td>\n",
       "      <td>5400.750000</td>\n",
       "      <td>283.005000</td>\n",
       "    </tr>\n",
       "    <tr>\n",
       "      <th>50%</th>\n",
       "      <td>45.500000</td>\n",
       "      <td>18748.500000</td>\n",
       "      <td>7595.000000</td>\n",
       "      <td>38.000000</td>\n",
       "      <td>5020.000000</td>\n",
       "      <td>17141.500000</td>\n",
       "      <td>26743.500000</td>\n",
       "      <td>43.500000</td>\n",
       "      <td>42.500000</td>\n",
       "      <td>43.500000</td>\n",
       "      <td>43.500000</td>\n",
       "      <td>43.500000</td>\n",
       "      <td>43.500000</td>\n",
       "      <td>43.500000</td>\n",
       "      <td>43.500000</td>\n",
       "      <td>41.500000</td>\n",
       "      <td>33.000000</td>\n",
       "      <td>200.616000</td>\n",
       "      <td>6070.500000</td>\n",
       "      <td>346.165000</td>\n",
       "    </tr>\n",
       "    <tr>\n",
       "      <th>75%</th>\n",
       "      <td>66.750000</td>\n",
       "      <td>25937.500000</td>\n",
       "      <td>9182.250000</td>\n",
       "      <td>51.750000</td>\n",
       "      <td>9446.750000</td>\n",
       "      <td>22682.250000</td>\n",
       "      <td>44057.500000</td>\n",
       "      <td>64.750000</td>\n",
       "      <td>63.750000</td>\n",
       "      <td>64.750000</td>\n",
       "      <td>64.750000</td>\n",
       "      <td>64.750000</td>\n",
       "      <td>64.750000</td>\n",
       "      <td>64.750000</td>\n",
       "      <td>64.750000</td>\n",
       "      <td>64.750000</td>\n",
       "      <td>113.750000</td>\n",
       "      <td>289.670500</td>\n",
       "      <td>6816.500000</td>\n",
       "      <td>444.407500</td>\n",
       "    </tr>\n",
       "    <tr>\n",
       "      <th>max</th>\n",
       "      <td>200.000000</td>\n",
       "      <td>37014.000000</td>\n",
       "      <td>20235.000000</td>\n",
       "      <td>74.000000</td>\n",
       "      <td>37015.000000</td>\n",
       "      <td>62486.000000</td>\n",
       "      <td>163241.000000</td>\n",
       "      <td>86.000000</td>\n",
       "      <td>86.000000</td>\n",
       "      <td>86.000000</td>\n",
       "      <td>86.000000</td>\n",
       "      <td>86.000000</td>\n",
       "      <td>86.000000</td>\n",
       "      <td>86.000000</td>\n",
       "      <td>86.000000</td>\n",
       "      <td>86.000000</td>\n",
       "      <td>4744.000000</td>\n",
       "      <td>539.213000</td>\n",
       "      <td>10000.000000</td>\n",
       "      <td>989.940000</td>\n",
       "    </tr>\n",
       "  </tbody>\n",
       "</table>\n",
       "</div>"
      ],
      "text/plain": [
       "             dept    Crime_pers    Crime_prop   Literacy     Donations  \\\n",
       "count   86.000000     86.000000     86.000000  86.000000     86.000000   \n",
       "mean    46.883721  19754.406977   7843.058140  39.255814   7075.546512   \n",
       "std     30.426157   7504.703073   3051.352839  17.364051   5834.595216   \n",
       "min      1.000000   2199.000000   1368.000000  12.000000   1246.000000   \n",
       "25%     24.250000  14156.250000   5933.000000  25.000000   3446.750000   \n",
       "50%     45.500000  18748.500000   7595.000000  38.000000   5020.000000   \n",
       "75%     66.750000  25937.500000   9182.250000  51.750000   9446.750000   \n",
       "max    200.000000  37014.000000  20235.000000  74.000000  37015.000000   \n",
       "\n",
       "            Infants       Suicides     Wealth   Commerce     Clergy  \\\n",
       "count     86.000000      86.000000  86.000000  86.000000  86.000000   \n",
       "mean   19049.906977   36522.604651  43.500000  42.802326  43.430233   \n",
       "std     8820.233546   31312.532649  24.969982  25.028370  24.999549   \n",
       "min     2660.000000    3460.000000   1.000000   1.000000   1.000000   \n",
       "25%    14299.750000   15463.000000  22.250000  21.250000  22.250000   \n",
       "50%    17141.500000   26743.500000  43.500000  42.500000  43.500000   \n",
       "75%    22682.250000   44057.500000  64.750000  63.750000  64.750000   \n",
       "max    62486.000000  163241.000000  86.000000  86.000000  86.000000   \n",
       "\n",
       "       Crime_parents  Infanticide  Donation_clergy    Lottery  Desertion  \\\n",
       "count      86.000000    86.000000        86.000000  86.000000  86.000000   \n",
       "mean       43.500000    43.511628        43.500000  43.500000  43.500000   \n",
       "std        24.969982    24.948297        24.969982  24.969982  24.969982   \n",
       "min         1.000000     1.000000         1.000000   1.000000   1.000000   \n",
       "25%        22.250000    22.250000        22.250000  22.250000  22.250000   \n",
       "50%        43.500000    43.500000        43.500000  43.500000  43.500000   \n",
       "75%        64.750000    64.750000        64.750000  64.750000  64.750000   \n",
       "max        86.000000    86.000000        86.000000  86.000000  86.000000   \n",
       "\n",
       "       Instruction  Prostitutes    Distance          Area     Pop1831  \n",
       "count    86.000000    86.000000   86.000000     86.000000   86.000000  \n",
       "mean     43.127907   141.872093  207.953140   6146.988372  378.628721  \n",
       "std      24.799809   520.969318  109.320837   1398.246620  148.777230  \n",
       "min       1.000000     0.000000    0.000000    762.000000  129.100000  \n",
       "25%      23.250000     6.000000  121.383000   5400.750000  283.005000  \n",
       "50%      41.500000    33.000000  200.616000   6070.500000  346.165000  \n",
       "75%      64.750000   113.750000  289.670500   6816.500000  444.407500  \n",
       "max      86.000000  4744.000000  539.213000  10000.000000  989.940000  "
      ]
     },
     "execution_count": 23,
     "metadata": {},
     "output_type": "execute_result"
    }
   ],
   "source": [
    "df.describe()"
   ]
  },
  {
   "cell_type": "code",
   "execution_count": 24,
   "metadata": {},
   "outputs": [],
   "source": [
    "columns = ['Department', 'Lottery', 'Literacy', 'Wealth', 'Region']"
   ]
  },
  {
   "cell_type": "code",
   "execution_count": 25,
   "metadata": {},
   "outputs": [
    {
     "name": "stdout",
     "output_type": "stream",
     "text": [
      "<class 'pandas.core.frame.DataFrame'>\n",
      "RangeIndex: 86 entries, 0 to 85\n",
      "Data columns (total 5 columns):\n",
      " #   Column      Non-Null Count  Dtype \n",
      "---  ------      --------------  ----- \n",
      " 0   Department  86 non-null     object\n",
      " 1   Lottery     86 non-null     int64 \n",
      " 2   Literacy    86 non-null     int64 \n",
      " 3   Wealth      86 non-null     int64 \n",
      " 4   Region      85 non-null     object\n",
      "dtypes: int64(3), object(2)\n",
      "memory usage: 3.5+ KB\n"
     ]
    }
   ],
   "source": [
    "df[columns].info()"
   ]
  },
  {
   "cell_type": "code",
   "execution_count": 26,
   "metadata": {},
   "outputs": [],
   "source": [
    "df = df.dropna()[columns]"
   ]
  },
  {
   "cell_type": "code",
   "execution_count": 27,
   "metadata": {},
   "outputs": [
    {
     "data": {
      "text/html": [
       "<div>\n",
       "<style scoped>\n",
       "    .dataframe tbody tr th:only-of-type {\n",
       "        vertical-align: middle;\n",
       "    }\n",
       "\n",
       "    .dataframe tbody tr th {\n",
       "        vertical-align: top;\n",
       "    }\n",
       "\n",
       "    .dataframe thead th {\n",
       "        text-align: right;\n",
       "    }\n",
       "</style>\n",
       "<table border=\"1\" class=\"dataframe\">\n",
       "  <thead>\n",
       "    <tr style=\"text-align: right;\">\n",
       "      <th></th>\n",
       "      <th>Department</th>\n",
       "      <th>Lottery</th>\n",
       "      <th>Literacy</th>\n",
       "      <th>Wealth</th>\n",
       "      <th>Region</th>\n",
       "    </tr>\n",
       "  </thead>\n",
       "  <tbody>\n",
       "    <tr>\n",
       "      <th>80</th>\n",
       "      <td>Vendee</td>\n",
       "      <td>68</td>\n",
       "      <td>28</td>\n",
       "      <td>56</td>\n",
       "      <td>W</td>\n",
       "    </tr>\n",
       "    <tr>\n",
       "      <th>81</th>\n",
       "      <td>Vienne</td>\n",
       "      <td>40</td>\n",
       "      <td>25</td>\n",
       "      <td>68</td>\n",
       "      <td>W</td>\n",
       "    </tr>\n",
       "    <tr>\n",
       "      <th>82</th>\n",
       "      <td>Haute-Vienne</td>\n",
       "      <td>55</td>\n",
       "      <td>13</td>\n",
       "      <td>67</td>\n",
       "      <td>C</td>\n",
       "    </tr>\n",
       "    <tr>\n",
       "      <th>83</th>\n",
       "      <td>Vosges</td>\n",
       "      <td>14</td>\n",
       "      <td>62</td>\n",
       "      <td>82</td>\n",
       "      <td>E</td>\n",
       "    </tr>\n",
       "    <tr>\n",
       "      <th>84</th>\n",
       "      <td>Yonne</td>\n",
       "      <td>51</td>\n",
       "      <td>47</td>\n",
       "      <td>30</td>\n",
       "      <td>C</td>\n",
       "    </tr>\n",
       "  </tbody>\n",
       "</table>\n",
       "</div>"
      ],
      "text/plain": [
       "      Department  Lottery  Literacy  Wealth Region\n",
       "80        Vendee       68        28      56      W\n",
       "81        Vienne       40        25      68      W\n",
       "82  Haute-Vienne       55        13      67      C\n",
       "83        Vosges       14        62      82      E\n",
       "84         Yonne       51        47      30      C"
      ]
     },
     "execution_count": 27,
     "metadata": {},
     "output_type": "execute_result"
    }
   ],
   "source": [
    "df.tail()"
   ]
  },
  {
   "cell_type": "code",
   "execution_count": 28,
   "metadata": {},
   "outputs": [
    {
     "data": {
      "text/plain": [
       "5"
      ]
     },
     "execution_count": 28,
     "metadata": {},
     "output_type": "execute_result"
    }
   ],
   "source": [
    "df['Region'].nunique()"
   ]
  },
  {
   "cell_type": "code",
   "execution_count": 29,
   "metadata": {},
   "outputs": [
    {
     "data": {
      "text/plain": [
       "array(['E', 'N', 'C', 'S', 'W'], dtype=object)"
      ]
     },
     "execution_count": 29,
     "metadata": {},
     "output_type": "execute_result"
    }
   ],
   "source": [
    "df['Region'].unique()"
   ]
  },
  {
   "cell_type": "markdown",
   "metadata": {},
   "source": [
    "### Motivation and Model\n",
    "\n",
    "We want to know whether *literacy* rates in the 86 French departments are associated with per capita *wagers on the Royal Lottery* in the 1820s.\n",
    "We need to control for the level of *wealth* in each department, and we also want to include a series of dummy variables on the right-hand side of our regression equation to control for unobserved heterogeneity due to *regional* effects:\n",
    "\n",
    "$$\n",
    "  Lottery = f(Literacy, Wealth, Region)\n",
    "$$\n",
    "\n",
    "The model is estimated using ordinary least squares regression (OLS)."
   ]
  },
  {
   "cell_type": "markdown",
   "metadata": {},
   "source": [
    "### Linear Regression Model\n",
    "\n",
    "Statistical model:\n",
    "$$\n",
    "  y = X \\beta + \\mu,\\quad \\mu \\sim \\mathcal N(0, \\Sigma)\n",
    "$$\n",
    "\n",
    "$$\n",
    "  \\begin{pmatrix}\n",
    "    y_1\\\\\n",
    "    \\vdots\\\\\n",
    "    y_l\n",
    "  \\end{pmatrix}\n",
    "  = \\begin{pmatrix}\n",
    "    1      & x_{11} & \\ldots & x_{1n}\\\\\n",
    "    1      & x_{21} & \\ldots & x_{2n}\\\\\n",
    "    \\vdots & \\vdots & \\ddots & \\vdots\\\\\n",
    "    1      & x_{l1} & \\ldots & x_{ln}\n",
    "  \\end{pmatrix} \\begin{pmatrix}\n",
    "    \\beta_0\\\\\n",
    "    \\beta_1\\\\\n",
    "    \\vdots\\\\\n",
    "    \\beta_n\n",
    "  \\end{pmatrix}\n",
    "  + \\begin{pmatrix}\n",
    "    \\mu_1\\\\\n",
    "    \\vdots\\\\\n",
    "    \\mu_l\n",
    "  \\end{pmatrix}\n",
    "$$\n",
    "\n",
    "\n",
    "OLS model:\n",
    "$$\n",
    "  \\Sigma = E \\quad \\mbox{(i.i.d. errors)}\n",
    "$$\n",
    "\n",
    "OLS solution:\n",
    "$$\n",
    "  \\hat\\beta = (X^T X)^{-1} X^T y\n",
    "$$\n",
    "\n",
    "where $y \\in \\mathbb R^{N \\times 1}$ (*Lottery*), and $X \\in \\mathbb R^{N \\times \\overbrace{1 + (1 + 1 + 1 \\cdot 4)}^{7}}$ (Intercept, *Literacy*, *Wealth*, *Region* (x4)).\n",
    "\n",
    "---\n",
    "\n",
    "References:\n",
    "* https://www.statsmodels.org/stable/regression.html\n",
    "* https://www.statsmodels.org/stable/examples/notebooks/generated/ols.html\n",
    "* https://en.wikipedia.org/wiki/Design_matrix"
   ]
  },
  {
   "cell_type": "markdown",
   "metadata": {},
   "source": [
    "### Patsy Model Declaration\n",
    "\n",
    "If we have some variable $y$, and we want to regress it against some other variables $x$, $a$, $b$, and the interaction of $a$ and $b$, then we simply write:\n",
    "\n",
    "```python\n",
    "patsy.dmatrices(\"y ~ x + a + b + a:b\", data)\n",
    "```\n",
    "\n",
    "> What Patsy won’t do is, well, statistics — it just lets you describe models in general terms.\n",
    "... It just gives a *high-level language for describing which factors you want your underlying model to take into account*.\n",
    "It’s not suitable for implementing arbitrary non-linear models from scratch; for that, you’ll be better off with something like Theano, SymPy, or just plain Python.\n",
    "\n",
    "---\n",
    "\n",
    "References:\n",
    "* https://patsy.readthedocs.io/en/latest/overview.html\n",
    "* https://www.statsmodels.org/dev/example_formulas.html"
   ]
  },
  {
   "cell_type": "markdown",
   "metadata": {},
   "source": [
    "### Matrices"
   ]
  },
  {
   "cell_type": "code",
   "execution_count": 30,
   "metadata": {},
   "outputs": [],
   "source": [
    "y, X = dmatrices(\n",
    "    'Lottery ~ Literacy + Wealth + Region', data=df, return_type='dataframe'\n",
    ")"
   ]
  },
  {
   "cell_type": "code",
   "execution_count": 31,
   "metadata": {},
   "outputs": [
    {
     "data": {
      "text/html": [
       "<div>\n",
       "<style scoped>\n",
       "    .dataframe tbody tr th:only-of-type {\n",
       "        vertical-align: middle;\n",
       "    }\n",
       "\n",
       "    .dataframe tbody tr th {\n",
       "        vertical-align: top;\n",
       "    }\n",
       "\n",
       "    .dataframe thead th {\n",
       "        text-align: right;\n",
       "    }\n",
       "</style>\n",
       "<table border=\"1\" class=\"dataframe\">\n",
       "  <thead>\n",
       "    <tr style=\"text-align: right;\">\n",
       "      <th></th>\n",
       "      <th>Lottery</th>\n",
       "    </tr>\n",
       "  </thead>\n",
       "  <tbody>\n",
       "    <tr>\n",
       "      <th>0</th>\n",
       "      <td>41.0</td>\n",
       "    </tr>\n",
       "    <tr>\n",
       "      <th>1</th>\n",
       "      <td>38.0</td>\n",
       "    </tr>\n",
       "    <tr>\n",
       "      <th>2</th>\n",
       "      <td>66.0</td>\n",
       "    </tr>\n",
       "    <tr>\n",
       "      <th>3</th>\n",
       "      <td>80.0</td>\n",
       "    </tr>\n",
       "    <tr>\n",
       "      <th>4</th>\n",
       "      <td>79.0</td>\n",
       "    </tr>\n",
       "  </tbody>\n",
       "</table>\n",
       "</div>"
      ],
      "text/plain": [
       "   Lottery\n",
       "0     41.0\n",
       "1     38.0\n",
       "2     66.0\n",
       "3     80.0\n",
       "4     79.0"
      ]
     },
     "execution_count": 31,
     "metadata": {},
     "output_type": "execute_result"
    }
   ],
   "source": [
    "y.head()"
   ]
  },
  {
   "cell_type": "code",
   "execution_count": 32,
   "metadata": {},
   "outputs": [
    {
     "data": {
      "text/html": [
       "<div>\n",
       "<style scoped>\n",
       "    .dataframe tbody tr th:only-of-type {\n",
       "        vertical-align: middle;\n",
       "    }\n",
       "\n",
       "    .dataframe tbody tr th {\n",
       "        vertical-align: top;\n",
       "    }\n",
       "\n",
       "    .dataframe thead th {\n",
       "        text-align: right;\n",
       "    }\n",
       "</style>\n",
       "<table border=\"1\" class=\"dataframe\">\n",
       "  <thead>\n",
       "    <tr style=\"text-align: right;\">\n",
       "      <th></th>\n",
       "      <th>Intercept</th>\n",
       "      <th>Region[T.E]</th>\n",
       "      <th>Region[T.N]</th>\n",
       "      <th>Region[T.S]</th>\n",
       "      <th>Region[T.W]</th>\n",
       "      <th>Literacy</th>\n",
       "      <th>Wealth</th>\n",
       "    </tr>\n",
       "  </thead>\n",
       "  <tbody>\n",
       "    <tr>\n",
       "      <th>0</th>\n",
       "      <td>1.0</td>\n",
       "      <td>1.0</td>\n",
       "      <td>0.0</td>\n",
       "      <td>0.0</td>\n",
       "      <td>0.0</td>\n",
       "      <td>37.0</td>\n",
       "      <td>73.0</td>\n",
       "    </tr>\n",
       "    <tr>\n",
       "      <th>1</th>\n",
       "      <td>1.0</td>\n",
       "      <td>0.0</td>\n",
       "      <td>1.0</td>\n",
       "      <td>0.0</td>\n",
       "      <td>0.0</td>\n",
       "      <td>51.0</td>\n",
       "      <td>22.0</td>\n",
       "    </tr>\n",
       "    <tr>\n",
       "      <th>2</th>\n",
       "      <td>1.0</td>\n",
       "      <td>0.0</td>\n",
       "      <td>0.0</td>\n",
       "      <td>0.0</td>\n",
       "      <td>0.0</td>\n",
       "      <td>13.0</td>\n",
       "      <td>61.0</td>\n",
       "    </tr>\n",
       "    <tr>\n",
       "      <th>3</th>\n",
       "      <td>1.0</td>\n",
       "      <td>1.0</td>\n",
       "      <td>0.0</td>\n",
       "      <td>0.0</td>\n",
       "      <td>0.0</td>\n",
       "      <td>46.0</td>\n",
       "      <td>76.0</td>\n",
       "    </tr>\n",
       "    <tr>\n",
       "      <th>4</th>\n",
       "      <td>1.0</td>\n",
       "      <td>1.0</td>\n",
       "      <td>0.0</td>\n",
       "      <td>0.0</td>\n",
       "      <td>0.0</td>\n",
       "      <td>69.0</td>\n",
       "      <td>83.0</td>\n",
       "    </tr>\n",
       "  </tbody>\n",
       "</table>\n",
       "</div>"
      ],
      "text/plain": [
       "   Intercept  Region[T.E]  Region[T.N]  Region[T.S]  Region[T.W]  Literacy  \\\n",
       "0        1.0          1.0          0.0          0.0          0.0      37.0   \n",
       "1        1.0          0.0          1.0          0.0          0.0      51.0   \n",
       "2        1.0          0.0          0.0          0.0          0.0      13.0   \n",
       "3        1.0          1.0          0.0          0.0          0.0      46.0   \n",
       "4        1.0          1.0          0.0          0.0          0.0      69.0   \n",
       "\n",
       "   Wealth  \n",
       "0    73.0  \n",
       "1    22.0  \n",
       "2    61.0  \n",
       "3    76.0  \n",
       "4    83.0  "
      ]
     },
     "execution_count": 32,
     "metadata": {},
     "output_type": "execute_result"
    }
   ],
   "source": [
    "X.head()"
   ]
  },
  {
   "cell_type": "code",
   "execution_count": 33,
   "metadata": {},
   "outputs": [
    {
     "data": {
      "text/plain": [
       "(85, 7)"
      ]
     },
     "execution_count": 33,
     "metadata": {},
     "output_type": "execute_result"
    }
   ],
   "source": [
    "X.shape"
   ]
  },
  {
   "cell_type": "markdown",
   "metadata": {},
   "source": [
    "### Model Training"
   ]
  },
  {
   "cell_type": "code",
   "execution_count": 34,
   "metadata": {},
   "outputs": [],
   "source": [
    "model = sm.OLS(y, X) \n",
    "result = model.fit()"
   ]
  },
  {
   "cell_type": "markdown",
   "metadata": {},
   "source": [
    "### \"Summary\"\n",
    "\n",
    "---\n",
    "\n",
    "References:\n",
    "* https://medium.com/swlh/interpreting-linear-regression-through-statsmodels-summary-4796d359035a\n",
    "* https://towardsdatascience.com/how-to-explain-a-regression-model-244882e6cc0c\n",
    "* R-squared: https://en.wikipedia.org/wiki/Coefficient_of_determination\n",
    "* F-statistic:\n",
    "  * https://en.wikipedia.org/wiki/F-test\n",
    "  * https://www.statisticshowto.com/probability-and-statistics/f-statistic-value-test/\n",
    "* p-value: https://en.wikipedia.org/wiki/P-value\n",
    "* \"Skew\"\n",
    "  * https://en.wikipedia.org/wiki/Skewness\n",
    "  * https://en.wikipedia.org/wiki/Kurtosis\n",
    "  * https://towardsdatascience.com/skewness-kurtosis-simplified-1338e094fc85"
   ]
  },
  {
   "cell_type": "code",
   "execution_count": 35,
   "metadata": {},
   "outputs": [
    {
     "name": "stdout",
     "output_type": "stream",
     "text": [
      "                            OLS Regression Results                            \n",
      "==============================================================================\n",
      "Dep. Variable:                Lottery   R-squared:                       0.338\n",
      "Model:                            OLS   Adj. R-squared:                  0.287\n",
      "Method:                 Least Squares   F-statistic:                     6.636\n",
      "Date:                Tue, 03 May 2022   Prob (F-statistic):           1.07e-05\n",
      "Time:                        17:35:00   Log-Likelihood:                -375.30\n",
      "No. Observations:                  85   AIC:                             764.6\n",
      "Df Residuals:                      78   BIC:                             781.7\n",
      "Df Model:                           6                                         \n",
      "Covariance Type:            nonrobust                                         \n",
      "===============================================================================\n",
      "                  coef    std err          t      P>|t|      [0.025      0.975]\n",
      "-------------------------------------------------------------------------------\n",
      "Intercept      38.6517      9.456      4.087      0.000      19.826      57.478\n",
      "Region[T.E]   -15.4278      9.727     -1.586      0.117     -34.793       3.938\n",
      "Region[T.N]   -10.0170      9.260     -1.082      0.283     -28.453       8.419\n",
      "Region[T.S]    -4.5483      7.279     -0.625      0.534     -19.039       9.943\n",
      "Region[T.W]   -10.0913      7.196     -1.402      0.165     -24.418       4.235\n",
      "Literacy       -0.1858      0.210     -0.886      0.378      -0.603       0.232\n",
      "Wealth          0.4515      0.103      4.390      0.000       0.247       0.656\n",
      "==============================================================================\n",
      "Omnibus:                        3.049   Durbin-Watson:                   1.785\n",
      "Prob(Omnibus):                  0.218   Jarque-Bera (JB):                2.694\n",
      "Skew:                          -0.340   Prob(JB):                        0.260\n",
      "Kurtosis:                       2.454   Cond. No.                         371.\n",
      "==============================================================================\n",
      "\n",
      "Notes:\n",
      "[1] Standard Errors assume that the covariance matrix of the errors is correctly specified.\n"
     ]
    }
   ],
   "source": [
    "print(result.summary())"
   ]
  },
  {
   "cell_type": "markdown",
   "metadata": {},
   "source": [
    "**R-squared** is the measurement of how much of the independent variable is explained by changes in our dependent variables.\n",
    "\n",
    "<div>\n",
    "  <img src=\"./images/Coefficient_of_Determination.svg\" width=\"80%\"/>\n",
    "</div>\n",
    "\n",
    "The **F-statistic** in linear regression is comparing your produced linear model for your variables against a model that replaces your variables' effect to 0, to find out if your group of variables are statistically significant.\n",
    "\n",
    "The F-value in regression is the result of a test where the null hypothesis is that all of the regression coefficients are equal to zero.\n",
    "\n",
    "$$\n",
    "  F = \\frac{\\text{explained variance}}{\\text{unexplained variance}}\n",
    "$$\n",
    "\n",
    "* In general, if your calculated F-value in a test is larger than your F critical value, you can reject the null hypothesis.\n",
    "* Read your p-value first. If the p-value is small (less than your alpha level), you can reject the null hypothesis. Only then should you consider the f-value. If you don't reject the null, ignore the f-value.\n",
    "\n",
    "**Prob(F-Statistic)** uses the F-statistic to tell you the accuracy of the null hypothesis, or whether it is accurate that your variables' effect is 0. In this case, it is telling us 0.00107% chance of this.\n",
    "\n",
    "**Log-likelihood** is a numerical signifier of the likelihood that your produced model produced the given data.\n",
    "\n",
    "$\\mathbf{P>|t|}$ is one of the most important statistics in the summary. It uses the [t-statistic](https://en.wikipedia.org/wiki/T-statistic):\n",
    "$$\n",
    "  t_{\\hat \\beta} = \\frac{\\hat \\beta - \\beta_0}{\\mathrm{std}(\\hat \\beta)}\n",
    "$$\n",
    "to produce the *p-value*, a measurement of how likely your coefficient is measured through our model by chance\n",
    "\n",
    "In null-hypothesis significance testing, the **p-value** is the probability of obtaining test results at least as extreme as the results actually observed, under the assumption that the null hypothesis is correct.\n",
    "*A very small p-value means that such an extreme observed outcome would be very unlikely under the null hypothesis*.\n",
    "\n",
    "Let $t$ be an observed test-statistic from unknown distribution $T$. Then we have\n",
    "$$\n",
    "  p = \\mathbb P(T \\geq t \\mid H_0),\\quad \\mbox{one-sided right-tail test}\n",
    "$$\n",
    "\n",
    "<div>\n",
    "  <img src=\"./images/P-value_in_statistical_significance_testing.svg\" width=\"80%\"/>\n",
    "</div>\n",
    "\n",
    "In a formal significance test, the null hypothesis $H_0$ is rejected if the p-value is less than or equal to a predefined threshold value $\\alpha$, which is referred to as the alpha level or significance level. $\\alpha$ is not derived from the data, but rather is set by the researcher before examining the data. $\\alpha$ is commonly set to $0.05$, though lower alpha levels are sometimes used.\n",
    "\n",
    "* p-value is a function of the chosen test statistic $T$ and is therefore a random variable.\n",
    "* p-value does not, in itself, establish probabilities of hypotheses. Rather, it is a tool for deciding whether to reject the null hypothesis.\n",
    "* p-value is NOT the probability that the null hypothesis is true.\n",
    "\n",
    "$\\mathbf{[0.025, 0.975]}$ are both measurements of values of our coefficients within 95% of our data, or within two standard deviations. Outside of these values can generally be considered outliers.\n",
    "\n",
    "**Skew** is a measurement of symmetry in our data, with 0 being perfect symmetry.\n",
    "\n",
    "**Kurtosis** measures the peakiness of our data, or its concentration around 0 in a normal curve. Higher kurtosis implies fewer outliers."
   ]
  },
  {
   "cell_type": "code",
   "execution_count": 36,
   "metadata": {},
   "outputs": [
    {
     "data": {
      "text/plain": [
       "Intercept      38.651655\n",
       "Region[T.E]   -15.427785\n",
       "Region[T.N]   -10.016961\n",
       "Region[T.S]    -4.548257\n",
       "Region[T.W]   -10.091276\n",
       "Literacy       -0.185819\n",
       "Wealth          0.451475\n",
       "dtype: float64"
      ]
     },
     "execution_count": 36,
     "metadata": {},
     "output_type": "execute_result"
    }
   ],
   "source": [
    "result.params"
   ]
  },
  {
   "cell_type": "code",
   "execution_count": 37,
   "metadata": {},
   "outputs": [
    {
     "data": {
      "text/plain": [
       "0.337950869192882"
      ]
     },
     "execution_count": 37,
     "metadata": {},
     "output_type": "execute_result"
    }
   ],
   "source": [
    "result.rsquared"
   ]
  },
  {
   "cell_type": "markdown",
   "metadata": {},
   "source": [
    "### Linearity Test\n",
    "\n",
    "> The basic idea of the Rainbow test is that even if the true relationship is non-linear, a good linear fit can be achieved on a subsample in the \"middle\" of the data. The null hypothesis is rejected whenever the overall fit is significantly worse than the fit for the subsample.\n",
    "\n",
    "---\n",
    "\n",
    "References:\n",
    "* https://stats.stackexchange.com/questions/137498/how-to-interpret-the-direction-of-the-harvey-collier-test-and-rainbow-test-for-l\n",
    "* https://www.statsmodels.org/dev/_modules/statsmodels/stats/diagnostic.html#linear_rainbow"
   ]
  },
  {
   "cell_type": "code",
   "execution_count": 38,
   "metadata": {},
   "outputs": [],
   "source": [
    "test_result = sm.stats.linear_rainbow(result)"
   ]
  },
  {
   "cell_type": "code",
   "execution_count": 39,
   "metadata": {},
   "outputs": [
    {
     "name": "stdout",
     "output_type": "stream",
     "text": [
      "(0.8472339976156913, 0.6997965543621643)\n"
     ]
    }
   ],
   "source": [
    "print(test_result)"
   ]
  },
  {
   "cell_type": "markdown",
   "metadata": {},
   "source": [
    "The first number is an F-statistic and that the second is the p-value."
   ]
  },
  {
   "cell_type": "markdown",
   "metadata": {},
   "source": [
    "### Visualization\n",
    "\n",
    "Plot of partial regression for a set of regressors.\n",
    "\n",
    "---\n",
    "\n",
    "References:\n",
    "* https://www.statsmodels.org/devel/_modules/statsmodels/graphics/regressionplots.html#plot_partregress"
   ]
  },
  {
   "cell_type": "code",
   "execution_count": 40,
   "metadata": {},
   "outputs": [
    {
     "name": "stdout",
     "output_type": "stream",
     "text": [
      "eval_env: 1\n"
     ]
    },
    {
     "data": {
      "image/png": "[encoded data removed]",
      "text/plain": [
       "<Figure size 1080x576 with 1 Axes>"
      ]
     },
     "metadata": {
      "needs_background": "light"
     },
     "output_type": "display_data"
    }
   ],
   "source": [
    "fig, ax = plt.subplots(1, 1, figsize=(15, 8))\n",
    "\n",
    "_ = sm.graphics.plot_partregress(\n",
    "    'Lottery', 'Wealth', ['Region', 'Literacy'],\n",
    "   data=df, obs_labels=False, ax=ax\n",
    ")"
   ]
  },
  {
   "cell_type": "code",
   "execution_count": 41,
   "metadata": {},
   "outputs": [
    {
     "name": "stdout",
     "output_type": "stream",
     "text": [
      "eval_env: 1\n"
     ]
    },
    {
     "data": {
      "image/png": "[encoded data removed]",
      "text/plain": [
       "<Figure size 1080x576 with 1 Axes>"
      ]
     },
     "metadata": {
      "needs_background": "light"
     },
     "output_type": "display_data"
    }
   ],
   "source": [
    "fig, ax = plt.subplots(1, 1, figsize=(15, 8))\n",
    "\n",
    "_ = sm.graphics.plot_partregress(\n",
    "    'Lottery', 'Literacy', ['Region', 'Wealth'],\n",
    "   data=df, obs_labels=False, ax=ax\n",
    ")"
   ]
  }
 ],
 "metadata": {
  "kernelspec": {
   "display_name": "Python 3",
   "language": "python",
   "name": "python3"
  },
  "language_info": {
   "codemirror_mode": {
    "name": "ipython",
    "version": 3
   },
   "file_extension": ".py",
   "mimetype": "text/x-python",
   "name": "python",
   "nbconvert_exporter": "python",
   "pygments_lexer": "ipython3",
   "version": "3.8.11"
  }
 },
 "nbformat": 4,
 "nbformat_minor": 4
}
