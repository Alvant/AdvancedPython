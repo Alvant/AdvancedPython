{
 "cells": [
  {
   "cell_type": "code",
   "execution_count": null,
   "metadata": {},
   "outputs": [],
   "source": [
    "import sqlite3"
   ]
  },
  {
   "cell_type": "code",
   "execution_count": null,
   "metadata": {},
   "outputs": [],
   "source": [
    "DB_NAME = \"biblio\""
   ]
  },
  {
   "cell_type": "markdown",
   "metadata": {},
   "source": [
    "# Sqlite3"
   ]
  },
  {
   "cell_type": "markdown",
   "metadata": {},
   "source": [
    "## Connection. CREATE & INSERT"
   ]
  },
  {
   "cell_type": "code",
   "execution_count": null,
   "metadata": {},
   "outputs": [],
   "source": [
    "connection = sqlite3.connect(DB_NAME)"
   ]
  },
  {
   "cell_type": "code",
   "execution_count": null,
   "metadata": {},
   "outputs": [],
   "source": [
    "cursor = connection.cursor()"
   ]
  },
  {
   "cell_type": "code",
   "execution_count": null,
   "metadata": {},
   "outputs": [],
   "source": [
    "cursor.execute(\n",
    "    '''\n",
    "    CREATE TABLE Book(\n",
    "        id INT PRIMARY KEY NOT NULL,\n",
    "        title TEXT,\n",
    "        author TEXT,\n",
    "        publish_year INT\n",
    "    )\n",
    "    '''\n",
    ")\n",
    "\n",
    "cursor.execute(\n",
    "    '''\n",
    "    INSERT INTO Book VALUES\n",
    "    (1, 'B1', 'A1', 1970),\n",
    "    (2, 'B2', 'A2', 2000),\n",
    "    (3, 'B3', 'A3', 2019),\n",
    "    (4, 'B4', 'A4', 2005),\n",
    "    (5, 'B5', 'A5', 1983)\n",
    "    '''\n",
    ")"
   ]
  },
  {
   "cell_type": "code",
   "execution_count": null,
   "metadata": {},
   "outputs": [],
   "source": [
    "connection.commit()"
   ]
  },
  {
   "cell_type": "code",
   "execution_count": null,
   "metadata": {},
   "outputs": [],
   "source": [
    "connection.close()"
   ]
  },
  {
   "cell_type": "markdown",
   "metadata": {},
   "source": [
    "## SELECT"
   ]
  },
  {
   "cell_type": "code",
   "execution_count": null,
   "metadata": {},
   "outputs": [],
   "source": [
    "connection = sqlite3.connect(DB_NAME)\n",
    "cursor = connection.cursor()"
   ]
  },
  {
   "cell_type": "code",
   "execution_count": null,
   "metadata": {},
   "outputs": [],
   "source": [
    "cursor.execute(\"SELECT * FROM Book WHERE publish_year > 1970\")\n",
    "\n",
    "print(cursor.fetchone())\n",
    "\n",
    "for row in cursor.execute(\"SELECT * FROM Book ORDER BY publish_year\"):\n",
    "    print(row)"
   ]
  },
  {
   "cell_type": "code",
   "execution_count": null,
   "metadata": {},
   "outputs": [],
   "source": [
    "connection.close()"
   ]
  },
  {
   "cell_type": "markdown",
   "metadata": {},
   "source": [
    "## INSERT (again) + DELETE"
   ]
  },
  {
   "cell_type": "code",
   "execution_count": null,
   "metadata": {},
   "outputs": [],
   "source": [
    "connection = sqlite3.connect(DB_NAME)\n",
    "cursor = connection.cursor()"
   ]
  },
  {
   "cell_type": "code",
   "execution_count": null,
   "metadata": {},
   "outputs": [],
   "source": [
    "cursor.execute(\n",
    "    '''\n",
    "    CREATE TABLE Reader(\n",
    "        id INT PRIMARY KEY NOT NULL,\n",
    "        name TEXT\n",
    "    )\n",
    "    '''\n",
    ")"
   ]
  },
  {
   "cell_type": "code",
   "execution_count": null,
   "metadata": {},
   "outputs": [],
   "source": [
    "persons = [\n",
    "    (1, \"Hugo\"),\n",
    "    (2, \"Klein\")\n",
    "]\n",
    "\n",
    "connection.executemany(\n",
    "    \"INSERT INTO Reader VALUES (?, ?)\",\n",
    "    persons\n",
    ")"
   ]
  },
  {
   "cell_type": "code",
   "execution_count": null,
   "metadata": {},
   "outputs": [],
   "source": [
    "for row in connection.execute(\"SELECT name FROM Reader\"):\n",
    "    print(row)"
   ]
  },
  {
   "cell_type": "code",
   "execution_count": null,
   "metadata": {},
   "outputs": [],
   "source": [
    "print(\n",
    "    \"I just deleted\",\n",
    "    connection.execute(\"DELETE FROM Reader\").rowcount,\n",
    "    \"rows\"\n",
    ")"
   ]
  },
  {
   "cell_type": "code",
   "execution_count": null,
   "metadata": {},
   "outputs": [],
   "source": [
    "connection.close()"
   ]
  },
  {
   "cell_type": "markdown",
   "metadata": {},
   "source": [
    "## SELECT (again)"
   ]
  },
  {
   "cell_type": "code",
   "execution_count": null,
   "metadata": {},
   "outputs": [],
   "source": [
    "connection = sqlite3.connect(DB_NAME)\n",
    "cursor = connection.cursor()"
   ]
  },
  {
   "cell_type": "code",
   "execution_count": null,
   "metadata": {},
   "outputs": [],
   "source": [
    "person_id = 3\n",
    "person_name = 'Johnny'\n",
    "\n",
    "# This is the qmark style:\n",
    "cursor.execute(\"INSERT INTO Reader VALUES (?, ?)\", (person_id, person_name))\n",
    "\n",
    "# And this is the named style:\n",
    "cursor.execute(\n",
    "    \"SELECT * FROM Reader WHERE name=:person_name\",\n",
    "    {\"person_name\": person_name}\n",
    ")"
   ]
  },
  {
   "cell_type": "code",
   "execution_count": null,
   "metadata": {},
   "outputs": [],
   "source": [
    "print(cursor.fetchone())"
   ]
  },
  {
   "cell_type": "code",
   "execution_count": null,
   "metadata": {},
   "outputs": [],
   "source": [
    "connection.close()"
   ]
  },
  {
   "cell_type": "markdown",
   "metadata": {},
   "source": [
    "## Context Manager for Commit/Rollback"
   ]
  },
  {
   "cell_type": "code",
   "execution_count": null,
   "metadata": {},
   "outputs": [],
   "source": [
    "connection = sqlite3.connect(DB_NAME)"
   ]
  },
  {
   "cell_type": "code",
   "execution_count": null,
   "metadata": {},
   "outputs": [],
   "source": [
    "person_id = 5\n",
    "person_name = 'Masha'"
   ]
  },
  {
   "cell_type": "code",
   "execution_count": null,
   "metadata": {},
   "outputs": [],
   "source": [
    "with connection:\n",
    "    connection.execute(\"INSERT INTO Reader VALUES (?, ?)\", (person_id, person_name))"
   ]
  },
  {
   "cell_type": "code",
   "execution_count": null,
   "metadata": {},
   "outputs": [],
   "source": [
    "try:\n",
    "    with connection:\n",
    "        connection.execute(\"INSERT INTO Reader VALUES (?, ?)\", (person_id, person_name))\n",
    "except sqlite3.IntegrityError:\n",
    "    print(f\"Can't add {person_name} twice\")"
   ]
  },
  {
   "cell_type": "code",
   "execution_count": null,
   "metadata": {},
   "outputs": [],
   "source": [
    "connection.close()"
   ]
  },
  {
   "cell_type": "markdown",
   "metadata": {},
   "source": [
    "## Custom Object as a SELECT Result"
   ]
  },
  {
   "cell_type": "code",
   "execution_count": null,
   "metadata": {},
   "outputs": [],
   "source": [
    "connection = sqlite3.connect(DB_NAME)"
   ]
  },
  {
   "cell_type": "code",
   "execution_count": null,
   "metadata": {},
   "outputs": [],
   "source": [
    "connection.row_factory = sqlite3.Row\n",
    "\n",
    "cursor = connection.cursor()\n",
    "\n",
    "cursor.execute(\"SELECT * FROM Book\")\n",
    "row = cursor.fetchone()\n",
    "\n",
    "print(f'Row keys: {row.keys()}')\n",
    "\n",
    "values = [row[k] for k in row.keys()]\n",
    "\n",
    "print(f'Row values: {values}')"
   ]
  },
  {
   "cell_type": "code",
   "execution_count": null,
   "metadata": {},
   "outputs": [],
   "source": [
    "row"
   ]
  },
  {
   "cell_type": "code",
   "execution_count": null,
   "metadata": {},
   "outputs": [],
   "source": [
    "connection.close()"
   ]
  },
  {
   "cell_type": "markdown",
   "metadata": {},
   "source": [
    "# More Data for the DB!"
   ]
  },
  {
   "cell_type": "code",
   "execution_count": null,
   "metadata": {},
   "outputs": [],
   "source": [
    "connection = sqlite3.connect(DB_NAME)\n",
    "cursor = connection.cursor()\n",
    "\n",
    "cursor.execute(\n",
    "    '''\n",
    "    CREATE TABLE Book(\n",
    "        id INT PRIMARY KEY NOT NULL,\n",
    "        title TEXT,\n",
    "        author TEXT,\n",
    "        publish_year INT\n",
    "    )\n",
    "    '''\n",
    ")\n",
    "\n",
    "cursor.execute(\n",
    "    '''\n",
    "    INSERT INTO Book VALUES\n",
    "    (1, 'Harry Potter and the Philosopher''s Stone', 'J. K. Rowling', 1997),\n",
    "    (2, 'Методы решения задач в общем курсе физики, Механика', 'Корявов В.П.', 2007),\n",
    "    (3, 'Batman: Gotham by Gaslight', 'Brian Augustyn, Mike Mignola', 1989),\n",
    "    (4, 'Мёртвые души', 'Н. В. Гоголь', 1842),\n",
    "    (5, 'The Running Man', 'Richard Bachman', 1982)\n",
    "    '''\n",
    ")\n",
    "\n",
    "connection.commit()"
   ]
  },
  {
   "cell_type": "code",
   "execution_count": null,
   "metadata": {},
   "outputs": [],
   "source": [
    "cursor.execute(\n",
    "    '''\n",
    "    CREATE TABLE Reader(\n",
    "        id INT PRIMARY KEY NOT NULL,\n",
    "        name TEXT\n",
    "    )\n",
    "    '''\n",
    ")\n",
    "\n",
    "cursor.execute(\n",
    "    '''\n",
    "    INSERT INTO Reader VALUES\n",
    "    (1, 'V.V. Petrovich'),\n",
    "    (2, 'Alexanderr'),\n",
    "    (3, 'Arkadiy Svidrigaylov'),\n",
    "    (4, 'Vitalya'),\n",
    "    (5, 'Noname')\n",
    "    '''\n",
    ")"
   ]
  },
  {
   "cell_type": "code",
   "execution_count": null,
   "metadata": {},
   "outputs": [],
   "source": [
    "cursor.execute(\n",
    "    '''\n",
    "    CREATE TABLE Record(\n",
    "        id INT PRIMARY KEY NOT NULL,\n",
    "        reader_id INT REFERENCES Readers(id) NOT NULL,\n",
    "        book_id INT REFERENCES Books(id) NOT NULL,\n",
    "        taking_date TEXT,\n",
    "        returning_date TEXT\n",
    "    )\n",
    "    '''\n",
    ")"
   ]
  },
  {
   "cell_type": "code",
   "execution_count": null,
   "metadata": {},
   "outputs": [],
   "source": [
    "cursor.execute(\n",
    "    '''\n",
    "    INSERT INTO Record VALUES\n",
    "    (1, 3, 4, '1842-02-14', '1842-07-01'),\n",
    "    (2, 4, 4, '1996-10-26', NULL),\n",
    "    (3, 1, 2, '2006-06-13', '2006-06-14'),\n",
    "    (4, 1, 1, '2006-06-14', '2006-06-15'),\n",
    "    (5, 1, 3, '2006-06-15', '2006-07-20'),\n",
    "    (6, 2, 5, '1985-10-11', '1987-12-25'),\n",
    "    (7, 5, 3, '2001-03-15', NULL),\n",
    "    (8, 5, 3, '2002-09-19', '2002-09-25')\n",
    "    '''\n",
    ")"
   ]
  },
  {
   "cell_type": "code",
   "execution_count": null,
   "metadata": {},
   "outputs": [],
   "source": [
    "connection.commit()\n",
    "connection.close()"
   ]
  },
  {
   "cell_type": "markdown",
   "metadata": {},
   "source": [
    "# MongoDB"
   ]
  },
  {
   "cell_type": "code",
   "execution_count": null,
   "metadata": {},
   "outputs": [],
   "source": [
    "from pymongo import MongoClient"
   ]
  },
  {
   "cell_type": "code",
   "execution_count": null,
   "metadata": {},
   "outputs": [],
   "source": [
    "DB_NAME = 'biblio'"
   ]
  },
  {
   "cell_type": "markdown",
   "metadata": {},
   "source": [
    "Чтобы использовать MongoDB, надо её установить и запустить (при создании `MongoClient` надо указать host и port — по умолчанию это значения `localhost` и `27017` соответственно)."
   ]
  },
  {
   "cell_type": "code",
   "execution_count": null,
   "metadata": {},
   "outputs": [],
   "source": [
    "client = MongoClient(host='localhost')\n",
    "database = client[DB_NAME]"
   ]
  },
  {
   "cell_type": "code",
   "execution_count": null,
   "metadata": {},
   "outputs": [],
   "source": [
    "collection_name = 'Book'\n",
    "collection = database[collection_name]"
   ]
  },
  {
   "cell_type": "code",
   "execution_count": null,
   "metadata": {},
   "outputs": [],
   "source": [
    "COL_BOOK_ID = 'id'\n",
    "COL_BOOK_TITLE = 'title'\n",
    "COL_BOOK_AUTHOR = 'author'\n",
    "COL_BOOK_PUBLISH_YEAR = 'publish_year'"
   ]
  },
  {
   "cell_type": "code",
   "execution_count": null,
   "metadata": {},
   "outputs": [],
   "source": [
    "book = {\n",
    "    COL_BOOK_ID: 2,\n",
    "    COL_BOOK_TITLE: 'Harry',\n",
    "    COL_BOOK_AUTHOR: 'AUTHOR',\n",
    "    COL_BOOK_PUBLISH_YEAR: '1970'\n",
    "}\n",
    "\n",
    "collection.insert_one(book)"
   ]
  },
  {
   "cell_type": "markdown",
   "metadata": {},
   "source": [
    "(Можно повторить ячейку выше — ошибки не будет. Внутренние \"Mongo-ID\" будут разными, но остальные поля у двух книжек будут идентичными.)"
   ]
  },
  {
   "cell_type": "code",
   "execution_count": null,
   "metadata": {},
   "outputs": [],
   "source": [
    "for item in collection.find({}):\n",
    "    print(item)"
   ]
  },
  {
   "cell_type": "code",
   "execution_count": null,
   "metadata": {},
   "outputs": [],
   "source": [
    "collection.find_one({COL_BOOK_ID: 1})"
   ]
  },
  {
   "cell_type": "code",
   "execution_count": null,
   "metadata": {},
   "outputs": [],
   "source": [
    "list(collection.find({COL_BOOK_ID: 1}))"
   ]
  },
  {
   "cell_type": "code",
   "execution_count": null,
   "metadata": {},
   "outputs": [],
   "source": [
    "collection.update_one(\n",
    "    {COL_BOOK_ID: 2},\n",
    "    {\"$set\": {\n",
    "        COL_BOOK_TITLE: 'New Title'\n",
    "    }}\n",
    ")"
   ]
  },
  {
   "cell_type": "code",
   "execution_count": null,
   "metadata": {},
   "outputs": [],
   "source": [
    "collection.find_one({COL_BOOK_ID: 2})"
   ]
  },
  {
   "cell_type": "code",
   "execution_count": null,
   "metadata": {},
   "outputs": [],
   "source": [
    "collection.delete_one({COL_BOOK_ID: 1})"
   ]
  },
  {
   "cell_type": "code",
   "execution_count": null,
   "metadata": {},
   "outputs": [],
   "source": [
    "list(collection.find({COL_BOOK_ID: 1}))"
   ]
  }
 ],
 "metadata": {
  "kernelspec": {
   "display_name": "advapy",
   "language": "python",
   "name": "advapy"
  },
  "language_info": {
   "codemirror_mode": {
    "name": "ipython",
    "version": 3
   },
   "file_extension": ".py",
   "mimetype": "text/x-python",
   "name": "python",
   "nbconvert_exporter": "python",
   "pygments_lexer": "ipython3",
   "version": "3.7.10"
  }
 },
 "nbformat": 4,
 "nbformat_minor": 5
}
