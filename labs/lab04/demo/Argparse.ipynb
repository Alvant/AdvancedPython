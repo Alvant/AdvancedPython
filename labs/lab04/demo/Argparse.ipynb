{
 "cells": [
  {
   "cell_type": "markdown",
   "metadata": {},
   "source": [
    "# Argparse + Decorators"
   ]
  },
  {
   "cell_type": "code",
   "execution_count": 1,
   "metadata": {},
   "outputs": [],
   "source": [
    "def force(m, g):\n",
    "    return m * g"
   ]
  },
  {
   "cell_type": "code",
   "execution_count": 2,
   "metadata": {},
   "outputs": [
    {
     "name": "stdout",
     "output_type": "stream",
     "text": [
      "490.00000000000006\n"
     ]
    }
   ],
   "source": [
    "f = force(50, 9.8)\n",
    "\n",
    "print(f)"
   ]
  },
  {
   "cell_type": "markdown",
   "metadata": {},
   "source": [
    "Как сделать так, чтоб можно было считать силу тяжести для разных значений массы и ускорения свободного падения?"
   ]
  },
  {
   "cell_type": "markdown",
   "metadata": {},
   "source": [
    "## Not-the-Right Way\n",
    "\n",
    "Вводить каждый раз нужные значения в исходный код программы."
   ]
  },
  {
   "cell_type": "code",
   "execution_count": 3,
   "metadata": {},
   "outputs": [
    {
     "name": "stdout",
     "output_type": "stream",
     "text": [
      "620.8\n"
     ]
    }
   ],
   "source": [
    "if __name__ == '__main__':\n",
    "    # f = force(50, 9.8)\n",
    "    # f = force(70, 9.8)\n",
    "    f = force(64, 9.7)\n",
    "    \n",
    "    print(f)"
   ]
  },
  {
   "cell_type": "code",
   "execution_count": 13,
   "metadata": {},
   "outputs": [],
   "source": [
    "if __name__ == 'He-Who-Must-Not-Be-Named':\n",
    "    print('Never printed')"
   ]
  },
  {
   "cell_type": "markdown",
   "metadata": {},
   "source": [
    "## Input Way\n",
    "\n",
    "Считать со входа."
   ]
  },
  {
   "cell_type": "code",
   "execution_count": 5,
   "metadata": {},
   "outputs": [
    {
     "name": "stdout",
     "output_type": "stream",
     "text": [
      "70 9.8\n",
      "686.0\n"
     ]
    }
   ],
   "source": [
    "if __name__ == '__main__':\n",
    "    s = input()\n",
    "    m, g = [float(n) for n in s.split()]\n",
    "    \n",
    "    f = force(m, g)\n",
    "    \n",
    "    print(f)"
   ]
  },
  {
   "cell_type": "markdown",
   "metadata": {},
   "source": [
    "## Config Way\n",
    "\n",
    "Считать из конфигурационного файла."
   ]
  },
  {
   "cell_type": "code",
   "execution_count": 6,
   "metadata": {},
   "outputs": [],
   "source": [
    "import json"
   ]
  },
  {
   "cell_type": "code",
   "execution_count": 16,
   "metadata": {},
   "outputs": [],
   "source": [
    "config_data = {\n",
    "    'mass': 65,\n",
    "    'g': 9.8\n",
    "}\n",
    "\n",
    "with open('config.json', 'w') as f:\n",
    "    f.write(json.dumps(config_data, indent=4))"
   ]
  },
  {
   "cell_type": "code",
   "execution_count": 17,
   "metadata": {},
   "outputs": [
    {
     "name": "stdout",
     "output_type": "stream",
     "text": [
      "{\r\n",
      "    \"mass\": 65,\r\n",
      "    \"g\": 9.8\r\n",
      "}"
     ]
    }
   ],
   "source": [
    "! cat config.json"
   ]
  },
  {
   "cell_type": "code",
   "execution_count": 18,
   "metadata": {},
   "outputs": [
    {
     "name": "stdout",
     "output_type": "stream",
     "text": [
      "637.0\n"
     ]
    }
   ],
   "source": [
    "if __name__ == '__main__':\n",
    "    data = json.loads(\n",
    "        open('config.json').read()\n",
    "    )\n",
    "    \n",
    "    f = force(m=data['mass'], g=data['g'])\n",
    "    \n",
    "    print(f)"
   ]
  },
  {
   "cell_type": "markdown",
   "metadata": {},
   "source": [
    "Но даже если в конфиге указать все необходимые значения, то в коде всё равно нужно руками указывать путь до самого конфига...\n",
    "Поэтому, если хотим запустить программу без ввода значений руками (`input`), то в любом случае приходим к передаче аргументов через командную строку."
   ]
  },
  {
   "cell_type": "markdown",
   "metadata": {},
   "source": [
    "## Command Line Args Way"
   ]
  },
  {
   "cell_type": "code",
   "execution_count": 21,
   "metadata": {},
   "outputs": [],
   "source": [
    "import sys"
   ]
  },
  {
   "cell_type": "code",
   "execution_count": 22,
   "metadata": {},
   "outputs": [
    {
     "name": "stdout",
     "output_type": "stream",
     "text": [
      "['/home/alvant/lib/miniconda3/envs/nis/lib/python3.8/site-packages/ipykernel_launcher.py', '-f', '/home/alvant/.local/share/jupyter/runtime/kernel-e1c56099-a7d1-420e-9374-4ccd067c9ce4.json']\n"
     ]
    }
   ],
   "source": [
    "if __name__ == '__main__':\n",
    "    print(sys.argv)"
   ]
  },
  {
   "cell_type": "code",
   "execution_count": 23,
   "metadata": {},
   "outputs": [
    {
     "name": "stdout",
     "output_type": "stream",
     "text": [
      "import sys\r\n",
      "\r\n",
      "\r\n",
      "if __name__ == '__main__':\r\n",
      "    print(sys.argv)\r\n"
     ]
    }
   ],
   "source": [
    "! cat src/args_intro.py"
   ]
  },
  {
   "cell_type": "code",
   "execution_count": 25,
   "metadata": {},
   "outputs": [
    {
     "name": "stdout",
     "output_type": "stream",
     "text": [
      "['src/args_intro.py', 'Hello', 'world!', '1', '2', '3']\r\n"
     ]
    }
   ],
   "source": [
    "! python src/args_intro.py Hello world! 1 2 3"
   ]
  },
  {
   "cell_type": "code",
   "execution_count": 26,
   "metadata": {},
   "outputs": [
    {
     "name": "stdout",
     "output_type": "stream",
     "text": [
      "import sys\r\n",
      "\r\n",
      "\r\n",
      "def force(m, g):\r\n",
      "    return m * g\r\n",
      "\r\n",
      "\r\n",
      "def parse(args):\r\n",
      "    m = float(args[0])\r\n",
      "    g = float(args[1])\r\n",
      "\r\n",
      "    return m, g\r\n",
      "\r\n",
      "\r\n",
      "if __name__ == '__main__':\r\n",
      "    m, g = parse(sys.argv[1:])\r\n",
      "    f = force(m, g)\r\n",
      "\r\n",
      "    print(f)\r\n"
     ]
    }
   ],
   "source": [
    "! cat src/args_demo.py"
   ]
  },
  {
   "cell_type": "code",
   "execution_count": 27,
   "metadata": {},
   "outputs": [
    {
     "name": "stdout",
     "output_type": "stream",
     "text": [
      "588.0\r\n"
     ]
    }
   ],
   "source": [
    "! python src/args_demo.py 60 9.8"
   ]
  },
  {
   "cell_type": "code",
   "execution_count": 29,
   "metadata": {},
   "outputs": [
    {
     "name": "stdout",
     "output_type": "stream",
     "text": [
      "80.0\r\n"
     ]
    }
   ],
   "source": [
    "# Ticket to the Moon\n",
    "\n",
    "! python src/args_demo.py 50 1.6"
   ]
  },
  {
   "cell_type": "markdown",
   "metadata": {},
   "source": [
    "## Command Line Args Way 2: Argparse"
   ]
  },
  {
   "cell_type": "code",
   "execution_count": 30,
   "metadata": {},
   "outputs": [],
   "source": [
    "from argparse import ArgumentParser"
   ]
  },
  {
   "cell_type": "code",
   "execution_count": 31,
   "metadata": {},
   "outputs": [
    {
     "data": {
      "text/plain": [
       "_StoreAction(option_strings=[], dest='g', nargs=None, const=None, default=None, type=<class 'float'>, choices=None, help=None, metavar=None)"
      ]
     },
     "execution_count": 31,
     "metadata": {},
     "output_type": "execute_result"
    }
   ],
   "source": [
    "parser = ArgumentParser()\n",
    "\n",
    "parser.add_argument('m', type=float)\n",
    "parser.add_argument('g', type=float)"
   ]
  },
  {
   "cell_type": "code",
   "execution_count": 32,
   "metadata": {},
   "outputs": [],
   "source": [
    "args = parser.parse_args(['12', '9.8'])  # sys.argv[1:]"
   ]
  },
  {
   "cell_type": "code",
   "execution_count": 33,
   "metadata": {},
   "outputs": [
    {
     "data": {
      "text/plain": [
       "(12.0, 9.8)"
      ]
     },
     "execution_count": 33,
     "metadata": {},
     "output_type": "execute_result"
    }
   ],
   "source": [
    "args.m, args.g"
   ]
  },
  {
   "cell_type": "code",
   "execution_count": 34,
   "metadata": {},
   "outputs": [],
   "source": [
    "args = parser.parse_args(['9.8', '12'])"
   ]
  },
  {
   "cell_type": "code",
   "execution_count": 35,
   "metadata": {},
   "outputs": [
    {
     "data": {
      "text/plain": [
       "(9.8, 12.0)"
      ]
     },
     "execution_count": 35,
     "metadata": {},
     "output_type": "execute_result"
    }
   ],
   "source": [
    "args.m, args.g"
   ]
  },
  {
   "cell_type": "code",
   "execution_count": 36,
   "metadata": {},
   "outputs": [
    {
     "data": {
      "text/plain": [
       "_StoreAction(option_strings=['-g'], dest='g', nargs=None, const=None, default=None, type=None, choices=None, help=None, metavar=None)"
      ]
     },
     "execution_count": 36,
     "metadata": {},
     "output_type": "execute_result"
    }
   ],
   "source": [
    "parser = ArgumentParser()\n",
    "\n",
    "parser.add_argument('-m')\n",
    "parser.add_argument('-g')"
   ]
  },
  {
   "cell_type": "code",
   "execution_count": 37,
   "metadata": {},
   "outputs": [],
   "source": [
    "args = parser.parse_args('-g 9.8 -m 12'.split())  # sys.argv[1:]"
   ]
  },
  {
   "cell_type": "code",
   "execution_count": 38,
   "metadata": {},
   "outputs": [
    {
     "data": {
      "text/plain": [
       "('12', '9.8')"
      ]
     },
     "execution_count": 38,
     "metadata": {},
     "output_type": "execute_result"
    }
   ],
   "source": [
    "args.m, args.g"
   ]
  },
  {
   "cell_type": "code",
   "execution_count": 39,
   "metadata": {},
   "outputs": [
    {
     "data": {
      "text/plain": [
       "_StoreAction(option_strings=['-g'], dest='g', nargs=None, const=None, default=None, type=<class 'float'>, choices=None, help=None, metavar=None)"
      ]
     },
     "execution_count": 39,
     "metadata": {},
     "output_type": "execute_result"
    }
   ],
   "source": [
    "parser = ArgumentParser()\n",
    "\n",
    "parser.add_argument('-m', '--mass', type=float)\n",
    "parser.add_argument('-g', type=float)"
   ]
  },
  {
   "cell_type": "code",
   "execution_count": 40,
   "metadata": {},
   "outputs": [],
   "source": [
    "args = parser.parse_args(['-m', '12', '-g', '9.8'])  # sys.argv[1:]"
   ]
  },
  {
   "cell_type": "code",
   "execution_count": 41,
   "metadata": {},
   "outputs": [
    {
     "data": {
      "text/plain": [
       "(12.0, 9.8)"
      ]
     },
     "execution_count": 41,
     "metadata": {},
     "output_type": "execute_result"
    }
   ],
   "source": [
    "args.mass, args.g"
   ]
  },
  {
   "cell_type": "code",
   "execution_count": 42,
   "metadata": {},
   "outputs": [
    {
     "name": "stdout",
     "output_type": "stream",
     "text": [
      "import sys\r\n",
      "from argparse import ArgumentParser\r\n",
      "\r\n",
      "\r\n",
      "def force(m, g):\r\n",
      "    return m * g\r\n",
      "\r\n",
      "\r\n",
      "def parse(args):\r\n",
      "\r\n",
      "    return m, g\r\n",
      "\r\n",
      "\r\n",
      "if __name__ == '__main__':\r\n",
      "    parser = ArgumentParser()\r\n",
      "\r\n",
      "    parser.add_argument('-m', '--mass', type=float)\r\n",
      "    parser.add_argument('-g', type=float)\r\n",
      "\r\n",
      "    args = parser.parse_args()\r\n",
      "    \r\n",
      "    f = force(args.mass, args.g)\r\n",
      "\r\n",
      "    print(f)\r\n"
     ]
    }
   ],
   "source": [
    "! cat src/args_demo2.py"
   ]
  },
  {
   "cell_type": "code",
   "execution_count": 43,
   "metadata": {},
   "outputs": [
    {
     "name": "stdout",
     "output_type": "stream",
     "text": [
      "490.00000000000006\r\n"
     ]
    }
   ],
   "source": [
    "! python src/args_demo2.py -m 50 -g 9.8"
   ]
  },
  {
   "cell_type": "code",
   "execution_count": 44,
   "metadata": {},
   "outputs": [
    {
     "name": "stdout",
     "output_type": "stream",
     "text": [
      "490.00000000000006\r\n"
     ]
    }
   ],
   "source": [
    "! python src/args_demo2.py -g 9.8 --mass 50"
   ]
  },
  {
   "cell_type": "markdown",
   "metadata": {},
   "source": [
    "### Parsing Zoo"
   ]
  },
  {
   "cell_type": "code",
   "execution_count": 45,
   "metadata": {},
   "outputs": [
    {
     "name": "stdout",
     "output_type": "stream",
     "text": [
      "Mass is 60.0, g is 9.8.\n"
     ]
    }
   ],
   "source": [
    "parser = ArgumentParser()\n",
    "\n",
    "parser.add_argument('-m', '--mass', type=float)\n",
    "parser.add_argument('-g', type=float, default=9.8)\n",
    "\n",
    "args = parser.parse_args(['--mass', '60'])\n",
    "\n",
    "print(f'Mass is {args.mass}, g is {args.g}.')"
   ]
  },
  {
   "cell_type": "code",
   "execution_count": 46,
   "metadata": {},
   "outputs": [
    {
     "name": "stdout",
     "output_type": "stream",
     "text": [
      "blue eyes\n"
     ]
    }
   ],
   "source": [
    "parser = ArgumentParser()\n",
    "\n",
    "parser.add_argument('--color', choices=['blue', 'green', 'brown'])\n",
    "\n",
    "args = parser.parse_args(\"--color blue\".split())\n",
    "\n",
    "print(f\"{args.color} eyes\")"
   ]
  },
  {
   "cell_type": "code",
   "execution_count": 47,
   "metadata": {},
   "outputs": [
    {
     "name": "stdout",
     "output_type": "stream",
     "text": [
      "Saving\n"
     ]
    }
   ],
   "source": [
    "parser = ArgumentParser()\n",
    "\n",
    "parser.add_argument(\n",
    "    '--save',\n",
    "    action='store_true',\n",
    "    help=\"Whether to save something or not.\"\n",
    ")\n",
    "\n",
    "args = parser.parse_args(\"--save\".split())\n",
    "\n",
    "if args.save:\n",
    "    print(\"Saving\")"
   ]
  },
  {
   "cell_type": "code",
   "execution_count": 51,
   "metadata": {},
   "outputs": [
    {
     "name": "stdout",
     "output_type": "stream",
     "text": [
      "usage: ipykernel_launcher.py [-h] [--save]\n",
      "\n",
      "optional arguments:\n",
      "  -h, --help  show this help message and exit\n",
      "  --save      Whether to save something or not.\n"
     ]
    },
    {
     "ename": "SystemExit",
     "evalue": "0",
     "output_type": "error",
     "traceback": [
      "An exception has occurred, use %tb to see the full traceback.\n",
      "\u001b[0;31mSystemExit\u001b[0m\u001b[0;31m:\u001b[0m 0\n"
     ]
    }
   ],
   "source": [
    "parser.parse_args(\"-h\".split())"
   ]
  },
  {
   "cell_type": "markdown",
   "metadata": {},
   "source": [
    "## Decorators"
   ]
  },
  {
   "cell_type": "code",
   "execution_count": 65,
   "metadata": {},
   "outputs": [],
   "source": [
    "from numbers import Number\n",
    "from typing import Callable\n",
    "\n",
    "\n",
    "def add(num1: Number, num2: Number) -> Number:\n",
    "    return num1 + num2"
   ]
  },
  {
   "cell_type": "code",
   "execution_count": 54,
   "metadata": {},
   "outputs": [
    {
     "data": {
      "text/plain": [
       "3"
      ]
     },
     "execution_count": 54,
     "metadata": {},
     "output_type": "execute_result"
    }
   ],
   "source": [
    "add(1, 2)"
   ]
  },
  {
   "cell_type": "code",
   "execution_count": 68,
   "metadata": {},
   "outputs": [],
   "source": [
    "def add(*args) -> Number:\n",
    "    print(args)\n",
    "    \n",
    "    return sum(args)"
   ]
  },
  {
   "cell_type": "code",
   "execution_count": 69,
   "metadata": {},
   "outputs": [
    {
     "name": "stdout",
     "output_type": "stream",
     "text": [
      "(1, 2, 3)\n"
     ]
    },
    {
     "data": {
      "text/plain": [
       "6"
      ]
     },
     "execution_count": 69,
     "metadata": {},
     "output_type": "execute_result"
    }
   ],
   "source": [
    "add(1, 2, 3)"
   ]
  },
  {
   "cell_type": "code",
   "execution_count": 83,
   "metadata": {},
   "outputs": [],
   "source": [
    "def add(*args, **kwargs) -> Number:\n",
    "    print(args, kwargs)\n",
    "    \n",
    "    if 'hello' in kwargs:\n",
    "        print(f\"Hello {kwargs['hello']}!\")\n",
    "    \n",
    "    return sum(args)"
   ]
  },
  {
   "cell_type": "code",
   "execution_count": 84,
   "metadata": {},
   "outputs": [
    {
     "name": "stdout",
     "output_type": "stream",
     "text": [
      "(1, 2) {'hello': 'world'}\n",
      "Hello world!\n"
     ]
    },
    {
     "data": {
      "text/plain": [
       "3"
      ]
     },
     "execution_count": 84,
     "metadata": {},
     "output_type": "execute_result"
    }
   ],
   "source": [
    "add(1, 2, hello='world')"
   ]
  },
  {
   "cell_type": "code",
   "execution_count": 72,
   "metadata": {},
   "outputs": [],
   "source": [
    "def add(n1: Number, n2: Number) -> Number:\n",
    "    return n1 + n2\n",
    "\n",
    "def dummy_decorator(func: Callable) -> Callable:\n",
    "    return add"
   ]
  },
  {
   "cell_type": "code",
   "execution_count": 73,
   "metadata": {},
   "outputs": [],
   "source": [
    "def print_hello():\n",
    "    print('Hello world!')"
   ]
  },
  {
   "cell_type": "code",
   "execution_count": 74,
   "metadata": {},
   "outputs": [
    {
     "name": "stdout",
     "output_type": "stream",
     "text": [
      "Hello world!\n"
     ]
    }
   ],
   "source": [
    "print_hello()"
   ]
  },
  {
   "cell_type": "code",
   "execution_count": 75,
   "metadata": {},
   "outputs": [],
   "source": [
    "print_hello = dummy_decorator(print_hello)"
   ]
  },
  {
   "cell_type": "code",
   "execution_count": 76,
   "metadata": {},
   "outputs": [
    {
     "data": {
      "text/plain": [
       "3"
      ]
     },
     "execution_count": 76,
     "metadata": {},
     "output_type": "execute_result"
    }
   ],
   "source": [
    "print_hello(1, 2)"
   ]
  },
  {
   "cell_type": "code",
   "execution_count": 78,
   "metadata": {},
   "outputs": [],
   "source": [
    "@dummy_decorator\n",
    "def print_hello():\n",
    "    print('Hello world!')"
   ]
  },
  {
   "cell_type": "code",
   "execution_count": 79,
   "metadata": {},
   "outputs": [
    {
     "data": {
      "text/plain": [
       "3"
      ]
     },
     "execution_count": 79,
     "metadata": {},
     "output_type": "execute_result"
    }
   ],
   "source": [
    "print_hello(1, 2)"
   ]
  },
  {
   "cell_type": "code",
   "execution_count": 81,
   "metadata": {},
   "outputs": [],
   "source": [
    "def print_args(func: Callable) -> Callable:\n",
    "    def new_func(*args, **kwargs):\n",
    "        print(f'Args: {args}. Kwargs: {kwargs}.')\n",
    "        \n",
    "        return func(*args, **kwargs)\n",
    "    \n",
    "    return new_func\n",
    "\n",
    "\n",
    "@print_args\n",
    "def add(n1: Number, n2: Number) -> Number:\n",
    "    return n1 + n2"
   ]
  },
  {
   "cell_type": "code",
   "execution_count": 82,
   "metadata": {},
   "outputs": [
    {
     "name": "stdout",
     "output_type": "stream",
     "text": [
      "Args: (1, 2). Kwargs: {}.\n"
     ]
    },
    {
     "data": {
      "text/plain": [
       "3"
      ]
     },
     "execution_count": 82,
     "metadata": {},
     "output_type": "execute_result"
    }
   ],
   "source": [
    "add(1, 2)"
   ]
  },
  {
   "cell_type": "markdown",
   "metadata": {},
   "source": [
    "### Decorator Which Returns Decorator Which Returns Function Which Returns... 🤯"
   ]
  },
  {
   "cell_type": "code",
   "execution_count": 85,
   "metadata": {},
   "outputs": [],
   "source": [
    "def world(greeted_object: str) -> Callable[[Callable], Callable]:\n",
    "    def hello(func: Callable) -> Callable:\n",
    "        def new_func(*args, **kwargs):\n",
    "            print(f'Hello {greeted_object}!')\n",
    "            \n",
    "            return func(*args, **kwargs)\n",
    "        \n",
    "        return new_func\n",
    "    \n",
    "    return hello"
   ]
  },
  {
   "cell_type": "code",
   "execution_count": 86,
   "metadata": {},
   "outputs": [],
   "source": [
    "@world('World')\n",
    "def add(n1: Number, n2: Number) -> Number:\n",
    "    return n1 + n2"
   ]
  },
  {
   "cell_type": "code",
   "execution_count": 87,
   "metadata": {},
   "outputs": [
    {
     "name": "stdout",
     "output_type": "stream",
     "text": [
      "Hello World!\n"
     ]
    },
    {
     "data": {
      "text/plain": [
       "-17.5"
      ]
     },
     "execution_count": 87,
     "metadata": {},
     "output_type": "execute_result"
    }
   ],
   "source": [
    "add(0, -17.5)"
   ]
  },
  {
   "cell_type": "code",
   "execution_count": 88,
   "metadata": {},
   "outputs": [],
   "source": [
    "# Same as:\n",
    "\n",
    "def add(n1: Number, n2: Number) -> Number:\n",
    "    return n1 + n2\n",
    "\n",
    "add = world('World')(add)"
   ]
  },
  {
   "cell_type": "code",
   "execution_count": 89,
   "metadata": {},
   "outputs": [
    {
     "name": "stdout",
     "output_type": "stream",
     "text": [
      "Hello World!\n"
     ]
    },
    {
     "data": {
      "text/plain": [
       "-17.5"
      ]
     },
     "execution_count": 89,
     "metadata": {},
     "output_type": "execute_result"
    }
   ],
   "source": [
    "add(0, -17.5)"
   ]
  }
 ],
 "metadata": {
  "kernelspec": {
   "display_name": "Python 3",
   "language": "python",
   "name": "python3"
  },
  "language_info": {
   "codemirror_mode": {
    "name": "ipython",
    "version": 3
   },
   "file_extension": ".py",
   "mimetype": "text/x-python",
   "name": "python",
   "nbconvert_exporter": "python",
   "pygments_lexer": "ipython3",
   "version": "3.8.11"
  }
 },
 "nbformat": 4,
 "nbformat_minor": 2
}
