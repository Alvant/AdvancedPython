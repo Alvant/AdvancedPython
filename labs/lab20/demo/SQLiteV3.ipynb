{
 "cells": [
  {
   "cell_type": "code",
   "execution_count": 1,
   "metadata": {},
   "outputs": [],
   "source": [
    "import sqlite3"
   ]
  },
  {
   "cell_type": "code",
   "execution_count": 2,
   "metadata": {},
   "outputs": [],
   "source": [
    "! mkdir -p databases"
   ]
  },
  {
   "cell_type": "code",
   "execution_count": 3,
   "metadata": {},
   "outputs": [],
   "source": [
    "DB_PATH = \"databases/purchases.db\""
   ]
  },
  {
   "cell_type": "code",
   "execution_count": 4,
   "metadata": {},
   "outputs": [],
   "source": [
    "connection = sqlite3.connect(DB_PATH)"
   ]
  },
  {
   "cell_type": "markdown",
   "metadata": {},
   "source": [
    "## Insert"
   ]
  },
  {
   "cell_type": "markdown",
   "metadata": {},
   "source": [
    "### Pure SQL Approach"
   ]
  },
  {
   "cell_type": "code",
   "execution_count": 5,
   "metadata": {},
   "outputs": [],
   "source": [
    "cursor = connection.cursor()\n",
    "\n",
    "# SQLite distinguishes INT PRIMARY KEY from INTEGER PRIMARY KEY...\n",
    "\n",
    "cursor.execute('''\n",
    "    CREATE TABLE Purchase(\n",
    "        id INTEGER PRIMARY KEY,\n",
    "        date TEXT,\n",
    "        name TEXT,\n",
    "        price REAL\n",
    "    );\n",
    "''')\n",
    "\n",
    "cursor.execute('''\n",
    "    INSERT INTO Purchase(date, name, price) VALUES\n",
    "        ('2000-06-13', 'Harry Potter and the Philosopher''s Stone by J. K. Rowling', 200.00),\n",
    "        ('2001-06-20', 'Harry Potter and the Chamber of Secrets by J. K. Rowling', 200.00),\n",
    "        ('2008-06-12', 'Артур и минипуты, Люк Бессон', 150.00),\n",
    "        ('2016-09-15', 'Методы решения задач в общем курсе физики (Механика), Корявов В.П.', 250.00),\n",
    "        ('2023-02-09', 'Love Will Tear Us Apart by C.K. McDonnell', 14.99);\n",
    "''')\n",
    "\n",
    "connection.commit()"
   ]
  },
  {
   "cell_type": "markdown",
   "metadata": {},
   "source": [
    "### \"Programmer's\" Approach"
   ]
  },
  {
   "cell_type": "code",
   "execution_count": 6,
   "metadata": {},
   "outputs": [],
   "source": [
    "cursor = connection.cursor()\n",
    "\n",
    "purchases = [\n",
    "    ('2023-03-01', 'Электричка (Тимирязевская <-> Новодачная)', 64.00),\n",
    "    ('2023-03-15', 'Swed House', 1500.00),\n",
    "    ('2023-03-18', 'Вкусно – и точка', 500.00),\n",
    "    ('2023-03-19', 'Funky Monkey Orange', 100.00),\n",
    "    ('2023-03-19', 'Ластик с собачкой', 250.00),\n",
    "]\n",
    "\n",
    "cursor.executemany(\n",
    "    \"\"\"INSERT INTO Purchase(date, name, price)\n",
    "       VALUES (?, ?, ?);\"\"\",\n",
    "    purchases\n",
    ")\n",
    "\n",
    "connection.commit()"
   ]
  },
  {
   "cell_type": "markdown",
   "metadata": {},
   "source": [
    "## Select"
   ]
  },
  {
   "cell_type": "code",
   "execution_count": 7,
   "metadata": {},
   "outputs": [
    {
     "name": "stdout",
     "output_type": "stream",
     "text": [
      "(8, '2023-03-18', 'Вкусно – и точка', 500.0)\n"
     ]
    }
   ],
   "source": [
    "cursor = connection.cursor()\n",
    "\n",
    "cursor.execute(\"SELECT * FROM Purchase WHERE name = 'Вкусно – и точка';\")\n",
    "\n",
    "print(cursor.fetchone())"
   ]
  },
  {
   "cell_type": "code",
   "execution_count": 8,
   "metadata": {},
   "outputs": [
    {
     "name": "stdout",
     "output_type": "stream",
     "text": [
      "None\n"
     ]
    }
   ],
   "source": [
    "print(cursor.fetchone())"
   ]
  },
  {
   "cell_type": "code",
   "execution_count": 9,
   "metadata": {},
   "outputs": [
    {
     "name": "stdout",
     "output_type": "stream",
     "text": [
      "[(1, '2000-06-13', \"Harry Potter and the Philosopher's Stone by J. K. Rowling\", 200.0), (2, '2001-06-20', 'Harry Potter and the Chamber of Secrets by J. K. Rowling', 200.0)]\n"
     ]
    }
   ],
   "source": [
    "cursor.execute(\"SELECT * FROM Purchase WHERE name LIKE 'Harry Potter%';\")\n",
    "\n",
    "print(cursor.fetchall())"
   ]
  },
  {
   "cell_type": "code",
   "execution_count": 10,
   "metadata": {},
   "outputs": [
    {
     "name": "stdout",
     "output_type": "stream",
     "text": [
      "(5, '2023-02-09', 'Love Will Tear Us Apart by C.K. McDonnell', 14.99)\n",
      "(6, '2023-03-01', 'Электричка (Тимирязевская <-> Новодачная)', 64.0)\n",
      "(9, '2023-03-19', 'Funky Monkey Orange', 100.0)\n",
      "(3, '2008-06-12', 'Артур и минипуты, Люк Бессон', 150.0)\n",
      "(1, '2000-06-13', \"Harry Potter and the Philosopher's Stone by J. K. Rowling\", 200.0)\n",
      "(2, '2001-06-20', 'Harry Potter and the Chamber of Secrets by J. K. Rowling', 200.0)\n",
      "(4, '2016-09-15', 'Методы решения задач в общем курсе физики (Механика), Корявов В.П.', 250.0)\n",
      "(10, '2023-03-19', 'Ластик с собачкой', 250.0)\n",
      "(8, '2023-03-18', 'Вкусно – и точка', 500.0)\n",
      "(7, '2023-03-15', 'Swed House', 1500.0)\n"
     ]
    }
   ],
   "source": [
    "for row in cursor.execute(\"SELECT * FROM Purchase ORDER BY price;\"):\n",
    "    print(row)"
   ]
  },
  {
   "cell_type": "code",
   "execution_count": 11,
   "metadata": {},
   "outputs": [
    {
     "name": "stdout",
     "output_type": "stream",
     "text": [
      "(9, '2023-03-19', 'Funky Monkey Orange', 100.0)\n"
     ]
    }
   ],
   "source": [
    "cursor.execute(\n",
    "    \"SELECT * FROM Purchase WHERE name = :product_name\",\n",
    "    {\"product_name\": 'Funky Monkey Orange'}\n",
    ")\n",
    "\n",
    "print(cursor.fetchone())"
   ]
  },
  {
   "cell_type": "markdown",
   "metadata": {},
   "source": [
    "## Update, Delete"
   ]
  },
  {
   "cell_type": "code",
   "execution_count": 12,
   "metadata": {},
   "outputs": [
    {
     "name": "stdout",
     "output_type": "stream",
     "text": [
      "(1, '2000-06-13', \"Harry Potter and the Philosopher's Stone by J. K. Rowling\", 200.0)\n",
      "(2, '2001-06-20', 'Harry Potter and the Chamber of Secrets by J. K. Rowling', 200.0)\n",
      "(3, '2008-06-12', 'Артур и минипуты, Люк Бессон', 150.0)\n",
      "(4, '2016-09-15', 'Методы решения задач в общем курсе физики (Механика), Корявов В.П.', 250.0)\n",
      "(5, '2023-02-09', 'Love Will Tear Us Apart by C.K. McDonnell', 14.99)\n",
      "(6, '2023-03-01', 'Электричка (Тимирязевская <-> Новодачная)', 64.0)\n",
      "(7, '2023-03-15', 'Swed House', 1500.0)\n",
      "(8, '2023-03-18', 'Вкусно – и точка', 500.0)\n",
      "(9, '2023-03-19', 'Funky Monkey Orange', 100.0)\n",
      "(10, '2023-03-19', 'Ластик с собачкой', 250.0)\n"
     ]
    }
   ],
   "source": [
    "cursor = connection.cursor()\n",
    "\n",
    "for row in cursor.execute(\"SELECT * FROM Purchase;\"):\n",
    "    print(row)"
   ]
  },
  {
   "cell_type": "code",
   "execution_count": 13,
   "metadata": {},
   "outputs": [],
   "source": [
    "def select_all(connection, table_name: str) -> None:\n",
    "    cursor = connection.cursor()\n",
    "\n",
    "    for row in cursor.execute(f\"SELECT * FROM {table_name};\"):\n",
    "        print(row)"
   ]
  },
  {
   "cell_type": "code",
   "execution_count": 14,
   "metadata": {},
   "outputs": [],
   "source": [
    "column_names = [\n",
    "    description[0] for description in cursor.description\n",
    "]"
   ]
  },
  {
   "cell_type": "code",
   "execution_count": 15,
   "metadata": {},
   "outputs": [
    {
     "name": "stdout",
     "output_type": "stream",
     "text": [
      "['id', 'date', 'name', 'price']\n"
     ]
    }
   ],
   "source": [
    "print(column_names)"
   ]
  },
  {
   "cell_type": "markdown",
   "metadata": {},
   "source": [
    "### Update and Rollback"
   ]
  },
  {
   "cell_type": "code",
   "execution_count": 16,
   "metadata": {},
   "outputs": [
    {
     "data": {
      "text/plain": [
       "<sqlite3.Cursor at 0x7feca49fac00>"
      ]
     },
     "execution_count": 16,
     "metadata": {},
     "output_type": "execute_result"
    }
   ],
   "source": [
    "cursor.execute(\n",
    "    \"UPDATE Purchase SET price = price * 1.5 WHERE name = 'Ластик с собачкой';\"\n",
    ")"
   ]
  },
  {
   "cell_type": "code",
   "execution_count": 17,
   "metadata": {},
   "outputs": [
    {
     "name": "stdout",
     "output_type": "stream",
     "text": [
      "(1, '2000-06-13', \"Harry Potter and the Philosopher's Stone by J. K. Rowling\", 200.0)\n",
      "(2, '2001-06-20', 'Harry Potter and the Chamber of Secrets by J. K. Rowling', 200.0)\n",
      "(3, '2008-06-12', 'Артур и минипуты, Люк Бессон', 150.0)\n",
      "(4, '2016-09-15', 'Методы решения задач в общем курсе физики (Механика), Корявов В.П.', 250.0)\n",
      "(5, '2023-02-09', 'Love Will Tear Us Apart by C.K. McDonnell', 14.99)\n",
      "(6, '2023-03-01', 'Электричка (Тимирязевская <-> Новодачная)', 64.0)\n",
      "(7, '2023-03-15', 'Swed House', 1500.0)\n",
      "(8, '2023-03-18', 'Вкусно – и точка', 500.0)\n",
      "(9, '2023-03-19', 'Funky Monkey Orange', 100.0)\n",
      "(10, '2023-03-19', 'Ластик с собачкой', 375.0)\n"
     ]
    }
   ],
   "source": [
    "select_all(connection, 'Purchase')"
   ]
  },
  {
   "cell_type": "markdown",
   "metadata": {},
   "source": [
    "Another connection does not see changes if they are not committed."
   ]
  },
  {
   "cell_type": "code",
   "execution_count": 18,
   "metadata": {},
   "outputs": [
    {
     "name": "stdout",
     "output_type": "stream",
     "text": [
      "(1, '2000-06-13', \"Harry Potter and the Philosopher's Stone by J. K. Rowling\", 200.0)\n",
      "(2, '2001-06-20', 'Harry Potter and the Chamber of Secrets by J. K. Rowling', 200.0)\n",
      "(3, '2008-06-12', 'Артур и минипуты, Люк Бессон', 150.0)\n",
      "(4, '2016-09-15', 'Методы решения задач в общем курсе физики (Механика), Корявов В.П.', 250.0)\n",
      "(5, '2023-02-09', 'Love Will Tear Us Apart by C.K. McDonnell', 14.99)\n",
      "(6, '2023-03-01', 'Электричка (Тимирязевская <-> Новодачная)', 64.0)\n",
      "(7, '2023-03-15', 'Swed House', 1500.0)\n",
      "(8, '2023-03-18', 'Вкусно – и точка', 500.0)\n",
      "(9, '2023-03-19', 'Funky Monkey Orange', 100.0)\n",
      "(10, '2023-03-19', 'Ластик с собачкой', 250.0)\n"
     ]
    }
   ],
   "source": [
    "connection2 = sqlite3.connect(DB_PATH)\n",
    "cursor2 = connection2.cursor()\n",
    "\n",
    "for row in cursor2.execute(\"SELECT * FROM Purchase;\"):\n",
    "    print(row)"
   ]
  },
  {
   "cell_type": "code",
   "execution_count": 19,
   "metadata": {},
   "outputs": [
    {
     "name": "stdout",
     "output_type": "stream",
     "text": [
      "(1, '2000-06-13', \"Harry Potter and the Philosopher's Stone by J. K. Rowling\", 200.0)\n",
      "(2, '2001-06-20', 'Harry Potter and the Chamber of Secrets by J. K. Rowling', 200.0)\n",
      "(3, '2008-06-12', 'Артур и минипуты, Люк Бессон', 150.0)\n",
      "(4, '2016-09-15', 'Методы решения задач в общем курсе физики (Механика), Корявов В.П.', 250.0)\n",
      "(5, '2023-02-09', 'Love Will Tear Us Apart by C.K. McDonnell', 14.99)\n",
      "(6, '2023-03-01', 'Электричка (Тимирязевская <-> Новодачная)', 64.0)\n",
      "(7, '2023-03-15', 'Swed House', 1500.0)\n",
      "(8, '2023-03-18', 'Вкусно – и точка', 500.0)\n",
      "(9, '2023-03-19', 'Funky Monkey Orange', 100.0)\n",
      "(10, '2023-03-19', 'Ластик с собачкой', 250.0)\n"
     ]
    }
   ],
   "source": [
    "for row in cursor2.execute(\"SELECT * FROM Purchase;\"):\n",
    "    print(row)"
   ]
  },
  {
   "cell_type": "markdown",
   "metadata": {},
   "source": [
    "Undoing changes:"
   ]
  },
  {
   "cell_type": "code",
   "execution_count": 20,
   "metadata": {},
   "outputs": [],
   "source": [
    "connection.rollback()"
   ]
  },
  {
   "cell_type": "code",
   "execution_count": 21,
   "metadata": {},
   "outputs": [
    {
     "name": "stdout",
     "output_type": "stream",
     "text": [
      "(1, '2000-06-13', \"Harry Potter and the Philosopher's Stone by J. K. Rowling\", 200.0)\n",
      "(2, '2001-06-20', 'Harry Potter and the Chamber of Secrets by J. K. Rowling', 200.0)\n",
      "(3, '2008-06-12', 'Артур и минипуты, Люк Бессон', 150.0)\n",
      "(4, '2016-09-15', 'Методы решения задач в общем курсе физики (Механика), Корявов В.П.', 250.0)\n",
      "(5, '2023-02-09', 'Love Will Tear Us Apart by C.K. McDonnell', 14.99)\n",
      "(6, '2023-03-01', 'Электричка (Тимирязевская <-> Новодачная)', 64.0)\n",
      "(7, '2023-03-15', 'Swed House', 1500.0)\n",
      "(8, '2023-03-18', 'Вкусно – и точка', 500.0)\n",
      "(9, '2023-03-19', 'Funky Monkey Orange', 100.0)\n",
      "(10, '2023-03-19', 'Ластик с собачкой', 250.0)\n"
     ]
    }
   ],
   "source": [
    "select_all(connection, 'Purchase')"
   ]
  },
  {
   "cell_type": "code",
   "execution_count": 29,
   "metadata": {},
   "outputs": [],
   "source": [
    "connection2.close()"
   ]
  },
  {
   "cell_type": "markdown",
   "metadata": {},
   "source": [
    "### Update, Delete, and Rollback"
   ]
  },
  {
   "cell_type": "code",
   "execution_count": 22,
   "metadata": {},
   "outputs": [
    {
     "data": {
      "text/plain": [
       "<sqlite3.Cursor at 0x7feca49fac00>"
      ]
     },
     "execution_count": 22,
     "metadata": {},
     "output_type": "execute_result"
    }
   ],
   "source": [
    "cursor.execute(\n",
    "    \"UPDATE Purchase SET price = price * 2 WHERE name = 'Ластик с собачкой';\"\n",
    ")"
   ]
  },
  {
   "cell_type": "code",
   "execution_count": 23,
   "metadata": {},
   "outputs": [
    {
     "name": "stdout",
     "output_type": "stream",
     "text": [
      "(1, '2000-06-13', \"Harry Potter and the Philosopher's Stone by J. K. Rowling\", 200.0)\n",
      "(2, '2001-06-20', 'Harry Potter and the Chamber of Secrets by J. K. Rowling', 200.0)\n",
      "(3, '2008-06-12', 'Артур и минипуты, Люк Бессон', 150.0)\n",
      "(4, '2016-09-15', 'Методы решения задач в общем курсе физики (Механика), Корявов В.П.', 250.0)\n",
      "(5, '2023-02-09', 'Love Will Tear Us Apart by C.K. McDonnell', 14.99)\n",
      "(6, '2023-03-01', 'Электричка (Тимирязевская <-> Новодачная)', 64.0)\n",
      "(7, '2023-03-15', 'Swed House', 1500.0)\n",
      "(8, '2023-03-18', 'Вкусно – и точка', 500.0)\n",
      "(9, '2023-03-19', 'Funky Monkey Orange', 100.0)\n",
      "(10, '2023-03-19', 'Ластик с собачкой', 500.0)\n"
     ]
    }
   ],
   "source": [
    "select_all(connection, 'Purchase')"
   ]
  },
  {
   "cell_type": "code",
   "execution_count": 24,
   "metadata": {},
   "outputs": [
    {
     "data": {
      "text/plain": [
       "<sqlite3.Cursor at 0x7feca49fac00>"
      ]
     },
     "execution_count": 24,
     "metadata": {},
     "output_type": "execute_result"
    }
   ],
   "source": [
    "cursor.execute(\"DELETE FROM Purchase WHERE name = 'Артур и минипуты, Люк Бессон';\")"
   ]
  },
  {
   "cell_type": "code",
   "execution_count": 25,
   "metadata": {},
   "outputs": [
    {
     "name": "stdout",
     "output_type": "stream",
     "text": [
      "(1, '2000-06-13', \"Harry Potter and the Philosopher's Stone by J. K. Rowling\", 200.0)\n",
      "(2, '2001-06-20', 'Harry Potter and the Chamber of Secrets by J. K. Rowling', 200.0)\n",
      "(4, '2016-09-15', 'Методы решения задач в общем курсе физики (Механика), Корявов В.П.', 250.0)\n",
      "(5, '2023-02-09', 'Love Will Tear Us Apart by C.K. McDonnell', 14.99)\n",
      "(6, '2023-03-01', 'Электричка (Тимирязевская <-> Новодачная)', 64.0)\n",
      "(7, '2023-03-15', 'Swed House', 1500.0)\n",
      "(8, '2023-03-18', 'Вкусно – и точка', 500.0)\n",
      "(9, '2023-03-19', 'Funky Monkey Orange', 100.0)\n",
      "(10, '2023-03-19', 'Ластик с собачкой', 500.0)\n"
     ]
    }
   ],
   "source": [
    "select_all(connection, 'Purchase')"
   ]
  },
  {
   "cell_type": "code",
   "execution_count": 26,
   "metadata": {},
   "outputs": [],
   "source": [
    "connection.rollback()"
   ]
  },
  {
   "cell_type": "code",
   "execution_count": 27,
   "metadata": {},
   "outputs": [
    {
     "name": "stdout",
     "output_type": "stream",
     "text": [
      "(1, '2000-06-13', \"Harry Potter and the Philosopher's Stone by J. K. Rowling\", 200.0)\n",
      "(2, '2001-06-20', 'Harry Potter and the Chamber of Secrets by J. K. Rowling', 200.0)\n",
      "(3, '2008-06-12', 'Артур и минипуты, Люк Бессон', 150.0)\n",
      "(4, '2016-09-15', 'Методы решения задач в общем курсе физики (Механика), Корявов В.П.', 250.0)\n",
      "(5, '2023-02-09', 'Love Will Tear Us Apart by C.K. McDonnell', 14.99)\n",
      "(6, '2023-03-01', 'Электричка (Тимирязевская <-> Новодачная)', 64.0)\n",
      "(7, '2023-03-15', 'Swed House', 1500.0)\n",
      "(8, '2023-03-18', 'Вкусно – и точка', 500.0)\n",
      "(9, '2023-03-19', 'Funky Monkey Orange', 100.0)\n",
      "(10, '2023-03-19', 'Ластик с собачкой', 250.0)\n"
     ]
    }
   ],
   "source": [
    "for row in cursor.execute(\"SELECT * FROM Purchase;\"):\n",
    "    print(row)"
   ]
  },
  {
   "cell_type": "code",
   "execution_count": 28,
   "metadata": {},
   "outputs": [],
   "source": [
    "connection.close()"
   ]
  },
  {
   "cell_type": "markdown",
   "metadata": {},
   "source": [
    "## Context Manager To Do Things Without Commit/Rollback"
   ]
  },
  {
   "cell_type": "code",
   "execution_count": 33,
   "metadata": {},
   "outputs": [
    {
     "name": "stdout",
     "output_type": "stream",
     "text": [
      "[(1, 'Joe')]\n",
      "Can't add Joe twice!\n"
     ]
    }
   ],
   "source": [
    "connection = sqlite3.connect(\":memory:\")\n",
    "\n",
    "\n",
    "connection.execute(\"\"\"\n",
    "    CREATE TABLE Person(\n",
    "        id INTEGER PRIMARY KEY,\n",
    "        firstname VARCHAR UNIQUE\n",
    "    );\n",
    "\"\"\")\n",
    "\n",
    "\n",
    "with connection:\n",
    "    connection.execute(\n",
    "        \"INSERT INTO Person(firstname) VALUES (?);\", (\"Joe\",)\n",
    "    )\n",
    "\n",
    "with connection:\n",
    "    cursor = connection.execute(\n",
    "        \"SELECT * FROM Person;\"\n",
    "    )\n",
    "    \n",
    "    print(cursor.fetchall())\n",
    "\n",
    "\n",
    "try:\n",
    "    with connection:\n",
    "        connection.execute(\n",
    "            \"INSERT INTO Person(firstname) VALUES (?);\", (\"Joe\",)\n",
    "        )\n",
    "except sqlite3.IntegrityError:\n",
    "    print(\"Can't add Joe twice!\")\n",
    "\n",
    "\n",
    "connection.close()"
   ]
  },
  {
   "cell_type": "markdown",
   "metadata": {},
   "source": [
    "## \"Programmer's\" SELECT"
   ]
  },
  {
   "cell_type": "code",
   "execution_count": 34,
   "metadata": {},
   "outputs": [],
   "source": [
    "connection = sqlite3.connect(DB_PATH)\n",
    "connection.row_factory = sqlite3.Row\n",
    "\n",
    "cursor = connection.cursor()\n",
    "\n",
    "cursor.execute(\"SELECT * FROM Purchase WHERE name LIKE 'Harry%';\")\n",
    "row = cursor.fetchone()"
   ]
  },
  {
   "cell_type": "code",
   "execution_count": 35,
   "metadata": {},
   "outputs": [
    {
     "data": {
      "text/plain": [
       "<sqlite3.Row at 0x7feca4a16930>"
      ]
     },
     "execution_count": 35,
     "metadata": {},
     "output_type": "execute_result"
    }
   ],
   "source": [
    "row"
   ]
  },
  {
   "cell_type": "code",
   "execution_count": 36,
   "metadata": {},
   "outputs": [
    {
     "name": "stdout",
     "output_type": "stream",
     "text": [
      "['id', 'date', 'name', 'price']\n"
     ]
    }
   ],
   "source": [
    "print(row.keys())"
   ]
  },
  {
   "cell_type": "code",
   "execution_count": 37,
   "metadata": {},
   "outputs": [
    {
     "name": "stdout",
     "output_type": "stream",
     "text": [
      "1\n",
      "2000-06-13\n",
      "Harry Potter and the Philosopher's Stone by J. K. Rowling\n",
      "200.0\n"
     ]
    }
   ],
   "source": [
    "for key in row.keys():\n",
    "    print(row[key])"
   ]
  },
  {
   "cell_type": "code",
   "execution_count": 38,
   "metadata": {},
   "outputs": [
    {
     "data": {
      "text/plain": [
       "{'id': 1,\n",
       " 'date': '2000-06-13',\n",
       " 'name': \"Harry Potter and the Philosopher's Stone by J. K. Rowling\",\n",
       " 'price': 200.0}"
      ]
     },
     "execution_count": 38,
     "metadata": {},
     "output_type": "execute_result"
    }
   ],
   "source": [
    "dict(row)"
   ]
  },
  {
   "cell_type": "code",
   "execution_count": 39,
   "metadata": {},
   "outputs": [],
   "source": [
    "# https://docs.python.org/3/library/sqlite3.html#sqlite3.Connection.row_factory\n",
    "\n",
    "class DictFactory:\n",
    "    def __call__(self, cursor, row):\n",
    "        result = dict()\n",
    "        \n",
    "        for index, column_data in enumerate(cursor.description):\n",
    "            column_name = column_data[0]\n",
    "            result[column_name] = row[index]\n",
    "        \n",
    "        return result"
   ]
  },
  {
   "cell_type": "code",
   "execution_count": 40,
   "metadata": {},
   "outputs": [],
   "source": [
    "connection.row_factory = DictFactory()\n",
    "\n",
    "cursor = connection.cursor()\n",
    "\n",
    "cursor.execute(\"SELECT * FROM Purchase WHERE name LIKE 'Harry%';\")\n",
    "row = cursor.fetchone()"
   ]
  },
  {
   "cell_type": "code",
   "execution_count": 41,
   "metadata": {},
   "outputs": [
    {
     "data": {
      "text/plain": [
       "{'id': 1,\n",
       " 'date': '2000-06-13',\n",
       " 'name': \"Harry Potter and the Philosopher's Stone by J. K. Rowling\",\n",
       " 'price': 200.0}"
      ]
     },
     "execution_count": 41,
     "metadata": {},
     "output_type": "execute_result"
    }
   ],
   "source": [
    "row"
   ]
  },
  {
   "cell_type": "code",
   "execution_count": 42,
   "metadata": {},
   "outputs": [],
   "source": [
    "connection.close()"
   ]
  },
  {
   "cell_type": "markdown",
   "metadata": {},
   "source": [
    "# PyMongo\n",
    "\n",
    "https://pymongo.readthedocs.io/en/stable/tutorial.html"
   ]
  },
  {
   "cell_type": "code",
   "execution_count": 43,
   "metadata": {},
   "outputs": [],
   "source": [
    "from pymongo import MongoClient"
   ]
  },
  {
   "cell_type": "markdown",
   "metadata": {},
   "source": [
    "```bash\n",
    "# Install MongoDB ...\n",
    "\n",
    "sudo mongod\n",
    "```"
   ]
  },
  {
   "cell_type": "markdown",
   "metadata": {},
   "source": [
    "![](./images/MongoRunning0.jpg)\n",
    "![](./images/MongoRunning.jpg)"
   ]
  },
  {
   "cell_type": "code",
   "execution_count": 44,
   "metadata": {},
   "outputs": [],
   "source": [
    "client = MongoClient('localhost', 27017)"
   ]
  },
  {
   "cell_type": "code",
   "execution_count": 45,
   "metadata": {},
   "outputs": [
    {
     "data": {
      "text/plain": [
       "MongoClient(host=['localhost:27017'], document_class=dict, tz_aware=False, connect=True)"
      ]
     },
     "execution_count": 45,
     "metadata": {},
     "output_type": "execute_result"
    }
   ],
   "source": [
    "client"
   ]
  },
  {
   "cell_type": "code",
   "execution_count": 66,
   "metadata": {},
   "outputs": [],
   "source": [
    "db = client.the_lord_of_the_rings"
   ]
  },
  {
   "cell_type": "code",
   "execution_count": 67,
   "metadata": {},
   "outputs": [],
   "source": [
    "collection = db.characters"
   ]
  },
  {
   "cell_type": "code",
   "execution_count": 68,
   "metadata": {},
   "outputs": [
    {
     "data": {
      "text/plain": [
       "<pymongo.results.InsertOneResult at 0x7fec8fe3fdc0>"
      ]
     },
     "execution_count": 68,
     "metadata": {},
     "output_type": "execute_result"
    }
   ],
   "source": [
    "collection.insert_one({\n",
    "    'name': 'Dopey',\n",
    "    'race': 'dwarf'\n",
    "})"
   ]
  },
  {
   "cell_type": "code",
   "execution_count": 69,
   "metadata": {},
   "outputs": [
    {
     "data": {
      "text/plain": [
       "['characters']"
      ]
     },
     "execution_count": 69,
     "metadata": {},
     "output_type": "execute_result"
    }
   ],
   "source": [
    "db.list_collection_names()"
   ]
  },
  {
   "cell_type": "code",
   "execution_count": 70,
   "metadata": {},
   "outputs": [
    {
     "data": {
      "text/plain": [
       "<pymongo.results.InsertOneResult at 0x7fec8fe2c540>"
      ]
     },
     "execution_count": 70,
     "metadata": {},
     "output_type": "execute_result"
    }
   ],
   "source": [
    "collection.insert_one({\n",
    "    'name': 'Legolas',\n",
    "    'race': 'elf'\n",
    "})"
   ]
  },
  {
   "cell_type": "code",
   "execution_count": 71,
   "metadata": {},
   "outputs": [
    {
     "data": {
      "text/plain": [
       "{'_id': ObjectId('64176852ec5cc6de05f96033'), 'name': 'Dopey', 'race': 'dwarf'}"
      ]
     },
     "execution_count": 71,
     "metadata": {},
     "output_type": "execute_result"
    }
   ],
   "source": [
    "collection.find_one()"
   ]
  },
  {
   "cell_type": "code",
   "execution_count": 72,
   "metadata": {},
   "outputs": [
    {
     "data": {
      "text/plain": [
       "{'_id': ObjectId('64176852ec5cc6de05f96034'), 'name': 'Legolas', 'race': 'elf'}"
      ]
     },
     "execution_count": 72,
     "metadata": {},
     "output_type": "execute_result"
    }
   ],
   "source": [
    "collection.find_one({'race': 'elf'})"
   ]
  },
  {
   "cell_type": "code",
   "execution_count": 73,
   "metadata": {},
   "outputs": [
    {
     "data": {
      "text/plain": [
       "2"
      ]
     },
     "execution_count": 73,
     "metadata": {},
     "output_type": "execute_result"
    }
   ],
   "source": [
    "collection.count_documents({})"
   ]
  },
  {
   "cell_type": "code",
   "execution_count": 74,
   "metadata": {},
   "outputs": [
    {
     "data": {
      "text/plain": [
       "<pymongo.results.UpdateResult at 0x7fec8e5c3400>"
      ]
     },
     "execution_count": 74,
     "metadata": {},
     "output_type": "execute_result"
    }
   ],
   "source": [
    "collection.update_one(\n",
    "    {'name': 'Legolas'},\n",
    "    {'$set': {'age': 3000}}\n",
    ")"
   ]
  },
  {
   "cell_type": "code",
   "execution_count": 75,
   "metadata": {},
   "outputs": [
    {
     "data": {
      "text/plain": [
       "{'_id': ObjectId('64176852ec5cc6de05f96034'),\n",
       " 'name': 'Legolas',\n",
       " 'race': 'elf',\n",
       " 'age': 3000}"
      ]
     },
     "execution_count": 75,
     "metadata": {},
     "output_type": "execute_result"
    }
   ],
   "source": [
    "collection.find_one({'race': 'elf'})"
   ]
  }
 ],
 "metadata": {
  "kernelspec": {
   "display_name": "Python 3",
   "language": "python",
   "name": "python3"
  },
  "language_info": {
   "codemirror_mode": {
    "name": "ipython",
    "version": 3
   },
   "file_extension": ".py",
   "mimetype": "text/x-python",
   "name": "python",
   "nbconvert_exporter": "python",
   "pygments_lexer": "ipython3",
   "version": "3.8.11"
  }
 },
 "nbformat": 4,
 "nbformat_minor": 5
}
