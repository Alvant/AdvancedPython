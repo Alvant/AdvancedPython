{
 "cells": [
  {
   "cell_type": "markdown",
   "metadata": {},
   "source": [
    "# Coroutines: Into the Async\n",
    "\n",
    "<br>\n",
    "\n",
    "<img src=\"./images/into_the_unknown.jpeg\" width=\"80%\">"
   ]
  },
  {
   "cell_type": "markdown",
   "metadata": {},
   "source": [
    "# Contents<a id=\"contents\"></a>\n",
    "\n",
    "* [From Generators to Coroutines](#coroutines)\n",
    "  * [From One Generator to Another: \"yield from\"](#yield-from)\n",
    "  * [Two-Faced \"yield\", or Generator's \"next\" vs. Coroutine's \"send\"](#next-vs-send)\n",
    "  * [GeneratorExit, or The Moment When the Coroutine/Generator Stops](#debt1)\n",
    "  * [Several Coroutines: Scheduler (Orchestrator) Example](#scheduler)\n",
    "  * [Two in One: Receive & Send (But Try Not to Do That)](#debt2)\n",
    "  * [Don't Throw an Error at Me – Better Send Me a Signal](#signal)"
   ]
  },
  {
   "cell_type": "markdown",
   "metadata": {},
   "source": [
    "## From Generators to Coroutines<a id=\"coroutines\"></a>\n",
    "<div style=\"text-align: right;\"><a href=#contents>Back to Contents</a></div>\n",
    "\n",
    "<img src=\"./images/beazley_intro_slide.png\" width=\"80%\">\n",
    "\n",
    "Приставка \"co\" в слове корутина — означает \"совместно\", \"вместе\".\n",
    "Ключевую роль играет возможность передачи значения другим корутинам (`send`) и ожидание результата работы от других корутин (`yield from`).\n",
    "\n",
    "Из [словаря](https://en.wiktionary.org/wiki/coroutine):\n",
    "> *Coroutine* is a piece of code that performs a task, and that can be passed new input and return output more than once.\n",
    "\n",
    "И в качестве более частных разновидностей корутины можно выделить *сабрутины* (обычные программы):\n",
    "> Subroutine is a coroutine that accepts input once and returns output once.\n",
    "\n",
    "и *генераторы*:\n",
    "> Generator is a coroutine that accepts input once, but yields output multiple times.\n",
    "\n",
    "Таким образом, корутина как бы использует часть функционала от генератора, расширяя его.\n",
    "\n",
    "А вообще, на корутины и обычные функции можно смотреть просто как на абстракции стека вызовов и порядка выполнения инструкций: когда есть некоторый порядок выполнения блоков кода и в каждом блоке известна текущая выполняемая инструкция.\n",
    "\n",
    "<img src=\"./images/call_stack.png\" width=\"80%\">\n",
    "\n",
    "*Пример-иллюстрация концепции Call stack-а на JavaScript (https://ru.hexlet.io/courses/js-asynchronous-programming/lessons/call-stack/theory_unit).*\n",
    "\n",
    "Как и в случае сабрутин, при выполнении корутин выделяется память под локальные переменные, последовательно выполняются строки.\n",
    "На стадии `return` обычной функции возвращаемое значение кладётся в стек вызовов, и освобождается память, выделенная под локальные переменные, под указатель на текущую инструкцию в теле функции.\n",
    "Отличие же корутин от обычных функций в том, что при выбрысывании значения вовне с помощью `yield` оно кладётся в стек, но *состояние корутины сохраняется*.\n",
    "При получении значения из `yield` состояние стека восстанавливается, и продолжается выполнение корутины.\n",
    "Таким образом, корутина может передавать контроль другой функции с сохранением собственного состояния.\n",
    "\n",
    "Сходство программы, где вызываются корутины, с программой, где работают простыми функциями, в том, что порядок выполнения кода в обоих случаях последовательный (выполняется одна функция, после неё выполняется другая, но не случайная, а конкретная).\n",
    "Таким образом, корутины, запущенные из одного источника, могут одновременно находиться в состоянии выполнения, но в каждый момент времени реально выполняется только одна из них (\"concurrent but not parallel\").\n",
    "\n",
    "Корутина не может передавать управление произвольной корутине, в то же время находящейся в состоянии исполнения.\n",
    "Корутина может передать управление либо вновь созданной корутине (`yield from`), либо коду, вызвавшему корутину (который в стеке вызовов находится сразу перед корутиной).\n",
    "И родитель корутины (например, сам *планировщик задач*) может уже передать контроль другой дочерней корутине."
   ]
  },
  {
   "cell_type": "markdown",
   "metadata": {},
   "source": [
    "### From One Generator to Another: `yield from`<a id=\"yield-from\"></a>\n",
    "<div style=\"text-align: right;\"><a href=#contents>Back to Contents</a></div>"
   ]
  },
  {
   "cell_type": "code",
   "execution_count": 1,
   "metadata": {},
   "outputs": [],
   "source": [
    "def filter_greater_than_zero(values):\n",
    "    for v in values:\n",
    "        if v >= 0:\n",
    "            yield v\n",
    "\n",
    "def filter_lower_than_zero(values):\n",
    "    for v in values:\n",
    "        if v < 0:\n",
    "            yield v\n",
    "\n",
    "def complex_generate(values):\n",
    "    yield from filter_greater_than_zero(values)\n",
    "    yield from filter_lower_than_zero(values)"
   ]
  },
  {
   "cell_type": "code",
   "execution_count": 2,
   "metadata": {},
   "outputs": [
    {
     "name": "stdout",
     "output_type": "stream",
     "text": [
      "0\n",
      "1\n",
      "2\n",
      "-3\n",
      "-2\n",
      "-1\n"
     ]
    }
   ],
   "source": [
    "for v in complex_generate(range(-3, 3)):\n",
    "    print(v)"
   ]
  },
  {
   "cell_type": "markdown",
   "metadata": {},
   "source": [
    "### Two-Faced `yield`, or Generator's `next` vs. Coroutine's `send`<a id=\"next-vs-send\"></a>\n",
    "<div style=\"text-align: right;\"><a href=#contents>Back to Contents</a></div>\n",
    "\n",
    "Функция `next` *получает* значение из генератора.\n",
    "\n",
    "Метод же `send` *посылает* значение в корутину.\n",
    "\n",
    "При этом `yield`, который внутри корутины, всегда *и посылает, и получает* значение.\n",
    "\n",
    "Здесь важен порядок отправки-получения: в выражении с `yield` значение сначала выбрасывается из корутины вовне, и только потом значение выражения с `yield` становится равным тому значению, которое передано в корутину с помощью `send`.\n",
    "```python\n",
    "received_value = yield emitted_value\n",
    "```\n",
    "\n",
    "Метод `send` также двоякий: он не только отправляет одно значение, но и принимает другое из корутины.\n",
    "```python\n",
    "# coroutine = ...\n",
    "\n",
    "received_value = coroutine.send(emitted_value)\n",
    "```\n",
    "\n",
    "Отсюда становится понятно, почему **при инициализации корутины приходится сначала делать `next()` или `send(None)`**: после этого происходит первый выброс значения из корутины и выполнение корутины останавливается перед получением значения в `yield`.\n",
    "Далее, при следующем вызове `send` с уже нормальным значением выполнение корутины продолжается на этапе *получения значения из yield*, продолжается до следующего `yield`, из него выбрасывается значение, и код останавливается, опять, на моменте получения значения в новый `yield`.\n",
    "\n",
    "С генераторами всё похоже, только там не надо делать \"инициализацию\", потому что первый выброс значения уже, как правило, осмысленный."
   ]
  },
  {
   "cell_type": "code",
   "execution_count": 3,
   "metadata": {},
   "outputs": [],
   "source": [
    "def receive_value():\n",
    "    while True:\n",
    "        received_value = yield\n",
    "\n",
    "        print(f'Received: \"{received_value}\".')"
   ]
  },
  {
   "cell_type": "code",
   "execution_count": 4,
   "metadata": {},
   "outputs": [
    {
     "name": "stdout",
     "output_type": "stream",
     "text": [
      "Received: \"Hello world!\".\n"
     ]
    }
   ],
   "source": [
    "coroutine = receive_value()\n",
    "\n",
    "next(coroutine)\n",
    "\n",
    "coroutine.send(\"Hello world!\")"
   ]
  },
  {
   "cell_type": "markdown",
   "metadata": {},
   "source": [
    "### GeneratorExit, or The Moment When the Coroutine/Generator Stops<a id=\"debt1\"></a>\n",
    "<div style=\"text-align: right;\"><a href=#contents>Back to Contents</a></div>\n",
    "\n",
    "Значения посылаются в корутины с помощью метода `send`.\n",
    "Закрыть корутину от получения значений можно с помощью метода `close`."
   ]
  },
  {
   "cell_type": "code",
   "execution_count": 5,
   "metadata": {},
   "outputs": [],
   "source": [
    "coroutine.close()"
   ]
  },
  {
   "cell_type": "markdown",
   "metadata": {},
   "source": [
    "После закрытия корутину использовать уже не получится:"
   ]
  },
  {
   "cell_type": "code",
   "execution_count": 6,
   "metadata": {},
   "outputs": [
    {
     "name": "stdout",
     "output_type": "stream",
     "text": [
      "Failed to send value! (StopIteration).\n"
     ]
    }
   ],
   "source": [
    "try:\n",
    "    coroutine.send(\"Hello world!\")\n",
    "except StopIteration:\n",
    "    print('Failed to send value! (StopIteration).')"
   ]
  },
  {
   "cell_type": "markdown",
   "metadata": {},
   "source": [
    "То же самое можно было сделать и с генераторами:"
   ]
  },
  {
   "cell_type": "code",
   "execution_count": 7,
   "metadata": {},
   "outputs": [],
   "source": [
    "def generate():\n",
    "    while True:\n",
    "        yield \"Hello world!\""
   ]
  },
  {
   "cell_type": "code",
   "execution_count": 8,
   "metadata": {},
   "outputs": [
    {
     "name": "stdout",
     "output_type": "stream",
     "text": [
      "Hello world!\n",
      "Failed to receive value! (StopIteration).\n"
     ]
    }
   ],
   "source": [
    "generator = generate()\n",
    "\n",
    "print(next(generator))\n",
    "\n",
    "generator.close()\n",
    "\n",
    "try:\n",
    "    print(next(generator))\n",
    "except StopIteration:\n",
    "    print('Failed to receive value! (StopIteration).')"
   ]
  },
  {
   "cell_type": "markdown",
   "metadata": {},
   "source": [
    "На самом деле при `close` внутри корутины (генератора) выбрасывается ошибка `GeneratorExit`:"
   ]
  },
  {
   "cell_type": "code",
   "execution_count": 9,
   "metadata": {},
   "outputs": [],
   "source": [
    "def receive_value():\n",
    "    while True:\n",
    "        try:\n",
    "            received_value = yield\n",
    "        except GeneratorExit as exception:\n",
    "            print('Coroutine closed!')\n",
    "            raise exception\n",
    "        else:\n",
    "            print(f'Received: \"{received_value}\".')"
   ]
  },
  {
   "cell_type": "code",
   "execution_count": 10,
   "metadata": {},
   "outputs": [
    {
     "name": "stdout",
     "output_type": "stream",
     "text": [
      "Received: \"Hello world!\".\n",
      "Coroutine closed!\n"
     ]
    }
   ],
   "source": [
    "coroutine = receive_value()\n",
    "\n",
    "next(coroutine)\n",
    "\n",
    "coroutine.send(\"Hello world!\")\n",
    "coroutine.close()"
   ]
  },
  {
   "cell_type": "markdown",
   "metadata": {},
   "source": [
    "Стоит отметить, что ошибка `GeneratorExit` наследуется не от `Exception`, а от `BaseException`, так как \"[по сути не является ошибкой](https://docs.python.org/3/library/exceptions.html#GeneratorExit)\"."
   ]
  },
  {
   "cell_type": "markdown",
   "metadata": {},
   "source": [
    "### Several Coroutines: Scheduler (Orchestrator) Example<a id=\"scheduler\"></a>\n",
    "<div style=\"text-align: right;\"><a href=#contents>Back to Contents</a></div>\n",
    "\n",
    "Сымитируем осмысленный пример использования корутин: определим несколько корутин, которые будут параллельно что-то делать и которые в нужный момент будет дёргать планировщик (оркестратор)."
   ]
  },
  {
   "cell_type": "code",
   "execution_count": 11,
   "metadata": {},
   "outputs": [
    {
     "name": "stdout",
     "output_type": "stream",
     "text": [
      "Input: -3.\n",
      "Output (add2): -1.\n",
      "Input: -2.\n",
      "Output (sqr): 4.\n",
      "Input: -1.\n",
      "Output (add2): 1.\n",
      "Input: 0.\n",
      "Output (sqr): 0.\n",
      "Input: 1.\n",
      "Output (add2): 3.\n",
      "Input: 2.\n",
      "Output (sqr): 4.\n"
     ]
    }
   ],
   "source": [
    "def sqr():\n",
    "    while True:\n",
    "        value = yield\n",
    "        \n",
    "        print(f'Output (sqr): {value ** 2}.')\n",
    "\n",
    "\n",
    "def add2():\n",
    "    while True:\n",
    "        value = yield\n",
    "        \n",
    "        print(f'Output (add2): {value + 2}.')\n",
    "\n",
    "\n",
    "# Creation\n",
    "coroutine1 = sqr()\n",
    "coroutine2 = add2()\n",
    "\n",
    "\n",
    "# Initialization\n",
    "next(coroutine1)\n",
    "next(coroutine2)\n",
    "\n",
    "\n",
    "# Scheduler — as manually written `for`-cycle\n",
    "for v in range(-3, 3):\n",
    "    # Several coroutines working: in parallel, but not simultaneously\n",
    "    \n",
    "    print(f'Input: {v}.')\n",
    "    \n",
    "    if v % 2 == 0:\n",
    "        coroutine1.send(v)\n",
    "    else:\n",
    "        coroutine2.send(v)\n",
    "\n",
    "\n",
    "# Finish\n",
    "coroutine1.close()\n",
    "coroutine2.close()"
   ]
  },
  {
   "cell_type": "markdown",
   "metadata": {},
   "source": [
    "### Two in One: Receive & Send (But Try Not to Do That)<a id=\"debt2\"></a>\n",
    "<div style=\"text-align: right;\"><a href=#contents>Back to Contents</a></div>\n",
    "\n",
    "Можно написать корутину, которая и принимает и отдаёт значения.\n",
    "Правда, лучше этим не увлекаться, потому что не понятно и легко ошибиться 😅"
   ]
  },
  {
   "cell_type": "code",
   "execution_count": 12,
   "metadata": {},
   "outputs": [],
   "source": [
    "def receive_and_send():\n",
    "    value = 'initial value'\n",
    "    \n",
    "    while True:\n",
    "        received_value = yield value\n",
    "        \n",
    "        print(f'Sent: {value}. Received: {received_value}')\n",
    "        \n",
    "        value = received_value"
   ]
  },
  {
   "cell_type": "code",
   "execution_count": 13,
   "metadata": {},
   "outputs": [
    {
     "data": {
      "text/plain": [
       "'initial value'"
      ]
     },
     "execution_count": 13,
     "metadata": {},
     "output_type": "execute_result"
    }
   ],
   "source": [
    "coroutine = receive_and_send()\n",
    "\n",
    "next(coroutine)"
   ]
  },
  {
   "cell_type": "code",
   "execution_count": 14,
   "metadata": {},
   "outputs": [
    {
     "name": "stdout",
     "output_type": "stream",
     "text": [
      "Sent: initial value. Received: Hello world!\n"
     ]
    },
    {
     "data": {
      "text/plain": [
       "'Hello world!'"
      ]
     },
     "execution_count": 14,
     "metadata": {},
     "output_type": "execute_result"
    }
   ],
   "source": [
    "coroutine.send(\"Hello world!\")"
   ]
  },
  {
   "cell_type": "code",
   "execution_count": 15,
   "metadata": {},
   "outputs": [
    {
     "name": "stdout",
     "output_type": "stream",
     "text": [
      "Sent: Hello world!. Received: \n",
      "Tired of drifting, searching, shifting through town to town\n",
      "Every time I slip and slide a little further down\n",
      "I can't blame you if you won't take me back\n",
      "After everything I put you through\n",
      "But honey you're my last hope\n",
      "And who else can I turn to\n",
      "\n"
     ]
    },
    {
     "data": {
      "text/plain": [
       "\"\\nTired of drifting, searching, shifting through town to town\\nEvery time I slip and slide a little further down\\nI can't blame you if you won't take me back\\nAfter everything I put you through\\nBut honey you're my last hope\\nAnd who else can I turn to\\n\""
      ]
     },
     "execution_count": 15,
     "metadata": {},
     "output_type": "execute_result"
    }
   ],
   "source": [
    "coroutine.send(\"\"\"\n",
    "Tired of drifting, searching, shifting through town to town\n",
    "Every time I slip and slide a little further down\n",
    "I can't blame you if you won't take me back\n",
    "After everything I put you through\n",
    "But honey you're my last hope\n",
    "And who else can I turn to\n",
    "\"\"\")"
   ]
  },
  {
   "cell_type": "markdown",
   "metadata": {},
   "source": [
    "### Don't Throw an Error at Me – Better Send Me a Signal<a id=\"signal\"></a>\n",
    "<div style=\"text-align: right;\"><a href=#contents>Back to Contents</a></div>\n",
    "\n",
    "Ещё один инструмент управления корутинами (кроме методов `send` и `close`) — метод `throw`: \"посылка сигнала\".\n",
    "Дело в том, что корутина — как небольшая отдельная программа.\n",
    "И в случае, если \"планировщик\" решает, что этой программе надо сделать \"что-то ещё\", помимо её основной работы (`send`) или завершения (`close`), он отправляет соответствующий сигнал (сигнал, о котором должна быть в курсе сама корутина).\n",
    "\n",
    "Сигналы реализуются в виде \"исключений\".\n",
    "Но в этом не стоит усматривать что-то \"противоестественное\" (\"костылеватое\").\n",
    "Ведь одна из основных (если не самая главная) задач вообще всех исключений — \"что-то кому-то сообщить\" (так, и ошибку часто бросают именно для того, чтобы её кто-то мог *перехватить и обработать*). "
   ]
  },
  {
   "cell_type": "code",
   "execution_count": 16,
   "metadata": {},
   "outputs": [],
   "source": [
    "class PrintHelloSignal(Exception):\n",
    "    pass\n",
    "\n",
    "class PrintWorldSignal(Exception):\n",
    "    pass"
   ]
  },
  {
   "cell_type": "code",
   "execution_count": 17,
   "metadata": {},
   "outputs": [],
   "source": [
    "def receive():\n",
    "    while True:\n",
    "        try:\n",
    "            received_value = yield\n",
    "\n",
    "            print(f'Received: {received_value}.')\n",
    "\n",
    "        except PrintHelloSignal:\n",
    "            print(f'Hello', end=' ')\n",
    "\n",
    "        except PrintWorldSignal:\n",
    "            print(f'world!')"
   ]
  },
  {
   "cell_type": "code",
   "execution_count": 18,
   "metadata": {},
   "outputs": [],
   "source": [
    "coroutine = receive()\n",
    "\n",
    "next(coroutine)"
   ]
  },
  {
   "cell_type": "code",
   "execution_count": 19,
   "metadata": {},
   "outputs": [
    {
     "name": "stdout",
     "output_type": "stream",
     "text": [
      "Received: -17.5.\n"
     ]
    }
   ],
   "source": [
    "coroutine.send(-17.5)"
   ]
  },
  {
   "cell_type": "code",
   "execution_count": 20,
   "metadata": {},
   "outputs": [
    {
     "name": "stdout",
     "output_type": "stream",
     "text": [
      "Hello world!\n"
     ]
    }
   ],
   "source": [
    "coroutine.throw(PrintHelloSignal)\n",
    "coroutine.throw(PrintWorldSignal)"
   ]
  },
  {
   "cell_type": "code",
   "execution_count": 21,
   "metadata": {},
   "outputs": [
    {
     "name": "stdout",
     "output_type": "stream",
     "text": [
      "Received: Bye.\n"
     ]
    }
   ],
   "source": [
    "coroutine.send(\"Bye\")"
   ]
  },
  {
   "cell_type": "markdown",
   "metadata": {},
   "source": [
    "---\n",
    "\n",
    "<br/>\n",
    "<br/>\n",
    "<br/>\n",
    "<br/>\n",
    "<br/>\n",
    "<br/>\n",
    "<br/>\n",
    "\n",
    "## References\n",
    "\n",
    "* [Silver Lady](https://genius.com/David-soul-silver-lady-lyrics) by David Soul."
   ]
  }
 ],
 "metadata": {
  "kernelspec": {
   "display_name": "Python 3",
   "language": "python",
   "name": "python3"
  },
  "language_info": {
   "codemirror_mode": {
    "name": "ipython",
    "version": 3
   },
   "file_extension": ".py",
   "mimetype": "text/x-python",
   "name": "python",
   "nbconvert_exporter": "python",
   "pygments_lexer": "ipython3",
   "version": "3.6.7"
  }
 },
 "nbformat": 4,
 "nbformat_minor": 2
}
