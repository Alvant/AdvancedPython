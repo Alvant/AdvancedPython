{
 "cells": [
  {
   "cell_type": "markdown",
   "metadata": {},
   "source": [
    "# Asyncio\n",
    "\n",
    "<br>\n",
    "\n",
    "<figure>\n",
    "    <img src=\"./images/StansKitchen.jpg\" width=\"80%\">\n",
    "    <figcaption style=\"text-align: center\">\n",
    "        <a href=\"https://www.wattpad.com/748141112-22-short-stories-from-gravity-falls-story-10\">\n",
    "            <em>https://www.wattpad.com/748141112-22-short-stories-from-gravity-falls-story-10</em>.\n",
    "        </a>\n",
    "    </figcaption>\n",
    "</figure>"
   ]
  },
  {
   "cell_type": "markdown",
   "metadata": {},
   "source": [
    "# Contents<a id=\"contents\"></a>\n",
    "\n",
    "* [CPU & I/O Bound Programs](#cpu-and-io-bound)\n",
    "* [Deeper in Concurrency: Coroutines vs. Threading vs. Parallelism](#deeper-in-concurrency)\n",
    "* [Asyncio](#asyncio)\n",
    "  * [Sync, or \"How Normal People Do It\"](#sync)\n",
    "  * [Async, But... (\"Old-Way Acync\")](#async-but)\n",
    "  * [Kinda Async, or \"Looks Like Asyncio but Doesn't Quack Like Asyncio\"](#kinda-async)\n",
    "  * [Real Async, or \"Finally Something Strange is Starting to Happen\"](#real-async)\n",
    "  * [Task, or Something That Is Not Ready Yet](#task)\n",
    "* [\"Real-World\" Example \\#1: Books](#books)\n",
    "* [\"Real-World\" Example \\#2: Butterbrot](#butterbrot)\n",
    "* [References](#references)"
   ]
  },
  {
   "cell_type": "markdown",
   "metadata": {},
   "source": [
    "## CPU & I/O Bound Programs<a id=\"cpu-and-io-bound\"></a>\n",
    "<div style=\"text-align: right;\"><a href=#contents>Back to Contents</a></div>\n",
    "\n",
    "Зачем нужны корутины?\n",
    "Корутины — как способ асинхронно выполнять ряд действий.\n",
    "\n",
    "Вообще, при написании кода (даже до написания) надо задумываться о том\n",
    "1. Будет ли код ожидать чего-то, например данных из базы данных или от сервера. Если ответ \"да\", то производительность кода, скорее всего, ограничена операциями ввода-вывода (I/O bound code).\n",
    "\n",
    "<figure>\n",
    "    <img alt=\"Load Bar\" src=\"https://media.giphy.com/media/WqA2ZMPc1ddTIbRupZ/giphy.gif\" width=\"50%\">\n",
    "    <figcaption style=\"text-align: center\">\n",
    "        <a href=\"https://giphy.com/gifs/gay-loading-WqA2ZMPc1ddTIbRupZ\">\n",
    "            <em>https://giphy.com/gifs/gay-loading-WqA2ZMPc1ddTIbRupZ</em>.\n",
    "        </a>\n",
    "    </figcaption>\n",
    "</figure>\n",
    "\n",
    "2. Будет ли код выполнять какие-то сложные долгие вычисления? Если ответ \"да\", то, скорее всего, производительность кода ограничена количеством ядер процессора (CPU bound code).\n",
    "\n",
    "```python\n",
    "for i in range(10000000000000):\n",
    "    _ = 1 + 1\n",
    "```\n",
    "\n",
    "Ввиду такого свойства текущей реализации CPython языка Питон, как [GIL](https://en.wikipedia.org/wiki/Global_interpreter_lock), CPU bound программы никак не получится оптимизировать, кроме как использовать библиотеку `multiprocessing` для параллельного выполнения кода на нескольких ядрах (которая просто запускает по отдельному интерпретатору Питона на каждом ядре, на физическом ядре). \n",
    "Что же до I/O bound программ, то тут на помощь как раз могут прийти корутины (и не только)."
   ]
  },
  {
   "cell_type": "markdown",
   "metadata": {},
   "source": [
    "## Deeper in Concurrency: Coroutines vs. Threading vs. Parallelism<a id=\"deeper-in-concurrency\"></a>\n",
    "<div style=\"text-align: right;\"><a href=#contents>Back to Contents</a></div>\n",
    "\n",
    "В Питоне есть несколько способов *одновременно* выполнять несколько вещей:\n",
    "* нити (потоки)\n",
    "* процессы\n",
    "* задачи (можно думать о задачах в рамках конкретной библиотеки `asyncio`; основано на корутинах)\n",
    "\n",
    "В целом подходы могут показаться похожими, но если копать глубже, то у каждого есть свои уникальные черты и область применимости.\n",
    "Так, потоки отличаются от задач порядком выполнения: остановка и продолжение потоков регулируется операционной системой, в то время как в `asyncio` задачи кооперируют друг с другом: каждая может давать другим понять, что она готова продолжать работу.\n",
    "Ещё преимущество `asyncio` перед потоками в том, что при выполнении корутин дополнительные расходы по памяти меньше.\n",
    "При самом создании корутины никакого исполнения вообще не происходит: объект корутины может быть передан окрестратору (Event Loop), который уже может запустить корутину на выполнение тотчас же или позже.\n",
    "\n",
    "Далее мы подробнее обсудим библиотеку `asyncio`."
   ]
  },
  {
   "cell_type": "markdown",
   "metadata": {},
   "source": [
    "## Asyncio<a id=\"asyncio\"></a>\n",
    "<div style=\"text-align: right;\"><a href=#contents>Back to Contents</a></div>\n",
    "\n",
    "Библиотека `asyncio` появилась в Питоне ~3.4.\n",
    "Постоянно дополнялась, обновлялась (некоторые удобные абстракции работают только начиная с Питона 3.7).\n",
    "\n",
    "Плюсы `asyncio` по сравнению с чистыми корутинами:\n",
    "* С помощью специального синтаксиса корутины выделяются в языке более явно: так, это уже не просто \"расширенная версия геренатора\".\n",
    "* Есть готовая реализация Event Loop, который, как планировщик задач или дирижёр, вызывает те корутины-задачи, которые уже готовы продолжать работу. Event Loop ждёт, пока не произойдёт какое-либо событие (что-то скачалось, данные подгрузились, какая-то задача завершилась, ...), и реагирует по ситуации.\n",
    "\n",
    "![](./images/event_loop.png)\n",
    "*Tasks в Event Loop (https://docs.python.org/3.4/library/asyncio-task.html).*\n",
    "\n",
    "* Есть возможность использовать асинхронность в контекстных менеджерах и при итерациях в цикле `for`\n",
    "\n",
    "Корутина, начиная с Питона ~3.4, может определаться так\n",
    "```python\n",
    "async def read_data(database):\n",
    "    pass\n",
    "```\n",
    "\n",
    "Ключевое здесь — `async def`.\n",
    "Модификатор `async` делает функцию асинхронной и позволяет использовать внутри такой (и только такой) функции конструкцию с `await`:\n",
    "```python\n",
    "async def read_data(database):\n",
    "    data = await database.fetch('SELECT name FROM mushrooms WHERE cap_color = \"RED\";')\n",
    "    \n",
    "    # Doint something with the data...\n",
    "```\n",
    "\n",
    "При этом `await` служит аналогом `yield from`.\n",
    "И после `await` также может идти не что угодно, а специальный объект (Awaitable объект, который реализует специальный magic метод).\n",
    "При использовании `await` вне `async def` функций будет ошибка (`SyntaxError`).\n",
    "Именно `await` передаёт контроль из корутины вызывающему корутину коду и позволяет переключаться на выполнение других задач, пока текущая задача под `await` не будет выполнена.\n",
    "При определении корутины с помощью `async def` использовать `yield` внутри уже нельзя: как способы возвращения значения вызывающему коду могут использоваться только `return` и `await`.\n",
    "\n",
    "Корутины в рамках `asyncio` — как задачи (`Task`), которые регулирует Event Loop.\n",
    "При этом часто для задач можно встретить обозначение `Future`: что-то, что ещё не готово, но посчитается когда-то в будущем (класс `Task` наследуется от класса `Future`).\n",
    "Метод для создания задачи `create_task` появился позже, чем метод для создания фьючи `create_future` (в Питоне 3.7).\n",
    "\n",
    "Хоть код читается как \"последовательность действий\", как и в случае с просто корутинами, но, благодаря орекстратору Event Loop, который решает, какая задача будет выполняться следующей, код на самом деле может выполняться в неочевидном порядке.\n",
    "Всё зависит от времени завершения конкрентных задач.\n",
    "\n",
    "Асинхронность важна во многих приложениях.\n",
    "Так, игра на мобильном телефоне должна давать вам как пользователю возможность выйти из приложения, даже если в этот момент вы управляете бегающей сосиской.\n",
    "Или при скачивании чего-либо на компьютере: экран остаётся кликабельным, и вы даже можете прервать загрузку.\n",
    "Упомянутые процессы не блокируют работу: приложение всегда способно обрабатывать другие действия пользователя.\n",
    "Или при работе сервера (например почтового, Gmail) сервер никогда целиком не переключается на работу с конкретным пользователем: только при попытке выполнить какое-то действие со стороны пользователя (например при отправке сообщения) сервер откликнется на запрос, но при бездействии со стороны пользователя (а пользователь, как правило, большую часть времени бездействует) сервер переключится на работу с кем-то ещё.\n",
    "\n",
    "Преимущество же синхронного кода по сравнению с асинхронным — в простоте разработки, в понятности и читаемости кода.\n",
    "Писать асинхронный код тяжелее, так как это требует более глубокого понимания происходящих внутри процессов и того, как они будут взаимодействовать между собой."
   ]
  },
  {
   "cell_type": "code",
   "execution_count": 1,
   "metadata": {},
   "outputs": [],
   "source": [
    "import asyncio\n",
    "import datetime\n",
    "import time\n",
    "\n",
    "from typing import Awaitable\n",
    "\n",
    "# Kostyl' to run a new loop in Jupyter Notebook\n",
    "# (we can do without it;\n",
    "#  still, for demonstration purposes, we are going to create a loop a couple of times)\n",
    "import nest_asyncio\n",
    "\n",
    "from aiofile import async_open\n",
    "\n",
    "# https://github.com/ipython/ipython/issues/11338\n",
    "# https://stackoverflow.com/a/56434301/8094251\n",
    "nest_asyncio.apply()"
   ]
  },
  {
   "cell_type": "code",
   "execution_count": 11,
   "metadata": {},
   "outputs": [],
   "source": [
    "LITTLE_TIME_INTERVAL = 0.1\n",
    "BIGGER_TIME_INTERVAL = 0.5"
   ]
  },
  {
   "cell_type": "markdown",
   "metadata": {},
   "source": [
    "### Sync, or \"How Normal People Do It\"<a id=\"sync\"></a>\n",
    "<div style=\"text-align: right;\"><a href=#contents>Back to Contents</a></div>"
   ]
  },
  {
   "cell_type": "code",
   "execution_count": 12,
   "metadata": {},
   "outputs": [],
   "source": [
    "def print_hello() -> None:\n",
    "    time.sleep(BIGGER_TIME_INTERVAL)\n",
    "    \n",
    "    print('Hello')\n",
    "\n",
    "def print_world() -> None:\n",
    "    time.sleep(LITTLE_TIME_INTERVAL)\n",
    "    \n",
    "    print('World')"
   ]
  },
  {
   "cell_type": "code",
   "execution_count": 13,
   "metadata": {},
   "outputs": [
    {
     "name": "stdout",
     "output_type": "stream",
     "text": [
      "Hello\n",
      "World\n"
     ]
    }
   ],
   "source": [
    "print_hello()\n",
    "print_world()"
   ]
  },
  {
   "cell_type": "code",
   "execution_count": 14,
   "metadata": {},
   "outputs": [],
   "source": [
    "del print_hello\n",
    "del print_world"
   ]
  },
  {
   "cell_type": "markdown",
   "metadata": {},
   "source": [
    "### Async, But... (\"Old-Way Acync\")<a id=\"async-but\"></a>\n",
    "<div style=\"text-align: right;\"><a href=#contents>Back to Contents</a></div>"
   ]
  },
  {
   "cell_type": "code",
   "execution_count": 15,
   "metadata": {},
   "outputs": [],
   "source": [
    "def print_hello():\n",
    "    while True:\n",
    "        time.sleep(BIGGER_TIME_INTERVAL)\n",
    "\n",
    "        print('Hello')\n",
    "        \n",
    "        yield None\n",
    "\n",
    "\n",
    "def print_world():\n",
    "    while True:\n",
    "        time.sleep(LITTLE_TIME_INTERVAL)\n",
    "\n",
    "        print('World')\n",
    "        \n",
    "        yield None"
   ]
  },
  {
   "cell_type": "code",
   "execution_count": 16,
   "metadata": {},
   "outputs": [],
   "source": [
    "coro1 = print_hello()\n",
    "coro2 = print_world()"
   ]
  },
  {
   "cell_type": "code",
   "execution_count": 17,
   "metadata": {},
   "outputs": [
    {
     "name": "stdout",
     "output_type": "stream",
     "text": [
      "Hello\n",
      "World\n"
     ]
    }
   ],
   "source": [
    "next(coro1)\n",
    "next(coro2)"
   ]
  },
  {
   "cell_type": "code",
   "execution_count": 18,
   "metadata": {},
   "outputs": [],
   "source": [
    "del print_hello\n",
    "del print_world\n",
    "del coro1, coro2"
   ]
  },
  {
   "cell_type": "markdown",
   "metadata": {},
   "source": [
    "### Kinda Async, or \"Looks Like Asyncio but Doesn't Quack Like Asyncio\"<a id=\"kinda-async\"></a>\n",
    "<div style=\"text-align: right;\"><a href=#contents>Back to Contents</a></div>"
   ]
  },
  {
   "cell_type": "markdown",
   "metadata": {},
   "source": [
    "Просто `async def` ещё не делает метод асинхронным:"
   ]
  },
  {
   "cell_type": "code",
   "execution_count": 19,
   "metadata": {},
   "outputs": [],
   "source": [
    "async def print_hello_async() -> Awaitable[None]:\n",
    "    time.sleep(BIGGER_TIME_INTERVAL)\n",
    "    \n",
    "    print('Hello')\n",
    "\n",
    "async def print_world_async() -> Awaitable[None]:\n",
    "    time.sleep(LITTLE_TIME_INTERVAL)\n",
    "    \n",
    "    print('World')"
   ]
  },
  {
   "cell_type": "markdown",
   "metadata": {},
   "source": [
    "Корутина, но не совсем:"
   ]
  },
  {
   "cell_type": "code",
   "execution_count": 20,
   "metadata": {},
   "outputs": [],
   "source": [
    "coro = print_hello_async()"
   ]
  },
  {
   "cell_type": "code",
   "execution_count": 21,
   "metadata": {},
   "outputs": [
    {
     "data": {
      "text/plain": [
       "<coroutine object print_hello_async at 0x00000182AEDF2E08>"
      ]
     },
     "execution_count": 21,
     "metadata": {},
     "output_type": "execute_result"
    }
   ],
   "source": [
    "coro"
   ]
  },
  {
   "cell_type": "code",
   "execution_count": 22,
   "metadata": {},
   "outputs": [
    {
     "name": "stdout",
     "output_type": "stream",
     "text": [
      "'coroutine' object is not an iterator\n"
     ]
    }
   ],
   "source": [
    "try:\n",
    "    next(coro)\n",
    "except TypeError as error:\n",
    "    print(error)"
   ]
  },
  {
   "cell_type": "code",
   "execution_count": 23,
   "metadata": {},
   "outputs": [
    {
     "name": "stdout",
     "output_type": "stream",
     "text": [
      "Hello\n",
      "World\n"
     ]
    }
   ],
   "source": [
    "future1 = asyncio.ensure_future(print_hello_async())\n",
    "future2 = asyncio.ensure_future(print_world_async())"
   ]
  },
  {
   "cell_type": "code",
   "execution_count": 24,
   "metadata": {},
   "outputs": [],
   "source": [
    "del print_hello_async\n",
    "del print_world_async\n",
    "del future1, future2"
   ]
  },
  {
   "cell_type": "markdown",
   "metadata": {},
   "source": [
    "Даже если просто вставить внутрь метода \"что-то из asyncio\", то всё равно не будет асинхронно:"
   ]
  },
  {
   "cell_type": "code",
   "execution_count": 25,
   "metadata": {},
   "outputs": [],
   "source": [
    "async def print_hello_async() -> Awaitable[None]:\n",
    "    asyncio.sleep(BIGGER_TIME_INTERVAL)\n",
    "    \n",
    "    print('Hello')\n",
    "\n",
    "\n",
    "async def print_world_async() -> Awaitable[None]:\n",
    "    asyncio.sleep(LITTLE_TIME_INTERVAL)\n",
    "    \n",
    "    print('World')"
   ]
  },
  {
   "cell_type": "code",
   "execution_count": 26,
   "metadata": {},
   "outputs": [
    {
     "name": "stdout",
     "output_type": "stream",
     "text": [
      "Hello\n",
      "World\n"
     ]
    }
   ],
   "source": [
    "future1 = asyncio.ensure_future(print_hello_async())\n",
    "future2 = asyncio.ensure_future(print_world_async())"
   ]
  },
  {
   "cell_type": "markdown",
   "metadata": {},
   "source": [
    "> coroutine 'sleep' was never awaited...\n",
    "\n",
    "🤔"
   ]
  },
  {
   "cell_type": "code",
   "execution_count": 27,
   "metadata": {},
   "outputs": [],
   "source": [
    "del print_hello_async\n",
    "del print_world_async\n",
    "del future1, future2"
   ]
  },
  {
   "cell_type": "markdown",
   "metadata": {},
   "source": [
    "### Real Async, or \"Finally Something Strange is Starting to Happen\"<a id=\"real-async\"></a>\n",
    "<div style=\"text-align: right;\"><a href=#contents>Back to Contents</a></div>"
   ]
  },
  {
   "cell_type": "code",
   "execution_count": 28,
   "metadata": {},
   "outputs": [],
   "source": [
    "async def print_hello_async() -> Awaitable[None]:\n",
    "    await asyncio.sleep(BIGGER_TIME_INTERVAL)\n",
    "    \n",
    "    print('Hello')\n",
    "\n",
    "\n",
    "async def print_world_async() -> Awaitable[None]:\n",
    "    await asyncio.sleep(LITTLE_TIME_INTERVAL)\n",
    "    \n",
    "    print('World')"
   ]
  },
  {
   "cell_type": "code",
   "execution_count": 29,
   "metadata": {},
   "outputs": [
    {
     "name": "stdout",
     "output_type": "stream",
     "text": [
      "World\n",
      "Hello\n"
     ]
    }
   ],
   "source": [
    "future1 = asyncio.ensure_future(print_hello_async())\n",
    "future2 = asyncio.ensure_future(print_world_async())"
   ]
  },
  {
   "cell_type": "code",
   "execution_count": 30,
   "metadata": {},
   "outputs": [],
   "source": [
    "del print_hello_async\n",
    "del print_world_async\n",
    "del future1, future2"
   ]
  },
  {
   "cell_type": "markdown",
   "metadata": {},
   "source": [
    "#### ...Even This Way\n",
    "\n",
    "Даже если не ждать, Event loop всё равно переключает:"
   ]
  },
  {
   "cell_type": "code",
   "execution_count": 31,
   "metadata": {},
   "outputs": [],
   "source": [
    "async def print_hello_async() -> Awaitable[None]:\n",
    "    await asyncio.sleep(0)  # No actual sleep!\n",
    "    \n",
    "    print('Hello')\n",
    "\n",
    "\n",
    "async def print_world_async() -> Awaitable[None]:\n",
    "    print('World')"
   ]
  },
  {
   "cell_type": "code",
   "execution_count": 32,
   "metadata": {},
   "outputs": [
    {
     "name": "stdout",
     "output_type": "stream",
     "text": [
      "World\n",
      "Hello\n"
     ]
    }
   ],
   "source": [
    "future1 = asyncio.ensure_future(print_hello_async())\n",
    "future2 = asyncio.ensure_future(print_world_async())"
   ]
  },
  {
   "cell_type": "code",
   "execution_count": 33,
   "metadata": {},
   "outputs": [],
   "source": [
    "del print_hello_async\n",
    "del print_world_async\n",
    "del future1, future2"
   ]
  },
  {
   "cell_type": "markdown",
   "metadata": {},
   "source": [
    "#### Many Switches"
   ]
  },
  {
   "cell_type": "code",
   "execution_count": 34,
   "metadata": {},
   "outputs": [],
   "source": [
    "async def print_hello_world_async() -> Awaitable[None]:\n",
    "    print('Hello')\n",
    "    \n",
    "    await asyncio.sleep(LITTLE_TIME_INTERVAL)\n",
    "    \n",
    "    print('world!')"
   ]
  },
  {
   "cell_type": "markdown",
   "metadata": {},
   "source": [
    "Запустим несколько одинаковых задач асинхронно.\n",
    "Видно, что никакая задача не блокирует поток:"
   ]
  },
  {
   "cell_type": "code",
   "execution_count": 35,
   "metadata": {},
   "outputs": [
    {
     "name": "stdout",
     "output_type": "stream",
     "text": [
      "Hello\n",
      "Hello\n",
      "Hello\n",
      "world!\n",
      "world!\n",
      "world!\n"
     ]
    }
   ],
   "source": [
    "_ = asyncio.ensure_future(print_hello_world_async())\n",
    "_ = asyncio.ensure_future(print_hello_world_async())\n",
    "_ = asyncio.ensure_future(print_hello_world_async())"
   ]
  },
  {
   "cell_type": "code",
   "execution_count": 36,
   "metadata": {},
   "outputs": [],
   "source": [
    "del print_hello_world_async"
   ]
  },
  {
   "cell_type": "markdown",
   "metadata": {},
   "source": [
    "#### \"Complex\" Async (Async from Async)"
   ]
  },
  {
   "cell_type": "markdown",
   "metadata": {},
   "source": [
    "И ещё один вариант асинхронного вывода строки `\"Hello world!\"` (источник: http://larsyencken.github.io/gitbook-mcpy/async/asyncio.html): выводится `\"Hello\"`, а в это же время \"выполняется\" функция, возвращающая строку `\"world!\"`.\n",
    "Как только второе слово готово, оно тоже выводится."
   ]
  },
  {
   "cell_type": "code",
   "execution_count": 37,
   "metadata": {},
   "outputs": [],
   "source": [
    "async def print_hello_world_async() -> Awaitable[None]:\n",
    "    world = asyncio.ensure_future(get_world_async())\n",
    "    \n",
    "    await asyncio.sleep(LITTLE_TIME_INTERVAL)\n",
    "    \n",
    "    print('Hello', end=' ')\n",
    "    print(await world)\n",
    "\n",
    "\n",
    "async def get_world_async() -> Awaitable[str]:\n",
    "    await asyncio.sleep(BIGGER_TIME_INTERVAL)\n",
    "    \n",
    "    return 'World'"
   ]
  },
  {
   "cell_type": "code",
   "execution_count": 38,
   "metadata": {},
   "outputs": [
    {
     "name": "stdout",
     "output_type": "stream",
     "text": [
      "Hello World\n"
     ]
    }
   ],
   "source": [
    "_ = asyncio.ensure_future(print_hello_world_async())"
   ]
  },
  {
   "cell_type": "code",
   "execution_count": 39,
   "metadata": {},
   "outputs": [],
   "source": [
    "del print_hello_world_async\n",
    "del get_world_async"
   ]
  },
  {
   "cell_type": "markdown",
   "metadata": {},
   "source": [
    "### Task, or Something That Is Not Ready Yet<a id=\"task\"></a>\n",
    "<div style=\"text-align: right;\"><a href=#contents>Back to Contents</a></div>\n",
    "\n",
    "...but will be ready sometime in the future."
   ]
  },
  {
   "cell_type": "code",
   "execution_count": 59,
   "metadata": {},
   "outputs": [],
   "source": [
    "async def get_slow_hello_async() -> Awaitable[str]:\n",
    "    await asyncio.sleep(BIGGER_TIME_INTERVAL)\n",
    "    \n",
    "    return 'Hello world!'"
   ]
  },
  {
   "cell_type": "code",
   "execution_count": 61,
   "metadata": {},
   "outputs": [
    {
     "name": "stdout",
     "output_type": "stream",
     "text": [
      "Future: <Task pending coro=<get_slow_hello_async() running at <ipython-input-59-6c466166ddae>:1>>\n",
      "Done: False\n"
     ]
    },
    {
     "data": {
      "text/plain": [
       "True"
      ]
     },
     "execution_count": 61,
     "metadata": {},
     "output_type": "execute_result"
    }
   ],
   "source": [
    "future = asyncio.ensure_future(get_slow_hello_async())\n",
    "\n",
    "print(f'Future: {future}')\n",
    "print(f'Done: {future.done()}')\n",
    "\n",
    "future.cancel()"
   ]
  },
  {
   "cell_type": "code",
   "execution_count": 58,
   "metadata": {},
   "outputs": [
    {
     "data": {
      "text/plain": [
       "True"
      ]
     },
     "execution_count": 58,
     "metadata": {},
     "output_type": "execute_result"
    }
   ],
   "source": [
    "future.done()"
   ]
  },
  {
   "cell_type": "code",
   "execution_count": 62,
   "metadata": {},
   "outputs": [],
   "source": [
    "future = asyncio.ensure_future(get_slow_hello_async())\n",
    "\n",
    "# Jupyter Notebook allows to \"wait for free\"\n",
    "result = await future"
   ]
  },
  {
   "cell_type": "code",
   "execution_count": 63,
   "metadata": {},
   "outputs": [
    {
     "data": {
      "text/plain": [
       "True"
      ]
     },
     "execution_count": 63,
     "metadata": {},
     "output_type": "execute_result"
    }
   ],
   "source": [
    "future.done()"
   ]
  },
  {
   "cell_type": "code",
   "execution_count": 64,
   "metadata": {},
   "outputs": [
    {
     "data": {
      "text/plain": [
       "'Hello world!'"
      ]
     },
     "execution_count": 64,
     "metadata": {},
     "output_type": "execute_result"
    }
   ],
   "source": [
    "future.result()"
   ]
  },
  {
   "cell_type": "markdown",
   "metadata": {},
   "source": [
    "#### Run with Timeout"
   ]
  },
  {
   "cell_type": "code",
   "execution_count": 65,
   "metadata": {},
   "outputs": [],
   "source": [
    "future = asyncio.ensure_future(\n",
    "    asyncio.wait_for(get_slow_hello_async(), timeout=LITTLE_TIME_INTERVAL)\n",
    ")\n",
    "\n",
    "try:\n",
    "    await future\n",
    "except:  # TODO: Kostyl' to catch exception from async task (Python 3.6.7, asyncio==3.4.3, nest-asyncio==1.4.2)\n",
    "    pass"
   ]
  },
  {
   "cell_type": "code",
   "execution_count": 66,
   "metadata": {},
   "outputs": [
    {
     "data": {
      "text/plain": [
       "True"
      ]
     },
     "execution_count": 66,
     "metadata": {},
     "output_type": "execute_result"
    }
   ],
   "source": [
    "future.done()"
   ]
  },
  {
   "cell_type": "code",
   "execution_count": 67,
   "metadata": {},
   "outputs": [
    {
     "data": {
      "text/plain": [
       "<Task finished coro=<wait_for() done, defined at D:\\Maths\\Anaconda3\\lib\\asyncio\\tasks.py:321> exception=TimeoutError()>"
      ]
     },
     "execution_count": 67,
     "metadata": {},
     "output_type": "execute_result"
    }
   ],
   "source": [
    "future"
   ]
  },
  {
   "cell_type": "code",
   "execution_count": 68,
   "metadata": {},
   "outputs": [
    {
     "data": {
      "text/plain": [
       "concurrent.futures._base.TimeoutError()"
      ]
     },
     "execution_count": 68,
     "metadata": {},
     "output_type": "execute_result"
    }
   ],
   "source": [
    "future.exception()"
   ]
  },
  {
   "cell_type": "markdown",
   "metadata": {},
   "source": [
    "#### Run Several Tasks"
   ]
  },
  {
   "cell_type": "code",
   "execution_count": 71,
   "metadata": {},
   "outputs": [],
   "source": [
    "async def get_hello_async() -> Awaitable[str]:\n",
    "    await asyncio.sleep(BIGGER_TIME_INTERVAL)\n",
    "    \n",
    "    return 'Hello'\n",
    "\n",
    "\n",
    "async def get_world_async() -> Awaitable[str]:\n",
    "    await asyncio.sleep(LITTLE_TIME_INTERVAL)\n",
    "    \n",
    "    return 'World!'\n",
    "\n",
    "\n",
    "async def _main() -> Awaitable[None]:\n",
    "    done, pending = await asyncio.wait(\n",
    "        [get_hello_async(), get_world_async()], return_when='FIRST_COMPLETED'\n",
    "    )\n",
    "    \n",
    "    print(f'Done tasks: {done}.')\n",
    "    print(f'Pending tasks: {pending}.')"
   ]
  },
  {
   "cell_type": "code",
   "execution_count": 72,
   "metadata": {},
   "outputs": [
    {
     "name": "stdout",
     "output_type": "stream",
     "text": [
      "Done tasks: {<Task finished coro=<get_world_async() done, defined at <ipython-input-71-cb3403a0a25e>:7> result='World!'>}.\n",
      "Pending tasks: {<Task pending coro=<get_hello_async() running at <ipython-input-71-cb3403a0a25e>:2> wait_for=<Future pending cb=[Task._wakeup()]>>}.\n"
     ]
    }
   ],
   "source": [
    "future = asyncio.ensure_future(_main())"
   ]
  },
  {
   "cell_type": "markdown",
   "metadata": {},
   "source": [
    "#### \"Bad\" Task"
   ]
  },
  {
   "cell_type": "markdown",
   "metadata": {},
   "source": [
    "Сделаем что-нибудь... \"плохое\"!"
   ]
  },
  {
   "cell_type": "code",
   "execution_count": 73,
   "metadata": {},
   "outputs": [],
   "source": [
    "async def do_something_bad_async() -> Awaitable[None]:\n",
    "    await asyncio.sleep(LITTLE_TIME_INTERVAL)\n",
    "    \n",
    "    1 / 0"
   ]
  },
  {
   "cell_type": "code",
   "execution_count": 74,
   "metadata": {},
   "outputs": [],
   "source": [
    "task = asyncio.ensure_future(do_something_bad_async())"
   ]
  },
  {
   "cell_type": "markdown",
   "metadata": {},
   "source": [
    " Всё ОК?!"
   ]
  },
  {
   "cell_type": "code",
   "execution_count": 75,
   "metadata": {},
   "outputs": [
    {
     "data": {
      "text/plain": [
       "<Task finished coro=<do_something_bad_async() done, defined at <ipython-input-73-d99b5e225bc7>:1> exception=ZeroDivisionError('division by zero',)>"
      ]
     },
     "execution_count": 75,
     "metadata": {},
     "output_type": "execute_result"
    }
   ],
   "source": [
    "task"
   ]
  },
  {
   "cell_type": "code",
   "execution_count": 76,
   "metadata": {},
   "outputs": [
    {
     "name": "stdout",
     "output_type": "stream",
     "text": [
      "division by zero\n"
     ]
    }
   ],
   "source": [
    "try:\n",
    "    task.result()\n",
    "except ZeroDivisionError as error:\n",
    "    print(error)"
   ]
  },
  {
   "cell_type": "markdown",
   "metadata": {},
   "source": [
    "Объект исключения:"
   ]
  },
  {
   "cell_type": "code",
   "execution_count": 77,
   "metadata": {},
   "outputs": [
    {
     "data": {
      "text/plain": [
       "ZeroDivisionError('division by zero')"
      ]
     },
     "execution_count": 77,
     "metadata": {},
     "output_type": "execute_result"
    }
   ],
   "source": [
    "task.exception()"
   ]
  },
  {
   "cell_type": "markdown",
   "metadata": {},
   "source": [
    "В общем, с задачами надо осторожно) Они могут завершаться \"не удачно\", но этого сходу не видно.\n",
    "\n",
    "\"When we suffer, we do it in silence.\""
   ]
  },
  {
   "cell_type": "markdown",
   "metadata": {},
   "source": [
    "#### Callback: Do This After The Task"
   ]
  },
  {
   "cell_type": "code",
   "execution_count": 78,
   "metadata": {},
   "outputs": [],
   "source": [
    "async def get_world_async() -> Awaitable[str]:\n",
    "    await asyncio.sleep(BIGGER_TIME_INTERVAL)\n",
    "    \n",
    "    return 'World!'\n",
    "\n",
    "def hello_callback(task) -> None:\n",
    "    print(f'Hello {task.result()}')"
   ]
  },
  {
   "cell_type": "code",
   "execution_count": 79,
   "metadata": {},
   "outputs": [
    {
     "name": "stdout",
     "output_type": "stream",
     "text": [
      "Hello World!\n"
     ]
    }
   ],
   "source": [
    "future = asyncio.ensure_future(get_world_async())\n",
    "future.add_done_callback(hello_callback)"
   ]
  },
  {
   "cell_type": "markdown",
   "metadata": {},
   "source": [
    "#### Coroutine vs. Future vs. Task\n",
    "\n",
    "\"В целом одно и то же, но под разными именами\"."
   ]
  },
  {
   "cell_type": "code",
   "execution_count": 80,
   "metadata": {},
   "outputs": [],
   "source": [
    "async def print_hello_async() -> Awaitable[str]:\n",
    "    await asyncio.sleep(LITTLE_TIME_INTERVAL)\n",
    "    \n",
    "    message = 'Hello'\n",
    "    \n",
    "    print(message)\n",
    "    \n",
    "    return message\n",
    "\n",
    "\n",
    "async def print_world_async() -> Awaitable[str]:\n",
    "    await asyncio.sleep(0.1)\n",
    "\n",
    "    message = 'World'\n",
    "    \n",
    "    print(message)\n",
    "    \n",
    "    return message"
   ]
  },
  {
   "cell_type": "markdown",
   "metadata": {},
   "source": [
    "**Coroutines**"
   ]
  },
  {
   "cell_type": "code",
   "execution_count": 81,
   "metadata": {},
   "outputs": [],
   "source": [
    "coroutines = [\n",
    "    print_hello_async(),\n",
    "    print_world_async(),\n",
    "]"
   ]
  },
  {
   "cell_type": "code",
   "execution_count": 82,
   "metadata": {},
   "outputs": [
    {
     "name": "stdout",
     "output_type": "stream",
     "text": [
      "Hello\n",
      "World\n"
     ]
    },
    {
     "data": {
      "text/plain": [
       "['Hello', 'World']"
      ]
     },
     "execution_count": 82,
     "metadata": {},
     "output_type": "execute_result"
    }
   ],
   "source": [
    "loop = asyncio.get_event_loop()\n",
    "\n",
    "loop.run_until_complete(\n",
    "    asyncio.gather(*coroutines)\n",
    ")"
   ]
  },
  {
   "cell_type": "code",
   "execution_count": 83,
   "metadata": {},
   "outputs": [],
   "source": [
    "del coroutines"
   ]
  },
  {
   "cell_type": "markdown",
   "metadata": {},
   "source": [
    "**Futures**"
   ]
  },
  {
   "cell_type": "code",
   "execution_count": 84,
   "metadata": {},
   "outputs": [
    {
     "name": "stdout",
     "output_type": "stream",
     "text": [
      "Hello\n",
      "World\n"
     ]
    }
   ],
   "source": [
    "coroutines = [\n",
    "    print_hello_async(),\n",
    "    print_world_async(),\n",
    "]\n",
    "\n",
    "# Registering tasks in the Event Loop:\n",
    "futures = [\n",
    "    asyncio.ensure_future(coroutine)\n",
    "    for coroutine in coroutines\n",
    "]"
   ]
  },
  {
   "cell_type": "code",
   "execution_count": 85,
   "metadata": {},
   "outputs": [],
   "source": [
    "del coroutines\n",
    "del futures"
   ]
  },
  {
   "cell_type": "markdown",
   "metadata": {},
   "source": [
    "**Tasks**\n",
    "\n",
    "Some task-related methods are available only starting from Python 3.7"
   ]
  },
  {
   "cell_type": "code",
   "execution_count": 86,
   "metadata": {},
   "outputs": [
    {
     "name": "stdout",
     "output_type": "stream",
     "text": [
      "Sorry, your Python is probably too old :(\n"
     ]
    }
   ],
   "source": [
    "loop = asyncio.get_event_loop()\n",
    "\n",
    "try:\n",
    "    _ = asyncio.create_task(print_hello_async())\n",
    "    _ = asyncio.create_task(print_world_async())\n",
    "except AttributeError:\n",
    "    print(\"Sorry, your Python is probably too old :(\")"
   ]
  },
  {
   "cell_type": "markdown",
   "metadata": {},
   "source": [
    "Ладно, это было совсем по-игрушечному.\n",
    "Пора посмотреть что-то поинтереснее..."
   ]
  },
  {
   "cell_type": "markdown",
   "metadata": {},
   "source": [
    "## \"Real-World\" Example \\#1: Books<a id=\"books\"></a>\n",
    "<div style=\"text-align: right;\"><a href=#contents>Back to Contents</a></div>\n",
    "\n",
    "Чтение из файла — пример I/O операции.\n",
    "Значит, можно пытаться ускорить с помощью `asyncio`.\n",
    "\n",
    "Использующиеся далее книги:\n",
    "* [Толстой Лев - Война и мир. Книга 1 (том 1 и том 2)](https://royallib.com/book/tolstoy_lev/voyna_i_mir_kniga_1.html)\n",
    "* [Толстой Лев - Война и мир. Книга 1 (том 3 и том 4)](https://royallib.com/book/tolstoy_lev/voyna_i_mir_kniga_2.html)"
   ]
  },
  {
   "cell_type": "code",
   "execution_count": 92,
   "metadata": {},
   "outputs": [],
   "source": [
    "NUM_TIMES = 100\n",
    "\n",
    "BOOK1 = 'War and Peace. Book 1.txt'\n",
    "BOOK2 = 'War and Peace. Book 2.txt'"
   ]
  },
  {
   "cell_type": "code",
   "execution_count": 93,
   "metadata": {},
   "outputs": [],
   "source": [
    "def _main():\n",
    "    for _ in range(NUM_TIMES):\n",
    "        with open(BOOK1, 'r', encoding='utf8') as file:\n",
    "            file.read()\n",
    "\n",
    "        with open(BOOK2, 'r', encoding='utf8') as file:\n",
    "            file.read()"
   ]
  },
  {
   "cell_type": "code",
   "execution_count": 94,
   "metadata": {},
   "outputs": [
    {
     "name": "stdout",
     "output_type": "stream",
     "text": [
      "Elapsed time: 3.0557446479797363.\n"
     ]
    }
   ],
   "source": [
    "start = time.time()\n",
    "\n",
    "_main()\n",
    "\n",
    "finish = time.time()\n",
    "    \n",
    "print(f'Elapsed time: {finish - start}.')"
   ]
  },
  {
   "cell_type": "code",
   "execution_count": 95,
   "metadata": {},
   "outputs": [],
   "source": [
    "async def _main_async():\n",
    "    for _ in range(NUM_TIMES):\n",
    "        async with async_open(BOOK1, 'r', encoding='utf8') as file:\n",
    "            await file.read()\n",
    "\n",
    "        async with async_open(BOOK2, 'r', encoding='utf8') as file:\n",
    "            await file.read()"
   ]
  },
  {
   "cell_type": "code",
   "execution_count": 96,
   "metadata": {},
   "outputs": [
    {
     "name": "stdout",
     "output_type": "stream",
     "text": [
      "Elapsed time: 2.6573545932769775.\n"
     ]
    }
   ],
   "source": [
    "start = time.time()\n",
    "\n",
    "asyncio.run(_main_async())\n",
    "\n",
    "finish = time.time()\n",
    "    \n",
    "print(f'Elapsed time: {finish - start}.')"
   ]
  },
  {
   "cell_type": "markdown",
   "metadata": {},
   "source": [
    "Но не стоит \"увлекаться\". Создание задач — дополнительная нагрузка. Надо понимать, в какой момент связанные с `asyncio` методы создают задачи. И если этих задач создаётся очень много, а действие в каждой задаче небольшое, то, скорее всего, с `asyncio` станет только хуже."
   ]
  },
  {
   "cell_type": "code",
   "execution_count": 97,
   "metadata": {},
   "outputs": [],
   "source": [
    "async def _not_so_good_main_async():\n",
    "    for _ in range(NUM_TIMES):\n",
    "        async with async_open(BOOK1, 'r', encoding='utf8') as file:\n",
    "            async for line in file:\n",
    "                pass\n",
    "\n",
    "        async with async_open(BOOK2, 'r', encoding='utf8') as file:\n",
    "            async for line in file:\n",
    "                pass"
   ]
  },
  {
   "cell_type": "code",
   "execution_count": 98,
   "metadata": {},
   "outputs": [
    {
     "name": "stdout",
     "output_type": "stream",
     "text": [
      "Elapsed time: infty.\n"
     ]
    }
   ],
   "source": [
    "timeout = 10\n",
    "start = time.time()\n",
    "\n",
    "try:\n",
    "    asyncio.run(\n",
    "        asyncio.wait_for(_not_so_good_main_async(), timeout=timeout)\n",
    "    )\n",
    "except:  # TODO: kostyl' to pass TimeoutError\n",
    "    pass\n",
    "\n",
    "finish = time.time()\n",
    "elapsed_time = finish - start\n",
    "\n",
    "print(f\"Elapsed time: {elapsed_time if elapsed_time < 0.9 * timeout else 'infty'}.\")"
   ]
  },
  {
   "cell_type": "markdown",
   "metadata": {},
   "source": [
    "## \"Real-World\" Example \\#2: Butterbrot<a id=\"butterbrot\"></a>\n",
    "<div style=\"text-align: right;\"><a href=#contents>Back to Contents</a></div>\n",
    "\n",
    "<br>\n",
    "\n",
    "<figure>\n",
    "    <img src=\"./images/poirot3_v3-2.jpg\" width=\"80%\">\n",
    "    <figcaption style=\"text-align: center\">\n",
    "        <a href=\"https://dzen.ru/media/art_deco/kino-i-ar-deko-angliiskii-zavtrak-s-erkiulem-puaro-5f2ef64d3eeb070272878f38\">\n",
    "            <em>dzen.ru/media/art_deco/kino-i-ar-deko-angliiskii-zavtrak-s-erkiulem-puaro</em>.\n",
    "        </a>\n",
    "    </figcaption>\n",
    "</figure>\n",
    "\n",
    "Далее идёт переведённый с C# пример синхронного и асинхронного приготовления бутерброда.\n",
    "Оригинал доступен по ссылке: https://docs.microsoft.com/en-us/dotnet/csharp/programming-guide/concepts/async."
   ]
  },
  {
   "cell_type": "markdown",
   "metadata": {},
   "source": [
    "Ниже определяется пайплайн приготовления завтрака `create_breakfast`.\n",
    "Классы для составляющих завтрак пустые, так как они важны только в плане идеи.\n",
    "Функция `sleep` представляет собой симуляцию затрат времени на приготовление.\n",
    "\n",
    "Сначала рассмотрим последовательное приготовление (\"засунули хлеб в тостер, стоим и ждём\")."
   ]
  },
  {
   "cell_type": "code",
   "execution_count": 99,
   "metadata": {},
   "outputs": [],
   "source": [
    "def create_breakfast():\n",
    "    cup = pour_coffee()\n",
    "    print(\"Coffee is ready\")\n",
    "\n",
    "    eggs = fry_eggs(2)\n",
    "    print(\"Eggs are ready\")\n",
    "\n",
    "    bacon = fry_bacon(3)\n",
    "    print(\"Bacon is ready\")\n",
    "\n",
    "    toast = toast_bread(2)\n",
    "    apply_butter(toast)\n",
    "    apply_jam(toast)\n",
    "    print(\"Toast is ready\")\n",
    "\n",
    "    orange_juice = pour_orange_juice()\n",
    "    print(\"Orange juice is ready\")\n",
    "    \n",
    "    print(\"Breakfast is ready!\")\n",
    "\n",
    "\n",
    "class Coffee:\n",
    "    pass\n",
    "\n",
    "class Egg:\n",
    "    pass\n",
    "\n",
    "class Bacon:\n",
    "    pass\n",
    "\n",
    "class Toast:\n",
    "    pass\n",
    "\n",
    "class Juice:\n",
    "    pass\n",
    "\n",
    "class OrangeJuice(Juice):\n",
    "    pass\n",
    "\n",
    "\n",
    "def sleep():\n",
    "    num_seconds = 3\n",
    "\n",
    "    time.sleep(num_seconds)\n",
    "\n",
    "\n",
    "def pour_coffee() -> Coffee:\n",
    "    print(\"Pouring coffee\")\n",
    "\n",
    "    return Coffee()\n",
    "\n",
    "\n",
    "def fry_eggs(num_eggs: int) -> Egg:\n",
    "    print(\"Warming the egg pan...\")\n",
    "    sleep()\n",
    "    sleep()\n",
    "    \n",
    "    print(f\"Cracking {num_eggs} eggs\")\n",
    "    \n",
    "    print(\"Cooking the eggs ...\")\n",
    "    sleep()\n",
    "    \n",
    "    print(\"Putting eggs on plate\")\n",
    "\n",
    "    return Egg()\n",
    "\n",
    "\n",
    "def fry_bacon(num_slices: int) -> Bacon:\n",
    "    print(f\"Putting {num_slices} slices of bacon in the pan\")\n",
    "    \n",
    "    print(\"Cooking first side of bacon...\")\n",
    "    sleep()\n",
    "    \n",
    "    for _ in range(num_slices):\n",
    "        print(\"Flipping a slice of bacon\")\n",
    "\n",
    "    print(\"Cooking the second side of bacon...\")\n",
    "    sleep()\n",
    "    \n",
    "    print(\"Putting bacon on plate\")\n",
    "\n",
    "    return Bacon()\n",
    "\n",
    "\n",
    "def toast_bread(num_slices: int) -> Toast:\n",
    "    for _ in range(num_slices):\n",
    "        print(\"Putting a slice of bread in the toaster\")\n",
    "\n",
    "    print(\"Start toasting...\")\n",
    "    sleep()\n",
    "\n",
    "    print(\"Remove toast from toaster\")\n",
    "\n",
    "    return Toast()\n",
    "\n",
    "\n",
    "def apply_butter(toast: Toast) -> None:\n",
    "    print(\"Putting butter on the toast\")\n",
    "\n",
    "\n",
    "def apply_jam(toast: Toast) -> None:\n",
    "    print(\"Putting jam on the toast\")\n",
    "\n",
    "    \n",
    "def pour_orange_juice() -> OrangeJuice:\n",
    "    print(\"Pouring orange juice\")\n",
    "\n",
    "    return OrangeJuice()"
   ]
  },
  {
   "cell_type": "markdown",
   "metadata": {},
   "source": [
    "Функция-измеритель времени, затрачиваемого на приготовление завтрака (время считается по результатам одного запуска)."
   ]
  },
  {
   "cell_type": "code",
   "execution_count": 100,
   "metadata": {},
   "outputs": [],
   "source": [
    "def measure_time(func):\n",
    "    start_time = datetime.datetime.now()\n",
    "    \n",
    "    func()\n",
    "    \n",
    "    finish_time = datetime.datetime.now()\n",
    "    elapsed_time = finish_time - start_time\n",
    "    \n",
    "    print(f'\\nElapsed time: {elapsed_time}')"
   ]
  },
  {
   "cell_type": "markdown",
   "metadata": {},
   "source": [
    "Сколько времени занимает приготовление завтрака:"
   ]
  },
  {
   "cell_type": "code",
   "execution_count": 101,
   "metadata": {},
   "outputs": [
    {
     "name": "stdout",
     "output_type": "stream",
     "text": [
      "Pouring coffee\n",
      "Coffee is ready\n",
      "Warming the egg pan...\n",
      "Cracking 2 eggs\n",
      "Cooking the eggs ...\n",
      "Putting eggs on plate\n",
      "Eggs are ready\n",
      "Putting 3 slices of bacon in the pan\n",
      "Cooking first side of bacon...\n",
      "Flipping a slice of bacon\n",
      "Flipping a slice of bacon\n",
      "Flipping a slice of bacon\n",
      "Cooking the second side of bacon...\n",
      "Putting bacon on plate\n",
      "Bacon is ready\n",
      "Putting a slice of bread in the toaster\n",
      "Putting a slice of bread in the toaster\n",
      "Start toasting...\n",
      "Remove toast from toaster\n",
      "Putting butter on the toast\n",
      "Putting jam on the toast\n",
      "Toast is ready\n",
      "Pouring orange juice\n",
      "Orange juice is ready\n",
      "Breakfast is ready!\n",
      "\n",
      "Elapsed time: 0:00:18.050627\n"
     ]
    }
   ],
   "source": [
    "measure_time(\n",
    "    create_breakfast\n",
    ")"
   ]
  },
  {
   "cell_type": "markdown",
   "metadata": {},
   "source": [
    "Теперь — асинхронное (типа) приготовление:"
   ]
  },
  {
   "cell_type": "code",
   "execution_count": 102,
   "metadata": {},
   "outputs": [],
   "source": [
    "async def create_breakfast_async():\n",
    "    cup = pour_coffee()\n",
    "    print(\"Coffee is ready\")\n",
    "\n",
    "    eggs = await fry_eggs_async(2)\n",
    "    print(\"Eggs are ready\")\n",
    "\n",
    "    bacon = await fry_bacon_async(3)\n",
    "    print(\"Bacon is ready\")\n",
    "\n",
    "    toast = await toast_bread_async(2)\n",
    "    apply_butter(toast)\n",
    "    apply_jam(toast)\n",
    "    print(\"Toast is ready\")\n",
    "\n",
    "    orange_juice = pour_orange_juice()\n",
    "    print(\"Orange juice is ready\")\n",
    "    \n",
    "    print(\"Breakfast is ready!\")\n",
    "\n",
    "\n",
    "async def sleep_async():\n",
    "    num_seconds = 3\n",
    "\n",
    "    await asyncio.sleep(num_seconds)\n",
    "\n",
    "\n",
    "async def fry_eggs_async(num_eggs: int) -> Awaitable[Egg]:\n",
    "    print(\"Warming the egg pan...\")\n",
    "    await sleep_async()\n",
    "    await sleep_async()\n",
    "    \n",
    "    print(f\"Cracking {num_eggs} eggs\")\n",
    "    \n",
    "    print(\"Cooking the eggs ...\")\n",
    "    await sleep_async()\n",
    "    \n",
    "    print(\"Putting eggs on plate\")\n",
    "\n",
    "    return Egg()\n",
    "\n",
    "\n",
    "async def fry_bacon_async(num_slices: int) -> Awaitable[Bacon]:\n",
    "    print(f\"Putting {num_slices} slices of bacon in the pan\")\n",
    "    \n",
    "    print(\"Cooking first side of bacon...\")\n",
    "    await sleep_async()\n",
    "    \n",
    "    for _ in range(num_slices):\n",
    "        print(\"Flipping a slice of bacon\")\n",
    "\n",
    "    print(\"Cooking the second side of bacon...\")\n",
    "    await sleep_async()\n",
    "    \n",
    "    print(\"Putting bacon on plate\")\n",
    "\n",
    "    return Bacon()\n",
    "\n",
    "\n",
    "async def toast_bread_async(num_slices: int) -> Awaitable[Toast]:\n",
    "    for _ in range(num_slices):\n",
    "        print(\"Putting a slice of bread in the toaster\")\n",
    "\n",
    "    print(\"Start toasting...\")\n",
    "    await sleep_async()\n",
    "\n",
    "    print(\"Remove toast from toaster\")\n",
    "\n",
    "    return Toast()"
   ]
  },
  {
   "cell_type": "markdown",
   "metadata": {},
   "source": [
    "Смотрим время..."
   ]
  },
  {
   "cell_type": "code",
   "execution_count": 103,
   "metadata": {},
   "outputs": [
    {
     "name": "stdout",
     "output_type": "stream",
     "text": [
      "Pouring coffee\n",
      "Coffee is ready\n",
      "Warming the egg pan...\n",
      "Cracking 2 eggs\n",
      "Cooking the eggs ...\n",
      "Putting eggs on plate\n",
      "Eggs are ready\n",
      "Putting 3 slices of bacon in the pan\n",
      "Cooking first side of bacon...\n",
      "Flipping a slice of bacon\n",
      "Flipping a slice of bacon\n",
      "Flipping a slice of bacon\n",
      "Cooking the second side of bacon...\n",
      "Putting bacon on plate\n",
      "Bacon is ready\n",
      "Putting a slice of bread in the toaster\n",
      "Putting a slice of bread in the toaster\n",
      "Start toasting...\n",
      "Remove toast from toaster\n",
      "Putting butter on the toast\n",
      "Putting jam on the toast\n",
      "Toast is ready\n",
      "Pouring orange juice\n",
      "Orange juice is ready\n",
      "Breakfast is ready!\n",
      "\n",
      "Elapsed time: 0:00:18.057758\n"
     ]
    }
   ],
   "source": [
    "def main():\n",
    "    loop = asyncio.get_event_loop()\n",
    "    loop.run_until_complete(\n",
    "        create_breakfast_async()\n",
    "    )\n",
    "\n",
    "measure_time(main)\n",
    "\n",
    "del main"
   ]
  },
  {
   "cell_type": "markdown",
   "metadata": {},
   "source": [
    "Время не изменилось!\n",
    "Дело в том, что просто вставки `async` и `await` в исходный код ничего фактически не меняют.\n",
    "Надо \"включить асинхронную логику\".\n",
    "Ниже мы это и сделаем!\n",
    "Надо создать задачи, но ждать их завершения сразу не надо: пусть играют на фоне, а дождаться их мы должны только тогда, когда нам нужен \"осязаемый\" результат."
   ]
  },
  {
   "cell_type": "code",
   "execution_count": 104,
   "metadata": {},
   "outputs": [],
   "source": [
    "async def create_breakfast_v2_async():\n",
    "    \"\"\"Concurrent breakfast\n",
    "    \"\"\"\n",
    "    cup = pour_coffee()\n",
    "    print(\"Coffee is ready\")\n",
    "\n",
    "    eggs_task = asyncio.ensure_future(\n",
    "        fry_eggs_async(2)\n",
    "    )\n",
    "    bacon_task = asyncio.ensure_future(\n",
    "        fry_bacon_async(3)\n",
    "    )\n",
    "    toast_task = asyncio.ensure_future(\n",
    "        toast_bread_async(2)\n",
    "    )\n",
    "    \n",
    "    toast = await toast_task\n",
    "    apply_butter(toast)\n",
    "    apply_jam(toast)\n",
    "    print(\"Toast is ready\")\n",
    "    \n",
    "    eggs = await eggs_task\n",
    "    print(\"Eggs are ready\")\n",
    "    \n",
    "    bacon = await bacon_task\n",
    "    print(\"Bacon is ready\")\n",
    "\n",
    "    orange_juice = pour_orange_juice()\n",
    "    print(\"Orange juice is ready\")\n",
    "    \n",
    "    print(\"Breakfast is ready!\")"
   ]
  },
  {
   "cell_type": "markdown",
   "metadata": {},
   "source": [
    "И время..."
   ]
  },
  {
   "cell_type": "code",
   "execution_count": 105,
   "metadata": {},
   "outputs": [
    {
     "name": "stdout",
     "output_type": "stream",
     "text": [
      "Pouring coffee\n",
      "Coffee is ready\n",
      "Warming the egg pan...\n",
      "Putting 3 slices of bacon in the pan\n",
      "Cooking first side of bacon...\n",
      "Putting a slice of bread in the toaster\n",
      "Putting a slice of bread in the toaster\n",
      "Start toasting...\n",
      "Flipping a slice of bacon\n",
      "Flipping a slice of bacon\n",
      "Flipping a slice of bacon\n",
      "Cooking the second side of bacon...\n",
      "Remove toast from toaster\n",
      "Putting butter on the toast\n",
      "Putting jam on the toast\n",
      "Toast is ready\n",
      "Cracking 2 eggs\n",
      "Cooking the eggs ...\n",
      "Putting bacon on plate\n",
      "Putting eggs on plate\n",
      "Eggs are ready\n",
      "Bacon is ready\n",
      "Pouring orange juice\n",
      "Orange juice is ready\n",
      "Breakfast is ready!\n",
      "\n",
      "Elapsed time: 0:00:09.021512\n"
     ]
    }
   ],
   "source": [
    "def main():\n",
    "    loop = asyncio.get_event_loop()\n",
    "    loop.run_until_complete(\n",
    "        create_breakfast_v2_async()\n",
    "    )\n",
    "\n",
    "measure_time(main)\n",
    "\n",
    "del main"
   ]
  },
  {
   "cell_type": "markdown",
   "metadata": {},
   "source": [
    "...уменьшилось! Ура!\n",
    "\n",
    "Но это не предел улучшениям: пара синхронных одномоментных действий (намазывание масла и джема на хлеб) завязаны на одно асинхронное (приготовление хлеба в тостере).\n",
    "Итого все эти действия вместе представляют собой асинхронный блок.\n",
    "Давайте объединим всё, связанное с хлебом, в один асинхронный блок!"
   ]
  },
  {
   "cell_type": "code",
   "execution_count": 106,
   "metadata": {},
   "outputs": [],
   "source": [
    "async def create_breakfast_v3_async():\n",
    "    \"\"\"Concurrent and recomposed breakfast\n",
    "    \"\"\"\n",
    "    cup = pour_coffee()\n",
    "    print(\"Coffee is ready\")\n",
    "\n",
    "    eggs_task = asyncio.ensure_future(\n",
    "        fry_eggs_async(2)\n",
    "    )\n",
    "    bacon_task = asyncio.ensure_future(\n",
    "        fry_bacon_async(3)\n",
    "    )\n",
    "    toast_task = asyncio.ensure_future(\n",
    "        toast_bread_with_butter_and_jam_async(2)\n",
    "    )\n",
    "    \n",
    "    eggs = await eggs_task\n",
    "    print(\"Eggs are ready\")\n",
    "    \n",
    "    bacon = await bacon_task\n",
    "    print(\"Bacon is ready\")\n",
    "\n",
    "    toast = await toast_task\n",
    "    print(\"Toast is ready\")\n",
    "    \n",
    "    orange_juice = pour_orange_juice()\n",
    "    print(\"Orange juice is ready\")\n",
    "    \n",
    "    print(\"Breakfast is ready!\")\n",
    "\n",
    "\n",
    "async def toast_bread_with_butter_and_jam_async(num_slices: int) -> Toast:\n",
    "    toast = await toast_bread_async(num_slices)\n",
    "    \n",
    "    apply_butter(toast)\n",
    "    apply_jam(toast)\n",
    "\n",
    "    return toast"
   ]
  },
  {
   "cell_type": "markdown",
   "metadata": {},
   "source": [
    "Есть ли улучшения?.."
   ]
  },
  {
   "cell_type": "code",
   "execution_count": 107,
   "metadata": {},
   "outputs": [
    {
     "name": "stdout",
     "output_type": "stream",
     "text": [
      "Pouring coffee\n",
      "Coffee is ready\n",
      "Warming the egg pan...\n",
      "Putting 3 slices of bacon in the pan\n",
      "Cooking first side of bacon...\n",
      "Putting a slice of bread in the toaster\n",
      "Putting a slice of bread in the toaster\n",
      "Start toasting...\n",
      "Flipping a slice of bacon\n",
      "Flipping a slice of bacon\n",
      "Flipping a slice of bacon\n",
      "Cooking the second side of bacon...\n",
      "Remove toast from toaster\n",
      "Putting butter on the toast\n",
      "Putting jam on the toast\n",
      "Cracking 2 eggs\n",
      "Cooking the eggs ...\n",
      "Putting bacon on plate\n",
      "Putting eggs on plate\n",
      "Eggs are ready\n",
      "Bacon is ready\n",
      "Toast is ready\n",
      "Pouring orange juice\n",
      "Orange juice is ready\n",
      "Breakfast is ready!\n",
      "\n",
      "Elapsed time: 0:00:09.025049\n"
     ]
    }
   ],
   "source": [
    "def main():\n",
    "    loop = asyncio.get_event_loop()\n",
    "    loop.run_until_complete(\n",
    "        create_breakfast_v3_async()\n",
    "    )\n",
    "\n",
    "measure_time(main)\n",
    "\n",
    "del main"
   ]
  },
  {
   "cell_type": "markdown",
   "metadata": {},
   "source": [
    "Увы, в данном случае они слишком малы, чтобы мы могли увидеть разницу.\n",
    "Но это не значит, что программу не стоит продолжать улучшать :)\n",
    "Ещё один важный пункт, достойный улучшения — ожидание выполнения задач.\n",
    "Раньше мы ждали их в произвольном порядке (просто, как вздумалось).\n",
    "Есть лучший способ — использовать функционал `asyncio` для получения задач просто по мере готовности (то есть порядок выполнения задач определяется просто с помощью Event Loop-а).\n",
    "Ниже — финальный вариант приготовления завтрака:"
   ]
  },
  {
   "cell_type": "code",
   "execution_count": 108,
   "metadata": {},
   "outputs": [],
   "source": [
    "async def create_breakfast_v5_async():\n",
    "    \"\"\"Concurrent and recomposed breakfast, with improved await\n",
    "    \"\"\"\n",
    "    cup = pour_coffee()\n",
    "    print(\"Coffee is ready\")\n",
    "\n",
    "    loop = asyncio.get_event_loop()\n",
    "\n",
    "    eggs_task = asyncio.ensure_future(\n",
    "        fry_eggs_async(2)\n",
    "    )\n",
    "    bacon_task = asyncio.ensure_future(\n",
    "        fry_bacon_async(3)\n",
    "    )\n",
    "    toast_task = asyncio.ensure_future(\n",
    "        toast_bread_with_butter_and_jam_async(2)\n",
    "    )\n",
    "    \n",
    "    tasks = [eggs_task, bacon_task, toast_task]\n",
    "    tiny_timeout = 0.01\n",
    "        \n",
    "    while len(tasks) > 0:\n",
    "        finished_tasks, unfinished_tasks = loop.run_until_complete(\n",
    "            asyncio.wait(tasks, return_when=asyncio.FIRST_COMPLETED)\n",
    "        )\n",
    "\n",
    "        for task in finished_tasks:\n",
    "            assert task.done()\n",
    "\n",
    "            if task is eggs_task:\n",
    "                print(\"Eggs are ready\")\n",
    "            elif task is bacon_task:\n",
    "                print(\"Bacon is ready\")\n",
    "            elif task is toast_task:\n",
    "                print(\"Toast is ready\")\n",
    "\n",
    "            tasks.remove(task)\n",
    "    \n",
    "    eggs = eggs_task.result()\n",
    "    bacon = bacon_task.result()\n",
    "    toast = toast_task.result()\n",
    "\n",
    "    orange_juice = pour_orange_juice()\n",
    "    print(\"Orange juice is ready\")\n",
    "    \n",
    "    print(\"Breakfast is ready!\")\n",
    "\n",
    "\n",
    "async def toast_bread_with_butter_and_jam_async(num_slices: int) -> Toast:\n",
    "    toast = await toast_bread_async(num_slices)\n",
    "    \n",
    "    apply_butter(toast)\n",
    "    apply_jam(toast)\n",
    "\n",
    "    return toast"
   ]
  },
  {
   "cell_type": "markdown",
   "metadata": {},
   "source": [
    "И время в лучшем случае..."
   ]
  },
  {
   "cell_type": "code",
   "execution_count": 109,
   "metadata": {},
   "outputs": [
    {
     "name": "stdout",
     "output_type": "stream",
     "text": [
      "Pouring coffee\n",
      "Coffee is ready\n",
      "Warming the egg pan...\n",
      "Putting 3 slices of bacon in the pan\n",
      "Cooking first side of bacon...\n",
      "Putting a slice of bread in the toaster\n",
      "Putting a slice of bread in the toaster\n",
      "Start toasting...\n",
      "Flipping a slice of bacon\n",
      "Flipping a slice of bacon\n",
      "Flipping a slice of bacon\n",
      "Cooking the second side of bacon...\n",
      "Remove toast from toaster\n",
      "Putting butter on the toast\n",
      "Putting jam on the toast\n",
      "Toast is ready\n",
      "Cracking 2 eggs\n",
      "Cooking the eggs ...\n",
      "Putting bacon on plate\n",
      "Bacon is ready\n",
      "Putting eggs on plate\n",
      "Eggs are ready\n",
      "Pouring orange juice\n",
      "Orange juice is ready\n",
      "Breakfast is ready!\n",
      "\n",
      "Elapsed time: 0:00:09.033717\n"
     ]
    }
   ],
   "source": [
    "def main():\n",
    "    loop = asyncio.get_event_loop()\n",
    "    loop.run_until_complete(\n",
    "        create_breakfast_v5_async()\n",
    "    )\n",
    "\n",
    "measure_time(main)\n",
    "\n",
    "del main"
   ]
  },
  {
   "cell_type": "markdown",
   "metadata": {},
   "source": [
    "...изменилось не сильно, по сравнению с предыдущими асинхронными выполнениями.\n",
    "Увы, улучшения — а они должны быть :) — слишком малы, чтобы их можно было увидеть за один прогон программы.\n",
    "В оригинальном примере время ожидания измерялось десятками минут (хотя в примерах кода стоят ожидания в $3$ секунды, как в ноутбуке).\n",
    "Столько ждать не хочется) хотя интересно бы было проверить... но, кажется, разница между async реализациями не должна зависеть от времени одного `sleep`?.. 🤔"
   ]
  },
  {
   "cell_type": "markdown",
   "metadata": {},
   "source": [
    "## References<a id=\"references\"></a>\n",
    "<div style=\"text-align: right;\"><a href=#contents>Back to Contents</a></div>\n",
    "\n",
    "### \"Main\"\n",
    "\n",
    "* https://youtu.be/kdzL3r-yJZY\n",
    "\n",
    "Получасовая видеолекция про асинхронность в целом.\n",
    "И там тоже есть пример с приготовлением еды :)\n",
    "\n",
    "* https://realpython.com/python-concurrency/\n",
    "\n",
    "Про корутины + нити + параллельность, с примерами.\n",
    "\n",
    "* https://ru.stackoverflow.com/a/902762/252621\n",
    "\n",
    "В двух словах (на русском) про то, что такое `Future` и `Task`.\n",
    "\n",
    "* https://channel9.msdn.com/Series/Three-Essential-Tips-for-Async/Three-Essential-Tips-For-Async-Introduction\n",
    "\n",
    "Несколько видео про C#, но в самом первом видео понятно и общо рассказывают про суть Async (видео на пять минут).\n",
    "\n",
    "* https://tech.chefclub.tv/an-asyncio-io-bound-producer-playing-with-a-cpu-bound-consumer\n",
    "\n",
    "Пример по `asyncio` про consumer + producer (скачивание видео файлов и их обработка).\n",
    "\n",
    "* http://www.blog.pythonlibrary.org/2016/07/26/python-3-an-intro-to-asyncio/\n",
    "\n",
    "Тоже в целом про `asyncio`, тоже с примером (только скачивание файлов).\n",
    "\n",
    "\n",
    "### Also Noteworthy\n",
    "\n",
    "* https://stackoverflow.com/a/34101652/8094251\n",
    "\n",
    "Объясняют разницу между `yield` из генератора и `send` в корутину (что в каком порядке там происходит).\n",
    "\n",
    "* https://stackoverflow.com/a/39792393/8094251\n",
    "\n",
    "Общий комментарий про то, что такое корутины.\n",
    "\n",
    "* https://stackoverflow.com/questions/59260268/is-there-ever-a-reason-to-return-await-in-python-asyncio\n",
    "\n",
    "Заметка про `return await`.\n",
    "\n",
    "* https://habr.com/ru/post/314606/\n",
    "\n",
    "Пара заметок про `asyncio` из опыта разработчика в продакшене.\n",
    "Есть слова о правильном закрытии Event Loop-а (о том, что его надо закрывать).\n",
    "\n",
    "\n",
    "### \"Advanced\"\n",
    "\n",
    "* https://stackoverflow.com/a/51177895/8094251\n",
    "\n",
    "\"Мозговыносящий\" комментарий-статья на StackOverflow.\n",
    "В первой части объясняются идейные отличия нитей, процессов и задач.\n",
    "Есть несложный пример кастомного Event Loop (!)\n",
    "\n",
    "* https://softwareengineering.stackexchange.com/a/352263/348557\n",
    "\n",
    "Небольшой экскурс в историю корутин (в разных языках программирования).\n",
    "\n",
    "* https://www.python.org/dev/peps/pep-0492/\n",
    "\n",
    "PEP 492 — Coroutines with async and await syntax.\n",
    "Про то, как это всё происходило в Питоне.\n",
    "\n",
    "\n",
    "### Probably Also Noteworthy\n",
    "\n",
    "* https://realpython.com/python-gil/\n",
    "\n",
    "Про [GIL](https://ru.wikipedia.org/wiki/Global_Interpreter_Lock).\n",
    "\n",
    "* [David M. Beazley 1](http://www.dabeaz.com/generators/)\n",
    "\n",
    "Generator Tricks for Systems Programmers, 2008.\n",
    "\n",
    "* [David M. Beazley 2](http://dabeaz.com/coroutines/)\n",
    "\n",
    "A Curious Course on Coroutines and Concurrency, 2009.\n",
    "\n",
    "Презентация.\n",
    "\"Живая\" (с юмором и т.д.).\n",
    "Есть пример про смешивание генерации и принятие значений в корутине.\n",
    "\n",
    "* [David M. Beazley 3](http://www.dabeaz.com/finalgenerator/)\n",
    "\n",
    "Generators: The Final Frontier, 2014.\n",
    "\n",
    "* https://realpython.com/async-io-python/\n",
    "\n",
    "Подробнее про `asyncio`, в начале тоже есть слова про отличия подходов к параллельности в Питоне."
   ]
  }
 ],
 "metadata": {
  "kernelspec": {
   "display_name": "Python 3",
   "language": "python",
   "name": "python3"
  },
  "language_info": {
   "codemirror_mode": {
    "name": "ipython",
    "version": 3
   },
   "file_extension": ".py",
   "mimetype": "text/x-python",
   "name": "python",
   "nbconvert_exporter": "python",
   "pygments_lexer": "ipython3",
   "version": "3.6.7"
  }
 },
 "nbformat": 4,
 "nbformat_minor": 2
}
