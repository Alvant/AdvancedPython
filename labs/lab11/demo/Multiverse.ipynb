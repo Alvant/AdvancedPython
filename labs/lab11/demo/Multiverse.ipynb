{
 "cells": [
  {
   "cell_type": "markdown",
   "metadata": {},
   "source": [
    "# Multiverse"
   ]
  },
  {
   "cell_type": "code",
   "execution_count": 2,
   "metadata": {},
   "outputs": [],
   "source": [
    "import os\n",
    "import requests\n",
    "import threading\n",
    "import time\n",
    "\n",
    "from concurrent.futures import ThreadPoolExecutor as ThreadPool\n",
    "from multiprocessing import (\n",
    "    Process,\n",
    "    Pool as ProcessPool,\n",
    "    Queue\n",
    ")\n",
    "from threading import Thread"
   ]
  },
  {
   "cell_type": "markdown",
   "metadata": {},
   "source": [
    "## Poke into Thread/Process"
   ]
  },
  {
   "cell_type": "code",
   "execution_count": 3,
   "metadata": {},
   "outputs": [],
   "source": [
    "def print_hello_world(name: str) -> None:\n",
    "    time.sleep(1)\n",
    "    \n",
    "    print(f'Hello {name}!')"
   ]
  },
  {
   "cell_type": "code",
   "execution_count": 4,
   "metadata": {},
   "outputs": [
    {
     "name": "stdout",
     "output_type": "stream",
     "text": [
      "Hello World!\n",
      "CPU times: user 0 ns, sys: 3.73 ms, total: 3.73 ms\n",
      "Wall time: 1 s\n"
     ]
    }
   ],
   "source": [
    "%%time\n",
    "\n",
    "t = Thread(target=print_hello_world, args=('World',))\n",
    "\n",
    "t.start()\n",
    "t.join()"
   ]
  },
  {
   "cell_type": "code",
   "execution_count": 5,
   "metadata": {},
   "outputs": [
    {
     "name": "stdout",
     "output_type": "stream",
     "text": [
      "Hello World!\n",
      "CPU times: user 2.26 ms, sys: 8 ms, total: 10.3 ms\n",
      "Wall time: 1.02 s\n"
     ]
    }
   ],
   "source": [
    "%%time\n",
    "\n",
    "t = Process(target=print_hello_world, args=('World',))\n",
    "\n",
    "t.start()\n",
    "t.join()"
   ]
  },
  {
   "cell_type": "markdown",
   "metadata": {},
   "source": [
    "## \"Stranger Memory Things\", or \"Gde Starushkiny Ochki?\""
   ]
  },
  {
   "cell_type": "markdown",
   "metadata": {},
   "source": [
    "### Threads Share Memory"
   ]
  },
  {
   "cell_type": "code",
   "execution_count": 6,
   "metadata": {},
   "outputs": [],
   "source": [
    "RESULTS = dict()\n",
    "\n",
    "def do_and_save(i: int) -> None:\n",
    "    RESULTS[i] = i"
   ]
  },
  {
   "cell_type": "code",
   "execution_count": 7,
   "metadata": {},
   "outputs": [],
   "source": [
    "t1 = Thread(target=do_and_save, args=(1,))\n",
    "t2 = Thread(target=do_and_save, args=(2,))\n",
    "\n",
    "for t in [t1, t2]:\n",
    "    t.start()\n",
    "\n",
    "for t in [t1, t2]:\n",
    "    t.join()"
   ]
  },
  {
   "cell_type": "code",
   "execution_count": 8,
   "metadata": {},
   "outputs": [
    {
     "data": {
      "text/plain": [
       "{1: 1, 2: 2}"
      ]
     },
     "execution_count": 8,
     "metadata": {},
     "output_type": "execute_result"
    }
   ],
   "source": [
    "RESULTS"
   ]
  },
  {
   "cell_type": "code",
   "execution_count": 9,
   "metadata": {},
   "outputs": [],
   "source": [
    "RESULTS = dict()\n",
    "\n",
    "p1 = Process(target=do_and_save, args=(1,))\n",
    "p2 = Process(target=do_and_save, args=(2,))\n",
    "\n",
    "for p in [p1, p2]:\n",
    "    p.start()\n",
    "\n",
    "for p in [p1, p2]:\n",
    "    p.join()"
   ]
  },
  {
   "cell_type": "code",
   "execution_count": 10,
   "metadata": {},
   "outputs": [
    {
     "data": {
      "text/plain": [
       "{}"
      ]
     },
     "execution_count": 10,
     "metadata": {},
     "output_type": "execute_result"
    }
   ],
   "source": [
    "RESULTS"
   ]
  },
  {
   "cell_type": "markdown",
   "metadata": {},
   "source": [
    "Где результаты?.."
   ]
  },
  {
   "cell_type": "markdown",
   "metadata": {},
   "source": [
    "### Processes Are Separated"
   ]
  },
  {
   "cell_type": "code",
   "execution_count": 11,
   "metadata": {},
   "outputs": [],
   "source": [
    "queue = Queue()\n",
    "\n",
    "def do_and_put(i: int, q: Queue) -> None:\n",
    "    q.put(i)"
   ]
  },
  {
   "cell_type": "code",
   "execution_count": 12,
   "metadata": {},
   "outputs": [],
   "source": [
    "p1 = Process(target=do_and_put, args=(1, queue))\n",
    "p2 = Process(target=do_and_put, args=(2, queue))\n",
    "\n",
    "for p in [p1, p2]:\n",
    "    p.start()\n",
    "\n",
    "for p in [p1, p2]:\n",
    "    p.join()"
   ]
  },
  {
   "cell_type": "code",
   "execution_count": 13,
   "metadata": {},
   "outputs": [
    {
     "name": "stdout",
     "output_type": "stream",
     "text": [
      "1\n",
      "2\n"
     ]
    }
   ],
   "source": [
    "while not queue.empty():\n",
    "    print(queue.get())"
   ]
  },
  {
   "cell_type": "markdown",
   "metadata": {},
   "source": [
    "### Sometimes Threads Also Need a Break from Each Other"
   ]
  },
  {
   "cell_type": "code",
   "execution_count": 14,
   "metadata": {},
   "outputs": [],
   "source": [
    "LOCAL_STUFF = threading.local()\n",
    "\n",
    "def do_and_save_locally(i):\n",
    "    LOCAL_STUFF.i = i\n",
    "    \n",
    "    print(f'Saved in thread: {LOCAL_STUFF.i}.')"
   ]
  },
  {
   "cell_type": "code",
   "execution_count": 15,
   "metadata": {},
   "outputs": [
    {
     "name": "stdout",
     "output_type": "stream",
     "text": [
      "Saved in thread: 1.\n",
      "Saved in thread: 2.\n"
     ]
    }
   ],
   "source": [
    "t1 = Thread(target=do_and_save_locally, args=(1,))\n",
    "t2 = Thread(target=do_and_save_locally, args=(2,))\n",
    "\n",
    "for t in [t1, t2]:\n",
    "    t.start()\n",
    "\n",
    "for t in [t1, t2]:\n",
    "    t.join()"
   ]
  },
  {
   "cell_type": "code",
   "execution_count": 16,
   "metadata": {},
   "outputs": [
    {
     "name": "stdout",
     "output_type": "stream",
     "text": [
      "Nothing saved in the main process.\n"
     ]
    }
   ],
   "source": [
    "try:\n",
    "    _ = LOCAL_STUFF.i\n",
    "except AttributeError:\n",
    "    print('Nothing saved in the main process.')"
   ]
  },
  {
   "cell_type": "markdown",
   "metadata": {},
   "source": [
    "## Pool: Lord of the Threads (or Processes)"
   ]
  },
  {
   "cell_type": "markdown",
   "metadata": {},
   "source": [
    "### IO Bound"
   ]
  },
  {
   "cell_type": "code",
   "execution_count": 17,
   "metadata": {},
   "outputs": [],
   "source": [
    "URLS = 80 * ['http://cs.mipt.ru/advanced_python']"
   ]
  },
  {
   "cell_type": "code",
   "execution_count": 23,
   "metadata": {},
   "outputs": [
    {
     "name": "stdout",
     "output_type": "stream",
     "text": [
      "CPU times: user 3.46 ms, sys: 440 µs, total: 3.9 ms\n",
      "Wall time: 71.2 ms\n"
     ]
    }
   ],
   "source": [
    "%%time\n",
    "\n",
    "with requests.get(URLS[0]) as response:\n",
    "    _ = response.text"
   ]
  },
  {
   "cell_type": "code",
   "execution_count": 24,
   "metadata": {},
   "outputs": [
    {
     "name": "stdout",
     "output_type": "stream",
     "text": [
      "CPU times: user 540 ms, sys: 23 ms, total: 563 ms\n",
      "Wall time: 7.88 s\n"
     ]
    }
   ],
   "source": [
    "%%time\n",
    "\n",
    "for url in URLS:\n",
    "    with requests.get(url) as response:\n",
    "        _ = response.text"
   ]
  },
  {
   "cell_type": "code",
   "execution_count": 25,
   "metadata": {},
   "outputs": [],
   "source": [
    "def download_info(site: str) -> None:\n",
    "    with requests.get(url) as response:\n",
    "        _ = response.text"
   ]
  },
  {
   "cell_type": "code",
   "execution_count": 26,
   "metadata": {},
   "outputs": [
    {
     "name": "stdout",
     "output_type": "stream",
     "text": [
      "CPU times: user 347 ms, sys: 75.4 ms, total: 422 ms\n",
      "Wall time: 5.34 s\n"
     ]
    }
   ],
   "source": [
    "%%time\n",
    "\n",
    "threads = list()\n",
    "\n",
    "for url in URLS:\n",
    "    t = Thread(target=download_info, args=(url,))\n",
    "    threads.append(t)\n",
    "\n",
    "for t in threads:\n",
    "    t.start()\n",
    "\n",
    "for t in threads:\n",
    "    t.join()"
   ]
  },
  {
   "cell_type": "code",
   "execution_count": 40,
   "metadata": {},
   "outputs": [
    {
     "name": "stdout",
     "output_type": "stream",
     "text": [
      "CPU times: user 538 ms, sys: 16.9 ms, total: 554 ms\n",
      "Wall time: 12.3 s\n"
     ]
    }
   ],
   "source": [
    "%%time\n",
    "\n",
    "with ThreadPool(max_workers=2) as pool:\n",
    "    pool.map(download_info, URLS)"
   ]
  },
  {
   "cell_type": "code",
   "execution_count": 41,
   "metadata": {},
   "outputs": [
    {
     "name": "stdout",
     "output_type": "stream",
     "text": [
      "CPU times: user 536 ms, sys: 33.5 ms, total: 570 ms\n",
      "Wall time: 8.41 s\n"
     ]
    }
   ],
   "source": [
    "%%time\n",
    "\n",
    "with ThreadPool(max_workers=5) as pool:\n",
    "    pool.map(download_info, URLS)"
   ]
  },
  {
   "cell_type": "code",
   "execution_count": 42,
   "metadata": {},
   "outputs": [
    {
     "name": "stdout",
     "output_type": "stream",
     "text": [
      "CPU times: user 8.74 ms, sys: 5.1 ms, total: 13.8 ms\n",
      "Wall time: 14.9 s\n"
     ]
    }
   ],
   "source": [
    "%%time\n",
    "\n",
    "if os.cpu_count() == 1:\n",
    "    print('One CPU?.. Come back with a better computer.')\n",
    "else:\n",
    "    with ProcessPool(processes=2) as pool:\n",
    "        pool.map(download_info, URLS)"
   ]
  },
  {
   "cell_type": "markdown",
   "metadata": {},
   "source": [
    "### CPU Bound"
   ]
  },
  {
   "cell_type": "code",
   "execution_count": 44,
   "metadata": {},
   "outputs": [],
   "source": [
    "def count(number: int) -> int:\n",
    "    return sum(i * i for i in range(1, number))"
   ]
  },
  {
   "cell_type": "code",
   "execution_count": 45,
   "metadata": {},
   "outputs": [
    {
     "name": "stdout",
     "output_type": "stream",
     "text": [
      "CPU times: user 1.16 ms, sys: 8.28 ms, total: 9.44 ms\n",
      "Wall time: 346 ms\n"
     ]
    }
   ],
   "source": [
    "%%time\n",
    "\n",
    "p = Process(target=count, args=(5_000_000,))\n",
    "\n",
    "p.start()\n",
    "p.join()"
   ]
  },
  {
   "cell_type": "code",
   "execution_count": 46,
   "metadata": {},
   "outputs": [],
   "source": [
    "NUMBERS = 20 * [5_000_000]"
   ]
  },
  {
   "cell_type": "code",
   "execution_count": 52,
   "metadata": {},
   "outputs": [
    {
     "name": "stdout",
     "output_type": "stream",
     "text": [
      "CPU times: user 7.76 s, sys: 0 ns, total: 7.76 s\n",
      "Wall time: 7.76 s\n"
     ]
    }
   ],
   "source": [
    "%%time\n",
    "\n",
    "for number in NUMBERS:\n",
    "    count(number)"
   ]
  },
  {
   "cell_type": "code",
   "execution_count": 53,
   "metadata": {},
   "outputs": [
    {
     "name": "stdout",
     "output_type": "stream",
     "text": [
      "CPU times: user 6.83 s, sys: 22.1 ms, total: 6.85 s\n",
      "Wall time: 6.75 s\n"
     ]
    }
   ],
   "source": [
    "%%time\n",
    "\n",
    "with ThreadPool(5) as pool:\n",
    "    result = pool.map(count, NUMBERS)"
   ]
  },
  {
   "cell_type": "code",
   "execution_count": 54,
   "metadata": {},
   "outputs": [
    {
     "name": "stdout",
     "output_type": "stream",
     "text": [
      "CPU times: user 0 ns, sys: 15.7 ms, total: 15.7 ms\n",
      "Wall time: 5.46 s\n"
     ]
    }
   ],
   "source": [
    "%%time\n",
    "\n",
    "with ProcessPool(2) as pool:\n",
    "    result = pool.map(count, NUMBERS)"
   ]
  },
  {
   "cell_type": "code",
   "execution_count": 57,
   "metadata": {},
   "outputs": [],
   "source": [
    "with ProcessPool(2) as pool:\n",
    "    result = pool.map(count, [100, 1000, 10000])"
   ]
  },
  {
   "cell_type": "code",
   "execution_count": 58,
   "metadata": {},
   "outputs": [
    {
     "data": {
      "text/plain": [
       "[328350, 332833500, 333283335000]"
      ]
     },
     "execution_count": 58,
     "metadata": {},
     "output_type": "execute_result"
    }
   ],
   "source": [
    "result"
   ]
  }
 ],
 "metadata": {
  "kernelspec": {
   "display_name": "Python 3",
   "language": "python",
   "name": "python3"
  },
  "language_info": {
   "codemirror_mode": {
    "name": "ipython",
    "version": 3
   },
   "file_extension": ".py",
   "mimetype": "text/x-python",
   "name": "python",
   "nbconvert_exporter": "python",
   "pygments_lexer": "ipython3",
   "version": "3.8.11"
  }
 },
 "nbformat": 4,
 "nbformat_minor": 4
}
