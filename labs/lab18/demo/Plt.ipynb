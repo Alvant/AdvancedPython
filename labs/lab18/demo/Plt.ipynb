{
 "cells": [
  {
   "cell_type": "markdown",
   "metadata": {},
   "source": [
    "# Plt"
   ]
  },
  {
   "cell_type": "code",
   "execution_count": null,
   "metadata": {},
   "outputs": [],
   "source": [
    "import pandas as pd\n",
    "import numpy as np\n",
    "\n",
    "import matplotlib as mpl\n",
    "import matplotlib.pyplot as plt\n",
    "import seaborn as sns\n",
    "\n",
    "import warnings\n",
    "warnings.filterwarnings('ignore')\n",
    "\n",
    "# Graphics in retina format are more sharp and legible\n",
    "%config InlineBackend.figure_format = 'retina'"
   ]
  },
  {
   "cell_type": "markdown",
   "metadata": {},
   "source": [
    "## Введение в графики"
   ]
  },
  {
   "cell_type": "code",
   "execution_count": null,
   "metadata": {},
   "outputs": [],
   "source": [
    "x = [1, 2, 3, 4, 5, 6]\n",
    "y = [1, 2, 3, 1, 3, 2]\n",
    "\n",
    "plt.figure(figsize=(8, 4))\n",
    "\n",
    "plt.plot(x, y, linewidth=2, color='green', marker='*', linestyle='dashed', label='line_1')\n",
    "\n",
    "plt.grid(color='gray', linestyle='-', linewidth=1.5)\n",
    "plt.legend()\n",
    "\n",
    "plt.yticks([0,0.5,1,1.5,2,2.5,3,3.5,4,4.5,5])\n",
    "plt.xticks()\n",
    "\n",
    "plt.xlabel('ось абсцисс')\n",
    "plt.ylabel('ось ординат')\n",
    "\n",
    "plt.show()"
   ]
  },
  {
   "cell_type": "code",
   "execution_count": null,
   "metadata": {},
   "outputs": [],
   "source": [
    "x = np.linspace(0, 5, 50)\n",
    "y = x * (x - 2) * (x - 4)\n",
    "\n",
    "plt.figure(figsize=(8, 4))\n",
    "\n",
    "plt.scatter(x, y, label='line_1')\n",
    "\n",
    "plt.grid(linewidth=1)\n",
    "plt.legend()\n",
    "\n",
    "plt.yticks()\n",
    "plt.xticks()\n",
    "\n",
    "plt.xlabel('ось абсцисс')\n",
    "plt.ylabel('ось ординат')\n",
    "\n",
    "plt.show()"
   ]
  },
  {
   "cell_type": "markdown",
   "metadata": {},
   "source": [
    "## Данные"
   ]
  },
  {
   "cell_type": "code",
   "execution_count": null,
   "metadata": {},
   "outputs": [],
   "source": [
    "pd.read_csv('beauty.csv', nrows=2)"
   ]
  },
  {
   "cell_type": "code",
   "execution_count": null,
   "metadata": {},
   "outputs": [],
   "source": [
    "df = pd.read_csv('beauty.csv', sep=';')\n",
    "df.head()"
   ]
  },
  {
   "cell_type": "markdown",
   "metadata": {},
   "source": [
    "## Графики"
   ]
  },
  {
   "cell_type": "code",
   "execution_count": null,
   "metadata": {},
   "outputs": [],
   "source": [
    "df['wage'].hist(figsize=(6, 4), bins=50)\n",
    "\n",
    "plt.show()"
   ]
  },
  {
   "cell_type": "code",
   "execution_count": null,
   "metadata": {},
   "outputs": [],
   "source": [
    "sns.distplot(df['wage'], bins=50)"
   ]
  },
  {
   "cell_type": "code",
   "execution_count": null,
   "metadata": {},
   "outputs": [],
   "source": [
    "df[['wage', 'exper']].hist(figsize=(10, 4), bins=60)"
   ]
  },
  {
   "cell_type": "code",
   "execution_count": null,
   "metadata": {},
   "outputs": [],
   "source": [
    "df['female'].hist()"
   ]
  },
  {
   "cell_type": "code",
   "execution_count": null,
   "metadata": {},
   "outputs": [],
   "source": [
    "sns.countplot(x='female', data=df)"
   ]
  },
  {
   "cell_type": "code",
   "execution_count": null,
   "metadata": {},
   "outputs": [],
   "source": [
    "sns.countplot(y='female', data=df)"
   ]
  },
  {
   "cell_type": "code",
   "execution_count": null,
   "metadata": {},
   "outputs": [],
   "source": [
    "sns.countplot(x='female', hue='looks', data=df)"
   ]
  },
  {
   "cell_type": "code",
   "execution_count": null,
   "metadata": {},
   "outputs": [],
   "source": [
    "fig, axes = plt.subplots(nrows=1, ncols=2, figsize=(12, 4))\n",
    "\n",
    "sns.countplot(x='female', data=df, ax=axes[0])\n",
    "sns.countplot(x='looks', data=df, ax=axes[1])"
   ]
  },
  {
   "cell_type": "code",
   "execution_count": null,
   "metadata": {},
   "outputs": [],
   "source": [
    "plt.pie(df.groupby('female')['wage'].count())"
   ]
  },
  {
   "cell_type": "code",
   "execution_count": null,
   "metadata": {},
   "outputs": [],
   "source": [
    "df.groupby('female')['wage'].count().plot(kind='pie')"
   ]
  },
  {
   "cell_type": "code",
   "execution_count": null,
   "metadata": {},
   "outputs": [],
   "source": [
    "sns.boxplot(x='wage', data=df)"
   ]
  },
  {
   "cell_type": "code",
   "execution_count": null,
   "metadata": {},
   "outputs": [],
   "source": [
    "_, axes = plt.subplots(1, 2, sharey=True, figsize=(6, 4))\n",
    "\n",
    "sns.boxplot(\n",
    "    data=df['wage'], ax=axes[0]\n",
    ")\n",
    "sns.violinplot(\n",
    "    data=df['wage'], ax=axes[1]\n",
    ")"
   ]
  },
  {
   "cell_type": "code",
   "execution_count": null,
   "metadata": {},
   "outputs": [],
   "source": [
    "sns.jointplot(x='wage', y='exper', data=df, kind='scatter')"
   ]
  },
  {
   "cell_type": "code",
   "execution_count": null,
   "metadata": {},
   "outputs": [],
   "source": [
    "sns.jointplot('exper', 'wage', data=df, kind=\"kde\", color=\"r\")"
   ]
  },
  {
   "cell_type": "code",
   "execution_count": null,
   "metadata": {},
   "outputs": [],
   "source": [
    "df.groupby('looks').wage.sum().plot(kind='bar', rot=75, color='green');"
   ]
  },
  {
   "cell_type": "code",
   "execution_count": null,
   "metadata": {},
   "outputs": [],
   "source": [
    "df[['wage', 'exper']].plot(\n",
    "    kind='density',\n",
    "    subplots=True,\n",
    "    layout=(1, 2),\n",
    "    sharex=False,\n",
    "    figsize=(10, 4)\n",
    ")"
   ]
  },
  {
   "cell_type": "markdown",
   "metadata": {},
   "source": [
    "## 3D графики"
   ]
  },
  {
   "cell_type": "code",
   "execution_count": 90,
   "metadata": {},
   "outputs": [],
   "source": [
    "from sklearn import datasets\n",
    "from sklearn.decomposition import PCA\n",
    "from sklearn.manifold import TSNE\n",
    "\n",
    "from mpl_toolkits.mplot3d import Axes3D"
   ]
  },
  {
   "cell_type": "code",
   "execution_count": null,
   "metadata": {},
   "outputs": [],
   "source": [
    "iris = datasets.load_iris()"
   ]
  },
  {
   "cell_type": "code",
   "execution_count": null,
   "metadata": {},
   "outputs": [],
   "source": [
    "dir(iris)"
   ]
  },
  {
   "cell_type": "code",
   "execution_count": null,
   "metadata": {},
   "outputs": [],
   "source": [
    "iris.data[:3]"
   ]
  },
  {
   "cell_type": "code",
   "execution_count": null,
   "metadata": {},
   "outputs": [],
   "source": [
    "iris.target[:3]"
   ]
  },
  {
   "cell_type": "code",
   "execution_count": null,
   "metadata": {},
   "outputs": [],
   "source": [
    "iris.target_names[:3]"
   ]
  },
  {
   "cell_type": "code",
   "execution_count": null,
   "metadata": {},
   "outputs": [],
   "source": [
    "X = iris.data\n",
    "y = iris.target"
   ]
  },
  {
   "cell_type": "code",
   "execution_count": null,
   "metadata": {},
   "outputs": [],
   "source": [
    "X.shape"
   ]
  },
  {
   "cell_type": "code",
   "execution_count": null,
   "metadata": {},
   "outputs": [],
   "source": [
    "pca = PCA(n_components=3)\n",
    "\n",
    "X_reduced = pca.fit_transform(iris.data)"
   ]
  },
  {
   "cell_type": "code",
   "execution_count": null,
   "metadata": {},
   "outputs": [],
   "source": [
    "X_reduced.shape"
   ]
  },
  {
   "cell_type": "code",
   "execution_count": null,
   "metadata": {},
   "outputs": [],
   "source": [
    "fig = plt.figure(1, figsize=(8, 6))\n",
    "\n",
    "ax = Axes3D(fig, elev=-150, azim=110)\n",
    "\n",
    "ax.scatter(\n",
    "    X_reduced[:, 0], X_reduced[:, 1], X_reduced[:, 2],\n",
    "    c=y, cmap=plt.cm.Set1, edgecolor='k', s=40\n",
    ")\n",
    "\n",
    "ax.set_title(\"First three PCA directions\")\n",
    "\n",
    "ax.set_xlabel(\"1st eigenvector\")\n",
    "ax.w_xaxis.set_ticklabels([])\n",
    "\n",
    "ax.set_ylabel(\"2nd eigenvector\")\n",
    "ax.w_yaxis.set_ticklabels([])\n",
    "\n",
    "ax.set_zlabel(\"3rd eigenvector\")\n",
    "ax.w_zaxis.set_ticklabels([])\n",
    "\n",
    "plt.show()"
   ]
  },
  {
   "cell_type": "code",
   "execution_count": null,
   "metadata": {},
   "outputs": [],
   "source": [
    "tsne = TSNE(n_components=3)\n",
    "\n",
    "X_reduced_tsne = tsne.fit_transform(iris.data)\n",
    "X_reduced = X_reduced_tsne"
   ]
  },
  {
   "cell_type": "markdown",
   "metadata": {},
   "source": [
    "## Анимация"
   ]
  },
  {
   "cell_type": "code",
   "execution_count": null,
   "metadata": {},
   "outputs": [],
   "source": [
    "from sklearn.datasets import load_iris\n",
    "from sklearn.decomposition import PCA\n",
    "from sklearn.model_selection import train_test_split\n",
    "\n",
    "import matplotlib.animation as animation\n",
    "import matplotlib.lines as mlines\n",
    "\n",
    "from matplotlib.animation import PillowWriter"
   ]
  },
  {
   "cell_type": "code",
   "execution_count": null,
   "metadata": {},
   "outputs": [],
   "source": [
    "def newline(p1, p2, color=None):\n",
    "    #function kredits to: https://fooobar.com/questions/626491/how-to-draw-a-line-with-matplotlib\n",
    "    \n",
    "    ax = plt.gca()\n",
    "    \n",
    "    xmin, xmax = ax.get_xbound()\n",
    "\n",
    "    if p2[0] == p1[0]:\n",
    "        xmin = xmax = p1[0]\n",
    "        ymin, ymax = ax.get_ybound()\n",
    "    else:\n",
    "        ymax = p1[1]+(p2[1]-p1[1])/(p2[0]-p1[0])*(xmax-p1[0])\n",
    "        ymin = p1[1]+(p2[1]-p1[1])/(p2[0]-p1[0])*(xmin-p1[0])\n",
    "\n",
    "    l = mlines.Line2D([xmin,xmax], [ymin,ymax], color=color)\n",
    "    ax.add_line(l)\n",
    "    \n",
    "    return l"
   ]
  },
  {
   "cell_type": "code",
   "execution_count": null,
   "metadata": {},
   "outputs": [],
   "source": [
    "def one_image(w, X, Y):\n",
    "    axes = plt.gca()\n",
    "    \n",
    "    axes.set_xlim([-4,4])\n",
    "    axes.set_ylim([-1.5,1.5])\n",
    "    \n",
    "    d1 = {-1:'green', 1:'red'}\n",
    "    im = plt.scatter(X[:,0], X[:,1], c=[d1[y] for y in Y])\n",
    "    im = newline([0,-w[2]/w[1]],[-w[2]/w[0],0], 'blue')\n",
    "\n",
    "    return im"
   ]
  },
  {
   "cell_type": "code",
   "execution_count": null,
   "metadata": {},
   "outputs": [],
   "source": [
    "iris = load_iris()"
   ]
  },
  {
   "cell_type": "code",
   "execution_count": null,
   "metadata": {},
   "outputs": [],
   "source": [
    "X = iris.data\n",
    "Y = iris.target"
   ]
  },
  {
   "cell_type": "code",
   "execution_count": null,
   "metadata": {},
   "outputs": [],
   "source": [
    "pca = PCA(n_components=2)\n",
    "X = pca.fit_transform(X)"
   ]
  },
  {
   "cell_type": "code",
   "execution_count": null,
   "metadata": {},
   "outputs": [],
   "source": [
    "np.unique(Y)"
   ]
  },
  {
   "cell_type": "code",
   "execution_count": null,
   "metadata": {},
   "outputs": [],
   "source": [
    "# [0,1,2] --> [False, False, True] --> [0,0,1] --> [0,0,2] --> [-1,1,1]\n",
    "\n",
    "Y = (Y == 2).astype(int) * 2 - 1"
   ]
  },
  {
   "cell_type": "code",
   "execution_count": null,
   "metadata": {},
   "outputs": [],
   "source": [
    "X_train, X_test, Y_train, Y_test = train_test_split(\n",
    "    X, Y, test_size=0.4, random_state=2021\n",
    ")"
   ]
  },
  {
   "cell_type": "code",
   "execution_count": null,
   "metadata": {},
   "outputs": [],
   "source": [
    "history_w = np.array([\n",
    "    [ 1.40100620e-02,  3.82414425e-02,  9.29992169e-03],\n",
    "    [ 9.34759319e-02,  1.38405275e-02, -2.07000784e-02],\n",
    "    [ 1.77059209e-01,  2.08938874e-02, -5.07000782e-02],\n",
    "    [ 2.57582976e-01,  1.13119698e-02, -8.07000777e-02],\n",
    "    [ 2.57845336e-01,  3.30044268e-02, -1.10700077e-01],\n",
    "    [ 2.48875308e-01,  4.34713607e-02, -1.40700076e-01],\n",
    "    [ 2.10330535e-01,  2.29165461e-02, -1.70700074e-01],\n",
    "    [ 2.88030722e-01,  1.60452308e-02, -2.00700073e-01],\n",
    "    [ 3.65670311e-01,  6.38421381e-04, -2.30700071e-01],\n",
    "    [ 4.22698556e-01,  4.13726013e-03, -2.00700068e-01],\n",
    "    [ 3.91374597e-01, -2.71359690e-03, -2.30700066e-01],\n",
    "    [ 4.56157722e-01, -9.23192424e-03, -2.00700064e-01],\n",
    "    [ 4.56157718e-01, -9.23192415e-03, -2.00700062e-01],\n",
    "    [ 4.56157713e-01, -9.23192405e-03, -2.00700060e-01],\n",
    "    [ 5.15303640e-01, -1.46237611e-02, -1.70700058e-01],\n",
    "    [ 5.15303635e-01, -1.46237609e-02, -1.70700056e-01],\n",
    "    [ 5.15303630e-01, -1.46237608e-02, -1.70700055e-01],\n",
    "    [ 5.15303625e-01, -1.46237607e-02, -1.70700053e-01],\n",
    "    [ 5.15303619e-01, -1.46237605e-02, -1.70700051e-01],\n",
    "    [ 5.51273647e-01, -3.28065062e-02, -1.40700049e-01],\n",
    "    [ 5.51273642e-01, -3.28065059e-02, -1.40700048e-01],\n",
    "    [ 5.51273636e-01, -3.28065055e-02, -1.40700047e-01],\n",
    "    [ 5.66508857e-01,  5.17263051e-03, -1.70700045e-01],\n",
    "    [ 5.66508852e-01,  5.17263046e-03, -1.70700044e-01],\n",
    "    [ 5.66508846e-01,  5.17263040e-03, -1.70700042e-01],\n",
    "    [ 5.66508840e-01,  5.17263035e-03, -1.70700040e-01],\n",
    "    [ 5.48868641e-01,  1.97012529e-02, -2.00700038e-01],\n",
    "    [ 5.48868636e-01,  1.97012527e-02, -2.00700036e-01],\n",
    "    [ 5.48868630e-01,  1.97012525e-02, -2.00700034e-01],\n",
    "    [ 5.54086386e-01,  2.73468786e-02, -2.30700032e-01],\n",
    "    [ 5.96543457e-01,  1.00993879e-02, -2.00700030e-01],\n",
    "    [ 5.96543451e-01,  1.00993878e-02, -2.00700028e-01],\n",
    "    [ 5.96543445e-01,  1.00993877e-02, -2.00700026e-01],\n",
    "    [ 6.38206423e-01,  3.96740775e-03, -1.70700024e-01],\n",
    "    [ 6.38206417e-01,  3.96740771e-03, -1.70700022e-01],\n",
    "    [ 6.11201179e-01, -5.88772655e-03, -2.00700021e-01],\n",
    "    [ 6.52906839e-01, -1.43675546e-02, -1.70700019e-01],\n",
    "    [ 6.52906832e-01, -1.43675545e-02, -1.70700017e-01],\n",
    "    [ 6.52906826e-01, -1.43675543e-02, -1.70700015e-01],\n",
    "    [ 6.42197374e-01,  7.79748602e-04, -2.00700014e-01],\n",
    "    [ 6.03251852e-01,  1.06133678e-02, -2.30700012e-01],\n",
    "    [ 6.03251846e-01,  1.06133677e-02, -2.30700009e-01],\n",
    "    [ 6.05295634e-01,  3.17685316e-02, -2.60700007e-01],\n",
    "    [ 6.05295628e-01,  3.17685313e-02, -2.60700004e-01],\n",
    "    [ 6.05295622e-01,  3.17685310e-02, -2.60700002e-01],\n",
    "    [ 5.85487103e-01,  4.23576206e-02, -2.90699999e-01],\n",
    "    [ 5.85487097e-01,  4.23576202e-02, -2.90699996e-01],\n",
    "    [ 5.57651268e-01,  2.83422349e-02, -3.20699993e-01],\n",
    "    [ 5.53558401e-01,  3.77632078e-02, -3.50699990e-01],\n",
    "    [ 5.12157603e-01,  5.03918360e-02, -3.80699987e-01]\n",
    "])"
   ]
  },
  {
   "cell_type": "code",
   "execution_count": null,
   "metadata": {},
   "outputs": [],
   "source": [
    "fig = plt.figure()\n",
    "\n",
    "images = []\n",
    "\n",
    "for i in range(50):\n",
    "    im = one_image(history_w[i], X_train, Y_train)\n",
    "    images.append([im])\n",
    "\n",
    "ani = animation.ArtistAnimation(\n",
    "    fig=fig, artists=images,\n",
    "    interval=20, blit=True, repeat_delay=500\n",
    ")"
   ]
  },
  {
   "cell_type": "code",
   "execution_count": null,
   "metadata": {},
   "outputs": [],
   "source": [
    "ani"
   ]
  },
  {
   "cell_type": "code",
   "execution_count": null,
   "metadata": {},
   "outputs": [],
   "source": [
    "mpl.rc('animation', html='html5')"
   ]
  },
  {
   "cell_type": "code",
   "execution_count": 114,
   "metadata": {},
   "outputs": [],
   "source": [
    "ani.save(\"my_demo.gif\", writer='imagemagick')"
   ]
  },
  {
   "cell_type": "code",
   "execution_count": 146,
   "metadata": {},
   "outputs": [
    {
     "data": {
      "text/html": [
       "<img src=\"my_demo.gif\"/>"
      ],
      "text/plain": [
       "<IPython.core.display.Image object>"
      ]
     },
     "execution_count": 146,
     "metadata": {},
     "output_type": "execute_result"
    }
   ],
   "source": [
    "from IPython.display import Image\n",
    "\n",
    "Image(url='my_demo.gif')"
   ]
  },
  {
   "cell_type": "markdown",
   "metadata": {},
   "source": [
    "## Plotly"
   ]
  },
  {
   "cell_type": "code",
   "execution_count": null,
   "metadata": {},
   "outputs": [],
   "source": [
    "from plotly.offline import download_plotlyjs, init_notebook_mode, plot, iplot\n",
    "import plotly\n",
    "import plotly.graph_objs as go\n",
    "\n",
    "init_notebook_mode(connected=True)"
   ]
  },
  {
   "cell_type": "code",
   "execution_count": null,
   "metadata": {},
   "outputs": [],
   "source": [
    "df.head()"
   ]
  },
  {
   "cell_type": "code",
   "execution_count": null,
   "metadata": {},
   "outputs": [],
   "source": [
    "wage_df = df.groupby('looks')[['wage']].sum().join(\n",
    "    df.groupby('looks')[['female']].sum()\n",
    ")\n",
    "wage_df.columns = ['Wage', 'Number of female']"
   ]
  },
  {
   "cell_type": "code",
   "execution_count": null,
   "metadata": {},
   "outputs": [],
   "source": [
    "wage_df"
   ]
  },
  {
   "cell_type": "code",
   "execution_count": null,
   "metadata": {},
   "outputs": [],
   "source": [
    "trace0 = go.Bar(\n",
    "    x=wage_df.index,\n",
    "    y=wage_df['Wage'],\n",
    "    name='wage'\n",
    ")\n",
    "\n",
    "trace1 = go.Bar(\n",
    "    x=wage_df.index,\n",
    "    y=wage_df['Number of female'],\n",
    "    name='# of female'\n",
    ")\n",
    "\n",
    "data = [trace0, trace1]\n",
    "layout = {\n",
    "    'title': 'Wage by look',\n",
    "    'xaxis': {\n",
    "        'title': 'look'\n",
    "    }\n",
    "}\n",
    "\n",
    "fig = go.Figure(data=data, layout=layout)\n",
    "\n",
    "iplot(fig, show_link=False)"
   ]
  }
 ],
 "metadata": {
  "kernelspec": {
   "display_name": "asrlbq2",
   "language": "python",
   "name": "asrlbq2"
  },
  "language_info": {
   "codemirror_mode": {
    "name": "ipython",
    "version": 3
   },
   "file_extension": ".py",
   "mimetype": "text/x-python",
   "name": "python",
   "nbconvert_exporter": "python",
   "pygments_lexer": "ipython3",
   "version": "3.7.9"
  }
 },
 "nbformat": 4,
 "nbformat_minor": 2
}
